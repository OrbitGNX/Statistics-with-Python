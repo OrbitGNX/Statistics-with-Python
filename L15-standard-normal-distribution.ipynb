{
 "cells": [
  {
   "cell_type": "markdown",
   "metadata": {},
   "source": [
    "#  Normal Distribution <hr style=\"border:2.5px solid #126782\"></hr>"
   ]
  },
  {
   "cell_type": "markdown",
   "metadata": {},
   "source": [
    "Data Analyst: Gyro A. Madrona<br>\n",
    "Department: Electrical Engineering"
   ]
  },
  {
   "cell_type": "code",
   "execution_count": 1,
   "metadata": {},
   "outputs": [],
   "source": [
    "# imports and packages\n",
    "import pandas as pd\n",
    "import numpy as np\n",
    "import matplotlib.pyplot as plt\n",
    "from scipy import stats"
   ]
  },
  {
   "cell_type": "markdown",
   "metadata": {},
   "source": [
    "# Z-score"
   ]
  },
  {
   "cell_type": "code",
   "execution_count": 3,
   "metadata": {},
   "outputs": [
    {
     "data": {
      "application/vnd.microsoft.datawrangler.viewer.v0+json": {
       "columns": [
        {
         "name": "index",
         "rawType": "int64",
         "type": "integer"
        },
        {
         "name": "Dataset",
         "rawType": "int64",
         "type": "integer"
        }
       ],
       "conversionMethod": "pd.DataFrame",
       "ref": "5feaae77-9d41-49b1-89f3-9c20dbe47507",
       "rows": [
        [
         "0",
         "1"
        ],
        [
         "1",
         "2"
        ],
        [
         "2",
         "2"
        ],
        [
         "3",
         "3"
        ],
        [
         "4",
         "3"
        ],
        [
         "5",
         "3"
        ],
        [
         "6",
         "4"
        ],
        [
         "7",
         "4"
        ],
        [
         "8",
         "5"
        ]
       ],
       "shape": {
        "columns": 1,
        "rows": 9
       }
      },
      "text/html": [
       "<div>\n",
       "<style scoped>\n",
       "    .dataframe tbody tr th:only-of-type {\n",
       "        vertical-align: middle;\n",
       "    }\n",
       "\n",
       "    .dataframe tbody tr th {\n",
       "        vertical-align: top;\n",
       "    }\n",
       "\n",
       "    .dataframe thead th {\n",
       "        text-align: right;\n",
       "    }\n",
       "</style>\n",
       "<table border=\"1\" class=\"dataframe\">\n",
       "  <thead>\n",
       "    <tr style=\"text-align: right;\">\n",
       "      <th></th>\n",
       "      <th>Dataset</th>\n",
       "    </tr>\n",
       "  </thead>\n",
       "  <tbody>\n",
       "    <tr>\n",
       "      <th>0</th>\n",
       "      <td>1</td>\n",
       "    </tr>\n",
       "    <tr>\n",
       "      <th>1</th>\n",
       "      <td>2</td>\n",
       "    </tr>\n",
       "    <tr>\n",
       "      <th>2</th>\n",
       "      <td>2</td>\n",
       "    </tr>\n",
       "    <tr>\n",
       "      <th>3</th>\n",
       "      <td>3</td>\n",
       "    </tr>\n",
       "    <tr>\n",
       "      <th>4</th>\n",
       "      <td>3</td>\n",
       "    </tr>\n",
       "    <tr>\n",
       "      <th>5</th>\n",
       "      <td>3</td>\n",
       "    </tr>\n",
       "    <tr>\n",
       "      <th>6</th>\n",
       "      <td>4</td>\n",
       "    </tr>\n",
       "    <tr>\n",
       "      <th>7</th>\n",
       "      <td>4</td>\n",
       "    </tr>\n",
       "    <tr>\n",
       "      <th>8</th>\n",
       "      <td>5</td>\n",
       "    </tr>\n",
       "  </tbody>\n",
       "</table>\n",
       "</div>"
      ],
      "text/plain": [
       "   Dataset\n",
       "0        1\n",
       "1        2\n",
       "2        2\n",
       "3        3\n",
       "4        3\n",
       "5        3\n",
       "6        4\n",
       "7        4\n",
       "8        5"
      ]
     },
     "execution_count": 3,
     "metadata": {},
     "output_type": "execute_result"
    }
   ],
   "source": [
    "# creating a dataframe\n",
    "df = pd.DataFrame([1,2,2,3,3,3,4,4,5],columns=['Dataset'])\n",
    "df"
   ]
  },
  {
   "cell_type": "code",
   "execution_count": 4,
   "metadata": {},
   "outputs": [
    {
     "data": {
      "application/vnd.microsoft.datawrangler.viewer.v0+json": {
       "columns": [
        {
         "name": "index",
         "rawType": "object",
         "type": "string"
        },
        {
         "name": "Dataset",
         "rawType": "float64",
         "type": "float"
        }
       ],
       "conversionMethod": "pd.DataFrame",
       "ref": "b5112cc1-8ca5-4326-b94c-f207ed1d79bf",
       "rows": [
        [
         "count",
         "9.0"
        ],
        [
         "mean",
         "3.0"
        ],
        [
         "std",
         "1.224744871391589"
        ],
        [
         "min",
         "1.0"
        ],
        [
         "25%",
         "2.0"
        ],
        [
         "50%",
         "3.0"
        ],
        [
         "75%",
         "4.0"
        ],
        [
         "max",
         "5.0"
        ]
       ],
       "shape": {
        "columns": 1,
        "rows": 8
       }
      },
      "text/html": [
       "<div>\n",
       "<style scoped>\n",
       "    .dataframe tbody tr th:only-of-type {\n",
       "        vertical-align: middle;\n",
       "    }\n",
       "\n",
       "    .dataframe tbody tr th {\n",
       "        vertical-align: top;\n",
       "    }\n",
       "\n",
       "    .dataframe thead th {\n",
       "        text-align: right;\n",
       "    }\n",
       "</style>\n",
       "<table border=\"1\" class=\"dataframe\">\n",
       "  <thead>\n",
       "    <tr style=\"text-align: right;\">\n",
       "      <th></th>\n",
       "      <th>Dataset</th>\n",
       "    </tr>\n",
       "  </thead>\n",
       "  <tbody>\n",
       "    <tr>\n",
       "      <th>count</th>\n",
       "      <td>9.000000</td>\n",
       "    </tr>\n",
       "    <tr>\n",
       "      <th>mean</th>\n",
       "      <td>3.000000</td>\n",
       "    </tr>\n",
       "    <tr>\n",
       "      <th>std</th>\n",
       "      <td>1.224745</td>\n",
       "    </tr>\n",
       "    <tr>\n",
       "      <th>min</th>\n",
       "      <td>1.000000</td>\n",
       "    </tr>\n",
       "    <tr>\n",
       "      <th>25%</th>\n",
       "      <td>2.000000</td>\n",
       "    </tr>\n",
       "    <tr>\n",
       "      <th>50%</th>\n",
       "      <td>3.000000</td>\n",
       "    </tr>\n",
       "    <tr>\n",
       "      <th>75%</th>\n",
       "      <td>4.000000</td>\n",
       "    </tr>\n",
       "    <tr>\n",
       "      <th>max</th>\n",
       "      <td>5.000000</td>\n",
       "    </tr>\n",
       "  </tbody>\n",
       "</table>\n",
       "</div>"
      ],
      "text/plain": [
       "        Dataset\n",
       "count  9.000000\n",
       "mean   3.000000\n",
       "std    1.224745\n",
       "min    1.000000\n",
       "25%    2.000000\n",
       "50%    3.000000\n",
       "75%    4.000000\n",
       "max    5.000000"
      ]
     },
     "execution_count": 4,
     "metadata": {},
     "output_type": "execute_result"
    }
   ],
   "source": [
    "# summary of statistics\n",
    "df.describe()"
   ]
  },
  {
   "cell_type": "code",
   "execution_count": 5,
   "metadata": {},
   "outputs": [
    {
     "data": {
      "application/vnd.microsoft.datawrangler.viewer.v0+json": {
       "columns": [
        {
         "name": "index",
         "rawType": "int64",
         "type": "integer"
        },
        {
         "name": "Dataset",
         "rawType": "int64",
         "type": "integer"
        },
        {
         "name": "Z-score",
         "rawType": "float64",
         "type": "float"
        }
       ],
       "conversionMethod": "pd.DataFrame",
       "ref": "0909c3d8-dde0-4ca8-b74c-cef10b3415ce",
       "rows": [
        [
         "0",
         "1",
         "-1.6329931618554523"
        ],
        [
         "1",
         "2",
         "-0.8164965809277261"
        ],
        [
         "2",
         "2",
         "-0.8164965809277261"
        ],
        [
         "3",
         "3",
         "0.0"
        ],
        [
         "4",
         "3",
         "0.0"
        ],
        [
         "5",
         "3",
         "0.0"
        ],
        [
         "6",
         "4",
         "0.8164965809277261"
        ],
        [
         "7",
         "4",
         "0.8164965809277261"
        ],
        [
         "8",
         "5",
         "1.6329931618554523"
        ]
       ],
       "shape": {
        "columns": 2,
        "rows": 9
       }
      },
      "text/html": [
       "<div>\n",
       "<style scoped>\n",
       "    .dataframe tbody tr th:only-of-type {\n",
       "        vertical-align: middle;\n",
       "    }\n",
       "\n",
       "    .dataframe tbody tr th {\n",
       "        vertical-align: top;\n",
       "    }\n",
       "\n",
       "    .dataframe thead th {\n",
       "        text-align: right;\n",
       "    }\n",
       "</style>\n",
       "<table border=\"1\" class=\"dataframe\">\n",
       "  <thead>\n",
       "    <tr style=\"text-align: right;\">\n",
       "      <th></th>\n",
       "      <th>Dataset</th>\n",
       "      <th>Z-score</th>\n",
       "    </tr>\n",
       "  </thead>\n",
       "  <tbody>\n",
       "    <tr>\n",
       "      <th>0</th>\n",
       "      <td>1</td>\n",
       "      <td>-1.632993</td>\n",
       "    </tr>\n",
       "    <tr>\n",
       "      <th>1</th>\n",
       "      <td>2</td>\n",
       "      <td>-0.816497</td>\n",
       "    </tr>\n",
       "    <tr>\n",
       "      <th>2</th>\n",
       "      <td>2</td>\n",
       "      <td>-0.816497</td>\n",
       "    </tr>\n",
       "    <tr>\n",
       "      <th>3</th>\n",
       "      <td>3</td>\n",
       "      <td>0.000000</td>\n",
       "    </tr>\n",
       "    <tr>\n",
       "      <th>4</th>\n",
       "      <td>3</td>\n",
       "      <td>0.000000</td>\n",
       "    </tr>\n",
       "    <tr>\n",
       "      <th>5</th>\n",
       "      <td>3</td>\n",
       "      <td>0.000000</td>\n",
       "    </tr>\n",
       "    <tr>\n",
       "      <th>6</th>\n",
       "      <td>4</td>\n",
       "      <td>0.816497</td>\n",
       "    </tr>\n",
       "    <tr>\n",
       "      <th>7</th>\n",
       "      <td>4</td>\n",
       "      <td>0.816497</td>\n",
       "    </tr>\n",
       "    <tr>\n",
       "      <th>8</th>\n",
       "      <td>5</td>\n",
       "      <td>1.632993</td>\n",
       "    </tr>\n",
       "  </tbody>\n",
       "</table>\n",
       "</div>"
      ],
      "text/plain": [
       "   Dataset   Z-score\n",
       "0        1 -1.632993\n",
       "1        2 -0.816497\n",
       "2        2 -0.816497\n",
       "3        3  0.000000\n",
       "4        3  0.000000\n",
       "5        3  0.000000\n",
       "6        4  0.816497\n",
       "7        4  0.816497\n",
       "8        5  1.632993"
      ]
     },
     "execution_count": 5,
     "metadata": {},
     "output_type": "execute_result"
    }
   ],
   "source": [
    "# Z-scores\n",
    "df['Z-score'] = stats.zscore(df['Dataset'],ddof=1)\n",
    "df"
   ]
  },
  {
   "cell_type": "code",
   "execution_count": 7,
   "metadata": {},
   "outputs": [
    {
     "data": {
      "application/vnd.microsoft.datawrangler.viewer.v0+json": {
       "columns": [
        {
         "name": "Sample",
         "rawType": "int64",
         "type": "integer"
        },
        {
         "name": "Current",
         "rawType": "float64",
         "type": "float"
        }
       ],
       "conversionMethod": "pd.DataFrame",
       "ref": "93afde6b-3f70-4ddd-846e-245c81d419da",
       "rows": [
        [
         "1",
         "12.0"
        ],
        [
         "2",
         "15.0"
        ],
        [
         "3",
         "8.3"
        ],
        [
         "4",
         "9.7"
        ],
        [
         "5",
         "12.0"
        ],
        [
         "6",
         "13.9"
        ],
        [
         "7",
         "14.1"
        ],
        [
         "8",
         "9.2"
        ],
        [
         "9",
         "12.4"
        ],
        [
         "10",
         "13.7"
        ],
        [
         "11",
         "10.6"
        ],
        [
         "12",
         "21.5"
        ],
        [
         "13",
         "12.0"
        ],
        [
         "14",
         "9.3"
        ],
        [
         "15",
         "11.2"
        ],
        [
         "16",
         "3.3"
        ],
        [
         "17",
         "12.4"
        ],
        [
         "18",
         "12.3"
        ],
        [
         "19",
         "13.8"
        ],
        [
         "20",
         "10.5"
        ],
        [
         "21",
         "10.4"
        ],
        [
         "22",
         "15.0"
        ],
        [
         "23",
         "12.7"
        ],
        [
         "24",
         "14.4"
        ],
        [
         "25",
         "11.0"
        ],
        [
         "26",
         "9.1"
        ],
        [
         "27",
         "10.2"
        ],
        [
         "28",
         "12.4"
        ],
        [
         "29",
         "7.0"
        ],
        [
         "30",
         "14.8"
        ]
       ],
       "shape": {
        "columns": 1,
        "rows": 30
       }
      },
      "text/html": [
       "<div>\n",
       "<style scoped>\n",
       "    .dataframe tbody tr th:only-of-type {\n",
       "        vertical-align: middle;\n",
       "    }\n",
       "\n",
       "    .dataframe tbody tr th {\n",
       "        vertical-align: top;\n",
       "    }\n",
       "\n",
       "    .dataframe thead th {\n",
       "        text-align: right;\n",
       "    }\n",
       "</style>\n",
       "<table border=\"1\" class=\"dataframe\">\n",
       "  <thead>\n",
       "    <tr style=\"text-align: right;\">\n",
       "      <th></th>\n",
       "      <th>Current</th>\n",
       "    </tr>\n",
       "    <tr>\n",
       "      <th>Sample</th>\n",
       "      <th></th>\n",
       "    </tr>\n",
       "  </thead>\n",
       "  <tbody>\n",
       "    <tr>\n",
       "      <th>1</th>\n",
       "      <td>12.0</td>\n",
       "    </tr>\n",
       "    <tr>\n",
       "      <th>2</th>\n",
       "      <td>15.0</td>\n",
       "    </tr>\n",
       "    <tr>\n",
       "      <th>3</th>\n",
       "      <td>8.3</td>\n",
       "    </tr>\n",
       "    <tr>\n",
       "      <th>4</th>\n",
       "      <td>9.7</td>\n",
       "    </tr>\n",
       "    <tr>\n",
       "      <th>5</th>\n",
       "      <td>12.0</td>\n",
       "    </tr>\n",
       "    <tr>\n",
       "      <th>6</th>\n",
       "      <td>13.9</td>\n",
       "    </tr>\n",
       "    <tr>\n",
       "      <th>7</th>\n",
       "      <td>14.1</td>\n",
       "    </tr>\n",
       "    <tr>\n",
       "      <th>8</th>\n",
       "      <td>9.2</td>\n",
       "    </tr>\n",
       "    <tr>\n",
       "      <th>9</th>\n",
       "      <td>12.4</td>\n",
       "    </tr>\n",
       "    <tr>\n",
       "      <th>10</th>\n",
       "      <td>13.7</td>\n",
       "    </tr>\n",
       "    <tr>\n",
       "      <th>11</th>\n",
       "      <td>10.6</td>\n",
       "    </tr>\n",
       "    <tr>\n",
       "      <th>12</th>\n",
       "      <td>21.5</td>\n",
       "    </tr>\n",
       "    <tr>\n",
       "      <th>13</th>\n",
       "      <td>12.0</td>\n",
       "    </tr>\n",
       "    <tr>\n",
       "      <th>14</th>\n",
       "      <td>9.3</td>\n",
       "    </tr>\n",
       "    <tr>\n",
       "      <th>15</th>\n",
       "      <td>11.2</td>\n",
       "    </tr>\n",
       "    <tr>\n",
       "      <th>16</th>\n",
       "      <td>3.3</td>\n",
       "    </tr>\n",
       "    <tr>\n",
       "      <th>17</th>\n",
       "      <td>12.4</td>\n",
       "    </tr>\n",
       "    <tr>\n",
       "      <th>18</th>\n",
       "      <td>12.3</td>\n",
       "    </tr>\n",
       "    <tr>\n",
       "      <th>19</th>\n",
       "      <td>13.8</td>\n",
       "    </tr>\n",
       "    <tr>\n",
       "      <th>20</th>\n",
       "      <td>10.5</td>\n",
       "    </tr>\n",
       "    <tr>\n",
       "      <th>21</th>\n",
       "      <td>10.4</td>\n",
       "    </tr>\n",
       "    <tr>\n",
       "      <th>22</th>\n",
       "      <td>15.0</td>\n",
       "    </tr>\n",
       "    <tr>\n",
       "      <th>23</th>\n",
       "      <td>12.7</td>\n",
       "    </tr>\n",
       "    <tr>\n",
       "      <th>24</th>\n",
       "      <td>14.4</td>\n",
       "    </tr>\n",
       "    <tr>\n",
       "      <th>25</th>\n",
       "      <td>11.0</td>\n",
       "    </tr>\n",
       "    <tr>\n",
       "      <th>26</th>\n",
       "      <td>9.1</td>\n",
       "    </tr>\n",
       "    <tr>\n",
       "      <th>27</th>\n",
       "      <td>10.2</td>\n",
       "    </tr>\n",
       "    <tr>\n",
       "      <th>28</th>\n",
       "      <td>12.4</td>\n",
       "    </tr>\n",
       "    <tr>\n",
       "      <th>29</th>\n",
       "      <td>7.0</td>\n",
       "    </tr>\n",
       "    <tr>\n",
       "      <th>30</th>\n",
       "      <td>14.8</td>\n",
       "    </tr>\n",
       "  </tbody>\n",
       "</table>\n",
       "</div>"
      ],
      "text/plain": [
       "        Current\n",
       "Sample         \n",
       "1          12.0\n",
       "2          15.0\n",
       "3           8.3\n",
       "4           9.7\n",
       "5          12.0\n",
       "6          13.9\n",
       "7          14.1\n",
       "8           9.2\n",
       "9          12.4\n",
       "10         13.7\n",
       "11         10.6\n",
       "12         21.5\n",
       "13         12.0\n",
       "14          9.3\n",
       "15         11.2\n",
       "16          3.3\n",
       "17         12.4\n",
       "18         12.3\n",
       "19         13.8\n",
       "20         10.5\n",
       "21         10.4\n",
       "22         15.0\n",
       "23         12.7\n",
       "24         14.4\n",
       "25         11.0\n",
       "26          9.1\n",
       "27         10.2\n",
       "28         12.4\n",
       "29          7.0\n",
       "30         14.8"
      ]
     },
     "execution_count": 7,
     "metadata": {},
     "output_type": "execute_result"
    }
   ],
   "source": [
    "# load dataset\n",
    "df = pd.read_csv(r\"raw\\current-test.csv\",\n",
    "                 delimiter=',',\n",
    "                 index_col='Sample')\n",
    "df"
   ]
  },
  {
   "cell_type": "code",
   "execution_count": 8,
   "metadata": {},
   "outputs": [
    {
     "name": "stdout",
     "output_type": "stream",
     "text": [
      "<class 'pandas.core.frame.DataFrame'>\n",
      "Index: 30 entries, 1 to 30\n",
      "Data columns (total 1 columns):\n",
      " #   Column   Non-Null Count  Dtype  \n",
      "---  ------   --------------  -----  \n",
      " 0   Current  30 non-null     float64\n",
      "dtypes: float64(1)\n",
      "memory usage: 480.0 bytes\n"
     ]
    }
   ],
   "source": [
    "# summary of dataframe\n",
    "df.info()"
   ]
  },
  {
   "cell_type": "code",
   "execution_count": 9,
   "metadata": {},
   "outputs": [
    {
     "data": {
      "application/vnd.microsoft.datawrangler.viewer.v0+json": {
       "columns": [
        {
         "name": "index",
         "rawType": "object",
         "type": "string"
        },
        {
         "name": "Current",
         "rawType": "float64",
         "type": "float"
        }
       ],
       "conversionMethod": "pd.DataFrame",
       "ref": "602b56cc-a253-4591-bf98-c17a96f90e75",
       "rows": [
        [
         "count",
         "30.0"
        ],
        [
         "mean",
         "11.806666666666667"
        ],
        [
         "std",
         "3.166629158882527"
        ],
        [
         "min",
         "3.3"
        ],
        [
         "25%",
         "10.25"
        ],
        [
         "50%",
         "12.0"
        ],
        [
         "75%",
         "13.775"
        ],
        [
         "max",
         "21.5"
        ]
       ],
       "shape": {
        "columns": 1,
        "rows": 8
       }
      },
      "text/html": [
       "<div>\n",
       "<style scoped>\n",
       "    .dataframe tbody tr th:only-of-type {\n",
       "        vertical-align: middle;\n",
       "    }\n",
       "\n",
       "    .dataframe tbody tr th {\n",
       "        vertical-align: top;\n",
       "    }\n",
       "\n",
       "    .dataframe thead th {\n",
       "        text-align: right;\n",
       "    }\n",
       "</style>\n",
       "<table border=\"1\" class=\"dataframe\">\n",
       "  <thead>\n",
       "    <tr style=\"text-align: right;\">\n",
       "      <th></th>\n",
       "      <th>Current</th>\n",
       "    </tr>\n",
       "  </thead>\n",
       "  <tbody>\n",
       "    <tr>\n",
       "      <th>count</th>\n",
       "      <td>30.000000</td>\n",
       "    </tr>\n",
       "    <tr>\n",
       "      <th>mean</th>\n",
       "      <td>11.806667</td>\n",
       "    </tr>\n",
       "    <tr>\n",
       "      <th>std</th>\n",
       "      <td>3.166629</td>\n",
       "    </tr>\n",
       "    <tr>\n",
       "      <th>min</th>\n",
       "      <td>3.300000</td>\n",
       "    </tr>\n",
       "    <tr>\n",
       "      <th>25%</th>\n",
       "      <td>10.250000</td>\n",
       "    </tr>\n",
       "    <tr>\n",
       "      <th>50%</th>\n",
       "      <td>12.000000</td>\n",
       "    </tr>\n",
       "    <tr>\n",
       "      <th>75%</th>\n",
       "      <td>13.775000</td>\n",
       "    </tr>\n",
       "    <tr>\n",
       "      <th>max</th>\n",
       "      <td>21.500000</td>\n",
       "    </tr>\n",
       "  </tbody>\n",
       "</table>\n",
       "</div>"
      ],
      "text/plain": [
       "         Current\n",
       "count  30.000000\n",
       "mean   11.806667\n",
       "std     3.166629\n",
       "min     3.300000\n",
       "25%    10.250000\n",
       "50%    12.000000\n",
       "75%    13.775000\n",
       "max    21.500000"
      ]
     },
     "execution_count": 9,
     "metadata": {},
     "output_type": "execute_result"
    }
   ],
   "source": [
    "# summary of statistics\n",
    "df.describe()"
   ]
  },
  {
   "cell_type": "code",
   "execution_count": 10,
   "metadata": {},
   "outputs": [
    {
     "data": {
      "application/vnd.microsoft.datawrangler.viewer.v0+json": {
       "columns": [
        {
         "name": "Sample",
         "rawType": "int64",
         "type": "integer"
        },
        {
         "name": "Current",
         "rawType": "float64",
         "type": "float"
        },
        {
         "name": "Z-score",
         "rawType": "float64",
         "type": "float"
        }
       ],
       "conversionMethod": "pd.DataFrame",
       "ref": "2864697f-0255-4deb-a6e5-352f0a0da6fd",
       "rows": [
        [
         "1",
         "12.0",
         "0.061053354729279"
        ],
        [
         "2",
         "15.0",
         "1.00843299708016"
        ],
        [
         "3",
         "8.3",
         "-1.107381537503474"
        ],
        [
         "4",
         "9.7",
         "-0.66527103773973"
        ],
        [
         "5",
         "12.0",
         "0.061053354729279"
        ],
        [
         "6",
         "13.9",
         "0.6610604615515038"
        ],
        [
         "7",
         "14.1",
         "0.7242191043748956"
        ],
        [
         "8",
         "9.2",
         "-0.8231676447982101"
        ],
        [
         "9",
         "12.4",
         "0.18737064037606324"
        ],
        [
         "10",
         "13.7",
         "0.5979018187281113"
        ],
        [
         "11",
         "10.6",
         "-0.3810571450344656"
        ],
        [
         "12",
         "21.5",
         "3.061088888840402"
        ],
        [
         "13",
         "12.0",
         "0.061053354729279"
        ],
        [
         "14",
         "9.3",
         "-0.7915883233865136"
        ],
        [
         "15",
         "11.2",
         "-0.19158121656428947"
        ],
        [
         "16",
         "3.3",
         "-2.686347608088276"
        ],
        [
         "17",
         "12.4",
         "0.18737064037606324"
        ],
        [
         "18",
         "12.3",
         "0.15579131896436732"
        ],
        [
         "19",
         "13.8",
         "0.6294811401398078"
        ],
        [
         "20",
         "10.5",
         "-0.4126364664461615"
        ],
        [
         "21",
         "10.4",
         "-0.4442157878578574"
        ],
        [
         "22",
         "15.0",
         "1.00843299708016"
        ],
        [
         "23",
         "12.7",
         "0.282108604611151"
        ],
        [
         "24",
         "14.4",
         "0.818957068609984"
        ],
        [
         "25",
         "11.0",
         "-0.25473985938768134"
        ],
        [
         "26",
         "9.1",
         "-0.8547469662099061"
        ],
        [
         "27",
         "10.2",
         "-0.5073744306812498"
        ],
        [
         "28",
         "12.4",
         "0.18737064037606324"
        ],
        [
         "29",
         "7.0",
         "-1.5179127158555226"
        ],
        [
         "30",
         "14.8",
         "0.9452743542567682"
        ]
       ],
       "shape": {
        "columns": 2,
        "rows": 30
       }
      },
      "text/html": [
       "<div>\n",
       "<style scoped>\n",
       "    .dataframe tbody tr th:only-of-type {\n",
       "        vertical-align: middle;\n",
       "    }\n",
       "\n",
       "    .dataframe tbody tr th {\n",
       "        vertical-align: top;\n",
       "    }\n",
       "\n",
       "    .dataframe thead th {\n",
       "        text-align: right;\n",
       "    }\n",
       "</style>\n",
       "<table border=\"1\" class=\"dataframe\">\n",
       "  <thead>\n",
       "    <tr style=\"text-align: right;\">\n",
       "      <th></th>\n",
       "      <th>Current</th>\n",
       "      <th>Z-score</th>\n",
       "    </tr>\n",
       "    <tr>\n",
       "      <th>Sample</th>\n",
       "      <th></th>\n",
       "      <th></th>\n",
       "    </tr>\n",
       "  </thead>\n",
       "  <tbody>\n",
       "    <tr>\n",
       "      <th>1</th>\n",
       "      <td>12.0</td>\n",
       "      <td>0.061053</td>\n",
       "    </tr>\n",
       "    <tr>\n",
       "      <th>2</th>\n",
       "      <td>15.0</td>\n",
       "      <td>1.008433</td>\n",
       "    </tr>\n",
       "    <tr>\n",
       "      <th>3</th>\n",
       "      <td>8.3</td>\n",
       "      <td>-1.107382</td>\n",
       "    </tr>\n",
       "    <tr>\n",
       "      <th>4</th>\n",
       "      <td>9.7</td>\n",
       "      <td>-0.665271</td>\n",
       "    </tr>\n",
       "    <tr>\n",
       "      <th>5</th>\n",
       "      <td>12.0</td>\n",
       "      <td>0.061053</td>\n",
       "    </tr>\n",
       "    <tr>\n",
       "      <th>6</th>\n",
       "      <td>13.9</td>\n",
       "      <td>0.661060</td>\n",
       "    </tr>\n",
       "    <tr>\n",
       "      <th>7</th>\n",
       "      <td>14.1</td>\n",
       "      <td>0.724219</td>\n",
       "    </tr>\n",
       "    <tr>\n",
       "      <th>8</th>\n",
       "      <td>9.2</td>\n",
       "      <td>-0.823168</td>\n",
       "    </tr>\n",
       "    <tr>\n",
       "      <th>9</th>\n",
       "      <td>12.4</td>\n",
       "      <td>0.187371</td>\n",
       "    </tr>\n",
       "    <tr>\n",
       "      <th>10</th>\n",
       "      <td>13.7</td>\n",
       "      <td>0.597902</td>\n",
       "    </tr>\n",
       "    <tr>\n",
       "      <th>11</th>\n",
       "      <td>10.6</td>\n",
       "      <td>-0.381057</td>\n",
       "    </tr>\n",
       "    <tr>\n",
       "      <th>12</th>\n",
       "      <td>21.5</td>\n",
       "      <td>3.061089</td>\n",
       "    </tr>\n",
       "    <tr>\n",
       "      <th>13</th>\n",
       "      <td>12.0</td>\n",
       "      <td>0.061053</td>\n",
       "    </tr>\n",
       "    <tr>\n",
       "      <th>14</th>\n",
       "      <td>9.3</td>\n",
       "      <td>-0.791588</td>\n",
       "    </tr>\n",
       "    <tr>\n",
       "      <th>15</th>\n",
       "      <td>11.2</td>\n",
       "      <td>-0.191581</td>\n",
       "    </tr>\n",
       "    <tr>\n",
       "      <th>16</th>\n",
       "      <td>3.3</td>\n",
       "      <td>-2.686348</td>\n",
       "    </tr>\n",
       "    <tr>\n",
       "      <th>17</th>\n",
       "      <td>12.4</td>\n",
       "      <td>0.187371</td>\n",
       "    </tr>\n",
       "    <tr>\n",
       "      <th>18</th>\n",
       "      <td>12.3</td>\n",
       "      <td>0.155791</td>\n",
       "    </tr>\n",
       "    <tr>\n",
       "      <th>19</th>\n",
       "      <td>13.8</td>\n",
       "      <td>0.629481</td>\n",
       "    </tr>\n",
       "    <tr>\n",
       "      <th>20</th>\n",
       "      <td>10.5</td>\n",
       "      <td>-0.412636</td>\n",
       "    </tr>\n",
       "    <tr>\n",
       "      <th>21</th>\n",
       "      <td>10.4</td>\n",
       "      <td>-0.444216</td>\n",
       "    </tr>\n",
       "    <tr>\n",
       "      <th>22</th>\n",
       "      <td>15.0</td>\n",
       "      <td>1.008433</td>\n",
       "    </tr>\n",
       "    <tr>\n",
       "      <th>23</th>\n",
       "      <td>12.7</td>\n",
       "      <td>0.282109</td>\n",
       "    </tr>\n",
       "    <tr>\n",
       "      <th>24</th>\n",
       "      <td>14.4</td>\n",
       "      <td>0.818957</td>\n",
       "    </tr>\n",
       "    <tr>\n",
       "      <th>25</th>\n",
       "      <td>11.0</td>\n",
       "      <td>-0.254740</td>\n",
       "    </tr>\n",
       "    <tr>\n",
       "      <th>26</th>\n",
       "      <td>9.1</td>\n",
       "      <td>-0.854747</td>\n",
       "    </tr>\n",
       "    <tr>\n",
       "      <th>27</th>\n",
       "      <td>10.2</td>\n",
       "      <td>-0.507374</td>\n",
       "    </tr>\n",
       "    <tr>\n",
       "      <th>28</th>\n",
       "      <td>12.4</td>\n",
       "      <td>0.187371</td>\n",
       "    </tr>\n",
       "    <tr>\n",
       "      <th>29</th>\n",
       "      <td>7.0</td>\n",
       "      <td>-1.517913</td>\n",
       "    </tr>\n",
       "    <tr>\n",
       "      <th>30</th>\n",
       "      <td>14.8</td>\n",
       "      <td>0.945274</td>\n",
       "    </tr>\n",
       "  </tbody>\n",
       "</table>\n",
       "</div>"
      ],
      "text/plain": [
       "        Current   Z-score\n",
       "Sample                   \n",
       "1          12.0  0.061053\n",
       "2          15.0  1.008433\n",
       "3           8.3 -1.107382\n",
       "4           9.7 -0.665271\n",
       "5          12.0  0.061053\n",
       "6          13.9  0.661060\n",
       "7          14.1  0.724219\n",
       "8           9.2 -0.823168\n",
       "9          12.4  0.187371\n",
       "10         13.7  0.597902\n",
       "11         10.6 -0.381057\n",
       "12         21.5  3.061089\n",
       "13         12.0  0.061053\n",
       "14          9.3 -0.791588\n",
       "15         11.2 -0.191581\n",
       "16          3.3 -2.686348\n",
       "17         12.4  0.187371\n",
       "18         12.3  0.155791\n",
       "19         13.8  0.629481\n",
       "20         10.5 -0.412636\n",
       "21         10.4 -0.444216\n",
       "22         15.0  1.008433\n",
       "23         12.7  0.282109\n",
       "24         14.4  0.818957\n",
       "25         11.0 -0.254740\n",
       "26          9.1 -0.854747\n",
       "27         10.2 -0.507374\n",
       "28         12.4  0.187371\n",
       "29          7.0 -1.517913\n",
       "30         14.8  0.945274"
      ]
     },
     "execution_count": 10,
     "metadata": {},
     "output_type": "execute_result"
    }
   ],
   "source": [
    "# Z-scores\n",
    "df['Z-score'] = stats.zscore(df['Current'],ddof=1)\n",
    "df"
   ]
  },
  {
   "cell_type": "code",
   "execution_count": 11,
   "metadata": {},
   "outputs": [
    {
     "data": {
      "text/plain": [
       "count    3.000000e+01\n",
       "mean     7.401487e-18\n",
       "std      1.000000e+00\n",
       "min     -2.686348e+00\n",
       "25%     -4.915848e-01\n",
       "50%      6.105335e-02\n",
       "75%      6.215863e-01\n",
       "max      3.061089e+00\n",
       "Name: Z-score, dtype: float64"
      ]
     },
     "execution_count": 11,
     "metadata": {},
     "output_type": "execute_result"
    }
   ],
   "source": [
    "# Z-scores summary of statistics\n",
    "df['Z-score'].describe()"
   ]
  },
  {
   "cell_type": "markdown",
   "metadata": {},
   "source": [
    "# Histogram"
   ]
  },
  {
   "cell_type": "code",
   "execution_count": 12,
   "metadata": {},
   "outputs": [
    {
     "data": {
      "image/png": "[encoded data removed]",
      "text/plain": [
       "<Figure size 640x480 with 1 Axes>"
      ]
     },
     "metadata": {},
     "output_type": "display_data"
    }
   ],
   "source": [
    "# histogram plot\n",
    "plt.hist(df['Current'], bins=5, \n",
    "         alpha = 0.8,\n",
    "         color='#126782',\n",
    "         edgecolor='#1C1F24')\n",
    "\n",
    "plt.title('Histogram of Current Values',\n",
    "          font='Palatino Linotype',\n",
    "          fontsize=12)\n",
    "plt.xlabel('Current (mA)')\n",
    "plt.ylabel('Frequency')\n",
    "plt.show()"
   ]
  },
  {
   "cell_type": "markdown",
   "metadata": {},
   "source": [
    "# Normal Distribution"
   ]
  },
  {
   "cell_type": "code",
   "execution_count": 13,
   "metadata": {},
   "outputs": [
    {
     "data": {
      "image/png": "[encoded data removed]",
      "text/plain": [
       "<Figure size 640x480 with 1 Axes>"
      ]
     },
     "metadata": {},
     "output_type": "display_data"
    }
   ],
   "source": [
    "# normal distribution curve\n",
    "mean = df['Current'].mean()\n",
    "std = df['Current'].std(ddof=1)\n",
    "\n",
    "# x-axis\n",
    "x_min = df['Current'].min()\n",
    "x_max = df['Current'].max()\n",
    "\n",
    "x = np.linspace(x_min, x_max, 100)\n",
    "p = stats.norm.pdf(x, mean, std)\n",
    "\n",
    "plt.plot(x, p,\n",
    "         color='#126782',\n",
    "         linewidth=2)\n",
    "\n",
    "plt.title('Normal Distribution of Current Values',\n",
    "          font='Palatino Linotype',\n",
    "          fontsize=12)\n",
    "plt.xlabel('Current (mA)')\n",
    "plt.ylabel('Probability Density')\n",
    "plt.show()"
   ]
  },
  {
   "cell_type": "code",
   "execution_count": 15,
   "metadata": {},
   "outputs": [
    {
     "data": {
      "image/png": "[encoded data removed]",
      "text/plain": [
       "<Figure size 640x480 with 1 Axes>"
      ]
     },
     "metadata": {},
     "output_type": "display_data"
    }
   ],
   "source": [
    "# histogram plot\n",
    "plt.hist(df['Current'], bins=5,\n",
    "         density=True,\n",
    "         alpha = 0.8,\n",
    "         color='#126782',\n",
    "         edgecolor='#1C1F24')\n",
    "\n",
    "plt.title('Normal Distribution of Current Values',\n",
    "          font='Palatino Linotype',\n",
    "          fontsize=12)\n",
    "plt.xlabel('Current (mA)')\n",
    "plt.ylabel('Frequency')\n",
    "\n",
    "# normal distribution curve\n",
    "p = stats.norm.pdf(x, mean, std)\n",
    "plt.plot(x, p,\n",
    "         color='#FF6F61',\n",
    "         linewidth=2)\n",
    "plt.show()"
   ]
  },
  {
   "cell_type": "markdown",
   "metadata": {},
   "source": [
    "# Standard Normal Distribution N(0,1)"
   ]
  },
  {
   "cell_type": "code",
   "execution_count": 16,
   "metadata": {},
   "outputs": [
    {
     "data": {
      "image/png": "[encoded data removed]",
      "text/plain": [
       "<Figure size 640x480 with 1 Axes>"
      ]
     },
     "metadata": {},
     "output_type": "display_data"
    }
   ],
   "source": [
    "# standard normal distribution N(0,1)\n",
    "# x-axis\n",
    "x_max = df['Z-score'].max()\n",
    "x_min = df['Z-score'].min()\n",
    "x = np.linspace(x_min,x_max,100)\n",
    "\n",
    "p = stats.norm.pdf(x, df['Z-score'].mean(), df['Z-score'].std(ddof=1))\n",
    "\n",
    "plt.plot(x, p,\n",
    "         color='#126782',\n",
    "         linewidth=2)\n",
    "\n",
    "plt.title('Standard Normal Distribution of Current Values N(0,1)',\n",
    "          font='Palatino Linotype',\n",
    "          fontsize=12)\n",
    "plt.xlabel('Z-score')\n",
    "plt.ylabel('Probability Density')\n",
    "plt.show()"
   ]
  }
 ],
 "metadata": {
  "kernelspec": {
   "display_name": "Python 3",
   "language": "python",
   "name": "python3"
  },
  "language_info": {
   "codemirror_mode": {
    "name": "ipython",
    "version": 3
   },
   "file_extension": ".py",
   "mimetype": "text/x-python",
   "name": "python",
   "nbconvert_exporter": "python",
   "pygments_lexer": "ipython3",
   "version": "3.13.3"
  }
 },
 "nbformat": 4,
 "nbformat_minor": 2
}
