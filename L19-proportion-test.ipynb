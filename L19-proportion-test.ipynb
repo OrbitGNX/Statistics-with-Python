{
 "cells": [
  {
   "cell_type": "markdown",
   "id": "bca33d1b",
   "metadata": {},
   "source": [
    "#  Proportion Test <hr style=\"border:2.5px solid #126782\"></hr>"
   ]
  },
  {
   "cell_type": "markdown",
   "id": "bdb7c270",
   "metadata": {},
   "source": [
    "Data Analyst: Gyro A. Madrona<br>\n",
    "Department: Electrical Engineering"
   ]
  },
  {
   "cell_type": "code",
   "execution_count": 301,
   "id": "f18db88c",
   "metadata": {},
   "outputs": [],
   "source": [
    "# imports and packages\n",
    "import matplotlib.pyplot as plt\n",
    "from scipy import stats\n",
    "from statsmodels.stats.proportion import proportions_ztest,proportions_chisquare,proportion_effectsize\n",
    "from statsmodels.stats.power import TTestPower,TTestIndPower"
   ]
  },
  {
   "cell_type": "markdown",
   "id": "4b2dba4c",
   "metadata": {},
   "source": [
    "# 1-Proportion Test"
   ]
  },
  {
   "cell_type": "code",
   "execution_count": 302,
   "id": "3ed8cf51",
   "metadata": {},
   "outputs": [],
   "source": [
    "# two-tailed test\n",
    "# Ho: P1 = 0.5\n",
    "# Ha: P1 != 0.5\n",
    "pop_prop = 0.5\n",
    "sucess = 600\n",
    "sample_size = 1250\n",
    "\n",
    "results = stats.binomtest(\n",
    "    k = sucess,\n",
    "    n = sample_size,\n",
    "    p = pop_prop,\n",
    ")"
   ]
  },
  {
   "cell_type": "code",
   "execution_count": 303,
   "id": "06a01707",
   "metadata": {},
   "outputs": [
    {
     "data": {
      "text/plain": [
       "BinomTestResult(k=600, n=1250, alternative='two-sided', statistic=0.48, pvalue=0.16574252848396392)"
      ]
     },
     "execution_count": 303,
     "metadata": {},
     "output_type": "execute_result"
    }
   ],
   "source": [
    "results"
   ]
  },
  {
   "cell_type": "code",
   "execution_count": 304,
   "id": "7ab58d8b",
   "metadata": {},
   "outputs": [
    {
     "data": {
      "text/plain": [
       "np.float64(0.16574252848396392)"
      ]
     },
     "execution_count": 304,
     "metadata": {},
     "output_type": "execute_result"
    }
   ],
   "source": [
    "# probability value\n",
    "p_value = results.pvalue\n",
    "p_value"
   ]
  },
  {
   "cell_type": "code",
   "execution_count": 305,
   "id": "d421f5d0",
   "metadata": {},
   "outputs": [
    {
     "name": "stdout",
     "output_type": "stream",
     "text": [
      "Product A meets 50% expectation.\n"
     ]
    }
   ],
   "source": [
    "# verdict\n",
    "alpha = 0.05\n",
    "\n",
    "if p_value < alpha:\n",
    "    # reject null hypothesis\n",
    "    print(\"Product A does not meet 50% expectation.\")\n",
    "else:\n",
    "    # fail to reject null hypothesis\n",
    "    print(\"Product A meets 50% expectation.\")"
   ]
  },
  {
   "cell_type": "code",
   "execution_count": 306,
   "id": "905b0dff",
   "metadata": {},
   "outputs": [
    {
     "data": {
      "image/png": "[encoded data removed]",
      "text/plain": [
       "<Figure size 640x480 with 1 Axes>"
      ]
     },
     "metadata": {},
     "output_type": "display_data"
    }
   ],
   "source": [
    "# product A proportion bar graph\n",
    "pop_prop = 0.5*100\n",
    "sample_prop = (sucess/sample_size)*100\n",
    "\n",
    "plt.figure()\n",
    "bars = plt.bar(['Population','Sample'],[pop_prop,sample_prop])\n",
    "plt.title('Product A Preference')\n",
    "plt.ylabel('% Propotion')\n",
    "plt.ylim([0,100])\n",
    "\n",
    "# bar values\n",
    "for bar in bars:\n",
    "    height = bar.get_height()\n",
    "    plt.text(bar.get_x() + bar.get_width()/2,height,\n",
    "             f'{height:.1f}%',\n",
    "             ha='center',va='bottom')\n",
    "plt.show()"
   ]
  },
  {
   "cell_type": "code",
   "execution_count": 307,
   "id": "58127958",
   "metadata": {},
   "outputs": [],
   "source": [
    "# left-tailed test\n",
    "# Ho: P1 >= 0.5\n",
    "# Ha: P1 < 0.5\n",
    "results = stats.binomtest(\n",
    "    k = 600,\n",
    "    n = 1250,\n",
    "    p = 0.5,\n",
    "    alternative = 'less'\n",
    ")"
   ]
  },
  {
   "cell_type": "code",
   "execution_count": 308,
   "id": "802fdda3",
   "metadata": {},
   "outputs": [
    {
     "data": {
      "text/plain": [
       "BinomTestResult(k=600, n=1250, alternative='less', statistic=0.48, pvalue=0.08287126424198196)"
      ]
     },
     "execution_count": 308,
     "metadata": {},
     "output_type": "execute_result"
    }
   ],
   "source": [
    "results"
   ]
  },
  {
   "cell_type": "code",
   "execution_count": 309,
   "id": "26918da7",
   "metadata": {},
   "outputs": [
    {
     "data": {
      "text/plain": [
       "np.float64(0.08287126424198196)"
      ]
     },
     "execution_count": 309,
     "metadata": {},
     "output_type": "execute_result"
    }
   ],
   "source": [
    "# probability value\n",
    "p_value = results.pvalue\n",
    "p_value"
   ]
  },
  {
   "cell_type": "code",
   "execution_count": 310,
   "id": "6b0c88d3",
   "metadata": {},
   "outputs": [
    {
     "name": "stdout",
     "output_type": "stream",
     "text": [
      "Product A meets 50% expectation.\n"
     ]
    }
   ],
   "source": [
    "# verdict\n",
    "alpha = 0.05\n",
    "\n",
    "if p_value < alpha:\n",
    "    # reject null hypothesis\n",
    "    print(\"Product A does not meet 50% expectation.\")\n",
    "else:\n",
    "    # fail to reject null hypothesis\n",
    "    print(\"Product A meets 50% expectation.\")"
   ]
  },
  {
   "cell_type": "markdown",
   "id": "1beabb39",
   "metadata": {},
   "source": [
    "## Power\n"
   ]
  },
  {
   "cell_type": "code",
   "execution_count": 311,
   "id": "f5478170",
   "metadata": {},
   "outputs": [
    {
     "data": {
      "text/plain": [
       "np.float64(0.29274580703748226)"
      ]
     },
     "execution_count": 311,
     "metadata": {},
     "output_type": "execute_result"
    }
   ],
   "source": [
    "# parameters\n",
    "pop_prop = 0.5\n",
    "sucess = 600\n",
    "sample_size = 1250\n",
    "\n",
    "sample_prop = sucess/sample_size\n",
    "cohen_h = abs(proportion_effectsize(sample_prop, pop_prop))\n",
    "\n",
    "# calculate power\n",
    "power = TTestPower().solve_power(\n",
    "    effect_size = cohen_h,\n",
    "    nobs = sample_size,\n",
    "    alpha = 0.05,\n",
    ")\n",
    "power"
   ]
  },
  {
   "cell_type": "code",
   "execution_count": 312,
   "id": "54c184a2",
   "metadata": {},
   "outputs": [
    {
     "data": {
      "text/plain": [
       "4904.841769802132"
      ]
     },
     "execution_count": 312,
     "metadata": {},
     "output_type": "execute_result"
    }
   ],
   "source": [
    "# 80% power sample size\n",
    "sample_80p = TTestPower().solve_power(\n",
    "    effect_size = cohen_h,\n",
    "    power = 0.8,\n",
    "    alpha = 0.05,\n",
    ")\n",
    "sample_80p"
   ]
  },
  {
   "cell_type": "markdown",
   "id": "7092240f",
   "metadata": {},
   "source": [
    "# 2 Proportion Test"
   ]
  },
  {
   "cell_type": "code",
   "execution_count": 313,
   "id": "b4f6a52e",
   "metadata": {},
   "outputs": [],
   "source": [
    "# two-tailed test\n",
    "# Ho: Board A = Board B\n",
    "# Ha: Board A != Board B\n",
    "success_A = 35\n",
    "success_B = 25\n",
    "sample_A = 150\n",
    "sample_B = 120\n",
    "\n",
    "z_stat, p_value = proportions_ztest(\n",
    "    count = [success_A, success_B],\n",
    "    nobs = [sample_A, sample_B],\n",
    ")"
   ]
  },
  {
   "cell_type": "code",
   "execution_count": 314,
   "id": "5800df28",
   "metadata": {},
   "outputs": [
    {
     "data": {
      "text/plain": [
       "np.float64(0.49099025303098276)"
      ]
     },
     "execution_count": 314,
     "metadata": {},
     "output_type": "execute_result"
    }
   ],
   "source": [
    "# test statistic\n",
    "z_stat"
   ]
  },
  {
   "cell_type": "code",
   "execution_count": 315,
   "id": "7b0351ab",
   "metadata": {},
   "outputs": [
    {
     "data": {
      "text/plain": [
       "np.float64(0.6234333413821049)"
      ]
     },
     "execution_count": 315,
     "metadata": {},
     "output_type": "execute_result"
    }
   ],
   "source": [
    "# probability value\n",
    "p_value"
   ]
  },
  {
   "cell_type": "code",
   "execution_count": 316,
   "id": "a1b1a5df",
   "metadata": {},
   "outputs": [
    {
     "name": "stdout",
     "output_type": "stream",
     "text": [
      "There is no significant deference between Board A and Board B.\n"
     ]
    }
   ],
   "source": [
    "# verdict\n",
    "alpha = 0.05\n",
    "if p_value < alpha:\n",
    "    # reject null hypothesis\n",
    "    print(\"Board A is different from Board B.\")\n",
    "else:\n",
    "    # fail to reject null hypothesis\n",
    "    print(\"There is no significant deference between Board A and Board B.\")"
   ]
  },
  {
   "cell_type": "code",
   "execution_count": 317,
   "id": "d9580054",
   "metadata": {},
   "outputs": [
    {
     "data": {
      "image/png": "[encoded data removed]",
      "text/plain": [
       "<Figure size 640x480 with 1 Axes>"
      ]
     },
     "metadata": {},
     "output_type": "display_data"
    }
   ],
   "source": [
    "# circuit board defects proportion bar graph\n",
    "board_A = (success_A/sample_A)*100\n",
    "board_B = (success_B/sample_B)*100\n",
    "\n",
    "plt.figure()\n",
    "bars = plt.bar(['Board A','Board B'],[board_A,board_B])\n",
    "plt.title('Circuit Board Defects')\n",
    "plt.ylabel('% Propotion')\n",
    "plt.ylim([0,100])\n",
    "\n",
    "# bar values\n",
    "for bar in bars:\n",
    "    height = bar.get_height()\n",
    "    plt.text(bar.get_x() + bar.get_width()/2,height,\n",
    "             f'{height:.1f}%',\n",
    "             ha='center',va='bottom')\n",
    "plt.show()"
   ]
  },
  {
   "cell_type": "code",
   "execution_count": 318,
   "id": "690724e6",
   "metadata": {},
   "outputs": [],
   "source": [
    "# right-tailed test\n",
    "# Ho: Board A <= Board B\n",
    "# Ha: Board A > Board B\n",
    "success_A, success_B = 35, 25\n",
    "sample_A, sample_B = 150, 120\n",
    "\n",
    "z_stat, p_value = proportions_ztest(\n",
    "    count = [success_A, success_B],\n",
    "    nobs = [sample_A, sample_B],\n",
    "    alternative = 'larger'\n",
    "    \n",
    ")"
   ]
  },
  {
   "cell_type": "code",
   "execution_count": 319,
   "id": "7ccc638b",
   "metadata": {},
   "outputs": [
    {
     "data": {
      "text/plain": [
       "np.float64(0.49099025303098276)"
      ]
     },
     "execution_count": 319,
     "metadata": {},
     "output_type": "execute_result"
    }
   ],
   "source": [
    "# test statistic\n",
    "z_stat"
   ]
  },
  {
   "cell_type": "code",
   "execution_count": 320,
   "id": "14b57b15",
   "metadata": {},
   "outputs": [
    {
     "data": {
      "text/plain": [
       "np.float64(0.31171667069105247)"
      ]
     },
     "execution_count": 320,
     "metadata": {},
     "output_type": "execute_result"
    }
   ],
   "source": [
    "# probability value\n",
    "p_value"
   ]
  },
  {
   "cell_type": "code",
   "execution_count": 321,
   "id": "da782969",
   "metadata": {},
   "outputs": [
    {
     "name": "stdout",
     "output_type": "stream",
     "text": [
      "There is no significant deference between Board A and Board B.\n"
     ]
    }
   ],
   "source": [
    "# verdict\n",
    "alpha = 0.05\n",
    "if p_value < alpha:\n",
    "    # reject null hypothesis\n",
    "    print(\"Board A is different from Board B.\")\n",
    "else:\n",
    "    # fail to reject null hypothesis\n",
    "    print(\"There is no significant deference between Board A and Board B.\")"
   ]
  },
  {
   "cell_type": "markdown",
   "id": "305bb980",
   "metadata": {},
   "source": [
    "## Power"
   ]
  },
  {
   "cell_type": "code",
   "execution_count": 322,
   "id": "03a1b696",
   "metadata": {},
   "outputs": [
    {
     "data": {
      "text/plain": [
       "np.float64(0.07798788656308094)"
      ]
     },
     "execution_count": 322,
     "metadata": {},
     "output_type": "execute_result"
    }
   ],
   "source": [
    "# parameters\n",
    "success_A, success_B = 35, 25\n",
    "sample_A, sample_B = 150, 120\n",
    "\n",
    "prop_A = success_A/sample_A\n",
    "prop_B = success_B/sample_B\n",
    "\n",
    "cohen_h = abs(proportion_effectsize(prop_A, prop_B))\n",
    "\n",
    "# calculate power\n",
    "power = TTestIndPower().solve_power(\n",
    "    effect_size = cohen_h,\n",
    "    nobs1 = sample_A,\n",
    "    ratio = sample_B/sample_A, # with respect to sample 2\n",
    "    alpha = 0.05\n",
    ")\n",
    "power"
   ]
  },
  {
   "cell_type": "code",
   "execution_count": 323,
   "id": "230dcc85",
   "metadata": {},
   "outputs": [
    {
     "data": {
      "text/plain": [
       "4859.471580649569"
      ]
     },
     "execution_count": 323,
     "metadata": {},
     "output_type": "execute_result"
    }
   ],
   "source": [
    "# 80% power sample size\n",
    "sample_80p = TTestIndPower().solve_power(\n",
    "    effect_size = cohen_h,\n",
    "    power = 0.8,\n",
    "    ratio = sample_B/sample_A, # with respect to sample 2\n",
    "    alpha = 0.05\n",
    ")\n",
    "sample_80p"
   ]
  },
  {
   "cell_type": "markdown",
   "id": "97f79470",
   "metadata": {},
   "source": [
    "# ANOM"
   ]
  },
  {
   "cell_type": "code",
   "execution_count": 324,
   "id": "86056d40",
   "metadata": {},
   "outputs": [],
   "source": [
    "# Hypothesis\n",
    "# Ho: equal proportions\n",
    "# Ha: at least 1 is different\n",
    "success_A = 35\n",
    "success_B = 25\n",
    "success_C = 30\n",
    "trial_A = 150\n",
    "trial_B = 120\n",
    "trial_C = 85\n",
    "\n",
    "chi_stat, p_value, table = proportions_chisquare(\n",
    "    count = [success_A, success_B, success_C],\n",
    "    nobs = [trial_A, trial_B, trial_C],\n",
    ")"
   ]
  },
  {
   "cell_type": "code",
   "execution_count": 325,
   "id": "07aafb3a",
   "metadata": {},
   "outputs": [
    {
     "data": {
      "text/plain": [
       "np.float64(6.057305154766307)"
      ]
     },
     "execution_count": 325,
     "metadata": {},
     "output_type": "execute_result"
    }
   ],
   "source": [
    "# test statistic\n",
    "chi_stat"
   ]
  },
  {
   "cell_type": "code",
   "execution_count": 326,
   "id": "489e6013",
   "metadata": {},
   "outputs": [
    {
     "data": {
      "text/plain": [
       "np.float64(0.048380783589005064)"
      ]
     },
     "execution_count": 326,
     "metadata": {},
     "output_type": "execute_result"
    }
   ],
   "source": [
    "# probability value\n",
    "p_value"
   ]
  },
  {
   "cell_type": "code",
   "execution_count": 327,
   "id": "a4ae942a",
   "metadata": {},
   "outputs": [
    {
     "name": "stdout",
     "output_type": "stream",
     "text": [
      "At least 1 of the board is different.\n"
     ]
    }
   ],
   "source": [
    "# verdict\n",
    "alpha = 0.05\n",
    "\n",
    "if p_value < alpha:\n",
    "    # reject null hypothesis\n",
    "    print(\"At least 1 of the board is different.\")\n",
    "else:\n",
    "    # fail to reject null hypothesis\n",
    "    print(\"There is no significant difference between the boards.\")"
   ]
  },
  {
   "cell_type": "code",
   "execution_count": 328,
   "id": "f8153ffa",
   "metadata": {},
   "outputs": [
    {
     "name": "stdout",
     "output_type": "stream",
     "text": [
      "Board A: 0.23333333333333334\n",
      "Board B: 0.20833333333333334\n",
      "Board C: 0.35294117647058826\n"
     ]
    }
   ],
   "source": [
    "# Boards defect rate\n",
    "print(\"Board A: \" + str(success_A/trial_A))\n",
    "print(\"Board B: \" + str(success_B/trial_B))\n",
    "print(\"Board C: \" + str(success_C/trial_C))"
   ]
  },
  {
   "cell_type": "code",
   "execution_count": 329,
   "id": "b454946b",
   "metadata": {},
   "outputs": [
    {
     "data": {
      "image/png": "[encoded data removed]",
      "text/plain": [
       "<Figure size 640x480 with 1 Axes>"
      ]
     },
     "metadata": {},
     "output_type": "display_data"
    }
   ],
   "source": [
    "# circuit board defects proportion bar graph\n",
    "board_A = (success_A/trial_A)*100\n",
    "board_B = (success_B/trial_B)*100\n",
    "board_C = (success_C/trial_C)*100\n",
    "\n",
    "plt.figure()\n",
    "bars = plt.bar(['Board A','Board B','Board C'],[board_A,board_B,board_C])\n",
    "plt.title('Circuit Board Defects')\n",
    "plt.ylabel('% Propotion')\n",
    "plt.ylim([0,100])\n",
    "\n",
    "# bar values\n",
    "for bar in bars:\n",
    "    height = bar.get_height()\n",
    "    plt.text(bar.get_x() + bar.get_width()/2,height,\n",
    "             f'{height:.1f}%',\n",
    "             ha='center',va='bottom')\n",
    "plt.show()"
   ]
  }
 ],
 "metadata": {
  "kernelspec": {
   "display_name": "Python 3",
   "language": "python",
   "name": "python3"
  },
  "language_info": {
   "codemirror_mode": {
    "name": "ipython",
    "version": 3
   },
   "file_extension": ".py",
   "mimetype": "text/x-python",
   "name": "python",
   "nbconvert_exporter": "python",
   "pygments_lexer": "ipython3",
   "version": "3.13.0"
  }
 },
 "nbformat": 4,
 "nbformat_minor": 5
}
