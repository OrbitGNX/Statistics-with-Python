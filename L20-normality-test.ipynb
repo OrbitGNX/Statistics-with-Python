{
 "cells": [
  {
   "cell_type": "markdown",
   "id": "f6d52563",
   "metadata": {},
   "source": [
    "#  Normality Test <hr style=\"border:2.5px solid #126782\"></hr>"
   ]
  },
  {
   "cell_type": "markdown",
   "id": "5c456a8a",
   "metadata": {},
   "source": [
    "Data Analyst: Gyro A. Madrona<br>\n",
    "Department: Electrical Engineering"
   ]
  },
  {
   "cell_type": "code",
   "execution_count": 50,
   "id": "20e3dceb",
   "metadata": {},
   "outputs": [],
   "source": [
    "# imports and packages\n",
    "import pandas as pd\n",
    "import matplotlib.pyplot as plt\n",
    "from scipy import stats"
   ]
  },
  {
   "cell_type": "markdown",
   "id": "2d857b4f",
   "metadata": {},
   "source": [
    "# Shapiro-Wilk Test"
   ]
  },
  {
   "cell_type": "code",
   "execution_count": 51,
   "id": "0dc4abd7",
   "metadata": {},
   "outputs": [
    {
     "data": {
      "application/vnd.microsoft.datawrangler.viewer.v0+json": {
       "columns": [
        {
         "name": "index",
         "rawType": "int64",
         "type": "integer"
        },
        {
         "name": "Sample",
         "rawType": "int64",
         "type": "integer"
        },
        {
         "name": "Defects",
         "rawType": "int64",
         "type": "integer"
        }
       ],
       "conversionMethod": "pd.DataFrame",
       "ref": "786cb69b-00e2-4525-bf16-b691500e99ad",
       "rows": [
        [
         "0",
         "1",
         "13"
        ],
        [
         "1",
         "2",
         "12"
        ],
        [
         "2",
         "3",
         "10"
        ],
        [
         "3",
         "4",
         "11"
        ],
        [
         "4",
         "5",
         "10"
        ],
        [
         "5",
         "6",
         "6"
        ],
        [
         "6",
         "7",
         "12"
        ],
        [
         "7",
         "8",
         "12"
        ],
        [
         "8",
         "9",
         "9"
        ],
        [
         "9",
         "10",
         "15"
        ],
        [
         "10",
         "11",
         "9"
        ],
        [
         "11",
         "12",
         "10"
        ],
        [
         "12",
         "13",
         "13"
        ],
        [
         "13",
         "14",
         "13"
        ],
        [
         "14",
         "15",
         "11"
        ],
        [
         "15",
         "16",
         "11"
        ],
        [
         "16",
         "17",
         "9"
        ],
        [
         "17",
         "18",
         "8"
        ],
        [
         "18",
         "19",
         "13"
        ],
        [
         "19",
         "20",
         "14"
        ],
        [
         "20",
         "21",
         "14"
        ],
        [
         "21",
         "22",
         "5"
        ],
        [
         "22",
         "23",
         "12"
        ],
        [
         "23",
         "24",
         "8"
        ],
        [
         "24",
         "25",
         "7"
        ],
        [
         "25",
         "26",
         "12"
        ],
        [
         "26",
         "27",
         "14"
        ],
        [
         "27",
         "28",
         "12"
        ],
        [
         "28",
         "29",
         "11"
        ],
        [
         "29",
         "30",
         "15"
        ]
       ],
       "shape": {
        "columns": 2,
        "rows": 30
       }
      },
      "text/html": [
       "<div>\n",
       "<style scoped>\n",
       "    .dataframe tbody tr th:only-of-type {\n",
       "        vertical-align: middle;\n",
       "    }\n",
       "\n",
       "    .dataframe tbody tr th {\n",
       "        vertical-align: top;\n",
       "    }\n",
       "\n",
       "    .dataframe thead th {\n",
       "        text-align: right;\n",
       "    }\n",
       "</style>\n",
       "<table border=\"1\" class=\"dataframe\">\n",
       "  <thead>\n",
       "    <tr style=\"text-align: right;\">\n",
       "      <th></th>\n",
       "      <th>Sample</th>\n",
       "      <th>Defects</th>\n",
       "    </tr>\n",
       "  </thead>\n",
       "  <tbody>\n",
       "    <tr>\n",
       "      <th>0</th>\n",
       "      <td>1</td>\n",
       "      <td>13</td>\n",
       "    </tr>\n",
       "    <tr>\n",
       "      <th>1</th>\n",
       "      <td>2</td>\n",
       "      <td>12</td>\n",
       "    </tr>\n",
       "    <tr>\n",
       "      <th>2</th>\n",
       "      <td>3</td>\n",
       "      <td>10</td>\n",
       "    </tr>\n",
       "    <tr>\n",
       "      <th>3</th>\n",
       "      <td>4</td>\n",
       "      <td>11</td>\n",
       "    </tr>\n",
       "    <tr>\n",
       "      <th>4</th>\n",
       "      <td>5</td>\n",
       "      <td>10</td>\n",
       "    </tr>\n",
       "    <tr>\n",
       "      <th>5</th>\n",
       "      <td>6</td>\n",
       "      <td>6</td>\n",
       "    </tr>\n",
       "    <tr>\n",
       "      <th>6</th>\n",
       "      <td>7</td>\n",
       "      <td>12</td>\n",
       "    </tr>\n",
       "    <tr>\n",
       "      <th>7</th>\n",
       "      <td>8</td>\n",
       "      <td>12</td>\n",
       "    </tr>\n",
       "    <tr>\n",
       "      <th>8</th>\n",
       "      <td>9</td>\n",
       "      <td>9</td>\n",
       "    </tr>\n",
       "    <tr>\n",
       "      <th>9</th>\n",
       "      <td>10</td>\n",
       "      <td>15</td>\n",
       "    </tr>\n",
       "    <tr>\n",
       "      <th>10</th>\n",
       "      <td>11</td>\n",
       "      <td>9</td>\n",
       "    </tr>\n",
       "    <tr>\n",
       "      <th>11</th>\n",
       "      <td>12</td>\n",
       "      <td>10</td>\n",
       "    </tr>\n",
       "    <tr>\n",
       "      <th>12</th>\n",
       "      <td>13</td>\n",
       "      <td>13</td>\n",
       "    </tr>\n",
       "    <tr>\n",
       "      <th>13</th>\n",
       "      <td>14</td>\n",
       "      <td>13</td>\n",
       "    </tr>\n",
       "    <tr>\n",
       "      <th>14</th>\n",
       "      <td>15</td>\n",
       "      <td>11</td>\n",
       "    </tr>\n",
       "    <tr>\n",
       "      <th>15</th>\n",
       "      <td>16</td>\n",
       "      <td>11</td>\n",
       "    </tr>\n",
       "    <tr>\n",
       "      <th>16</th>\n",
       "      <td>17</td>\n",
       "      <td>9</td>\n",
       "    </tr>\n",
       "    <tr>\n",
       "      <th>17</th>\n",
       "      <td>18</td>\n",
       "      <td>8</td>\n",
       "    </tr>\n",
       "    <tr>\n",
       "      <th>18</th>\n",
       "      <td>19</td>\n",
       "      <td>13</td>\n",
       "    </tr>\n",
       "    <tr>\n",
       "      <th>19</th>\n",
       "      <td>20</td>\n",
       "      <td>14</td>\n",
       "    </tr>\n",
       "    <tr>\n",
       "      <th>20</th>\n",
       "      <td>21</td>\n",
       "      <td>14</td>\n",
       "    </tr>\n",
       "    <tr>\n",
       "      <th>21</th>\n",
       "      <td>22</td>\n",
       "      <td>5</td>\n",
       "    </tr>\n",
       "    <tr>\n",
       "      <th>22</th>\n",
       "      <td>23</td>\n",
       "      <td>12</td>\n",
       "    </tr>\n",
       "    <tr>\n",
       "      <th>23</th>\n",
       "      <td>24</td>\n",
       "      <td>8</td>\n",
       "    </tr>\n",
       "    <tr>\n",
       "      <th>24</th>\n",
       "      <td>25</td>\n",
       "      <td>7</td>\n",
       "    </tr>\n",
       "    <tr>\n",
       "      <th>25</th>\n",
       "      <td>26</td>\n",
       "      <td>12</td>\n",
       "    </tr>\n",
       "    <tr>\n",
       "      <th>26</th>\n",
       "      <td>27</td>\n",
       "      <td>14</td>\n",
       "    </tr>\n",
       "    <tr>\n",
       "      <th>27</th>\n",
       "      <td>28</td>\n",
       "      <td>12</td>\n",
       "    </tr>\n",
       "    <tr>\n",
       "      <th>28</th>\n",
       "      <td>29</td>\n",
       "      <td>11</td>\n",
       "    </tr>\n",
       "    <tr>\n",
       "      <th>29</th>\n",
       "      <td>30</td>\n",
       "      <td>15</td>\n",
       "    </tr>\n",
       "  </tbody>\n",
       "</table>\n",
       "</div>"
      ],
      "text/plain": [
       "    Sample  Defects\n",
       "0        1       13\n",
       "1        2       12\n",
       "2        3       10\n",
       "3        4       11\n",
       "4        5       10\n",
       "5        6        6\n",
       "6        7       12\n",
       "7        8       12\n",
       "8        9        9\n",
       "9       10       15\n",
       "10      11        9\n",
       "11      12       10\n",
       "12      13       13\n",
       "13      14       13\n",
       "14      15       11\n",
       "15      16       11\n",
       "16      17        9\n",
       "17      18        8\n",
       "18      19       13\n",
       "19      20       14\n",
       "20      21       14\n",
       "21      22        5\n",
       "22      23       12\n",
       "23      24        8\n",
       "24      25        7\n",
       "25      26       12\n",
       "26      27       14\n",
       "27      28       12\n",
       "28      29       11\n",
       "29      30       15"
      ]
     },
     "execution_count": 51,
     "metadata": {},
     "output_type": "execute_result"
    }
   ],
   "source": [
    "# load dataset\n",
    "df = pd.read_csv(r\"raw\\defects-30-sample.csv\",delimiter=\",\")\n",
    "df"
   ]
  },
  {
   "cell_type": "code",
   "execution_count": 52,
   "id": "570fbdcf",
   "metadata": {},
   "outputs": [
    {
     "name": "stdout",
     "output_type": "stream",
     "text": [
      "<class 'pandas.core.frame.DataFrame'>\n",
      "RangeIndex: 30 entries, 0 to 29\n",
      "Data columns (total 2 columns):\n",
      " #   Column   Non-Null Count  Dtype\n",
      "---  ------   --------------  -----\n",
      " 0   Sample   30 non-null     int64\n",
      " 1   Defects  30 non-null     int64\n",
      "dtypes: int64(2)\n",
      "memory usage: 612.0 bytes\n"
     ]
    }
   ],
   "source": [
    "# summary of dataframe\n",
    "df.info()"
   ]
  },
  {
   "cell_type": "code",
   "execution_count": 53,
   "id": "204ece1c",
   "metadata": {},
   "outputs": [
    {
     "data": {
      "application/vnd.microsoft.datawrangler.viewer.v0+json": {
       "columns": [
        {
         "name": "index",
         "rawType": "object",
         "type": "string"
        },
        {
         "name": "Sample",
         "rawType": "float64",
         "type": "float"
        },
        {
         "name": "Defects",
         "rawType": "float64",
         "type": "float"
        }
       ],
       "conversionMethod": "pd.DataFrame",
       "ref": "5a219762-a415-4b9c-bbc4-33c789bd47cd",
       "rows": [
        [
         "count",
         "30.0",
         "30.0"
        ],
        [
         "mean",
         "15.5",
         "11.033333333333333"
        ],
        [
         "std",
         "8.803408430829505",
         "2.5661366821088016"
        ],
        [
         "min",
         "1.0",
         "5.0"
        ],
        [
         "25%",
         "8.25",
         "9.25"
        ],
        [
         "50%",
         "15.5",
         "11.5"
        ],
        [
         "75%",
         "22.75",
         "13.0"
        ],
        [
         "max",
         "30.0",
         "15.0"
        ]
       ],
       "shape": {
        "columns": 2,
        "rows": 8
       }
      },
      "text/html": [
       "<div>\n",
       "<style scoped>\n",
       "    .dataframe tbody tr th:only-of-type {\n",
       "        vertical-align: middle;\n",
       "    }\n",
       "\n",
       "    .dataframe tbody tr th {\n",
       "        vertical-align: top;\n",
       "    }\n",
       "\n",
       "    .dataframe thead th {\n",
       "        text-align: right;\n",
       "    }\n",
       "</style>\n",
       "<table border=\"1\" class=\"dataframe\">\n",
       "  <thead>\n",
       "    <tr style=\"text-align: right;\">\n",
       "      <th></th>\n",
       "      <th>Sample</th>\n",
       "      <th>Defects</th>\n",
       "    </tr>\n",
       "  </thead>\n",
       "  <tbody>\n",
       "    <tr>\n",
       "      <th>count</th>\n",
       "      <td>30.000000</td>\n",
       "      <td>30.000000</td>\n",
       "    </tr>\n",
       "    <tr>\n",
       "      <th>mean</th>\n",
       "      <td>15.500000</td>\n",
       "      <td>11.033333</td>\n",
       "    </tr>\n",
       "    <tr>\n",
       "      <th>std</th>\n",
       "      <td>8.803408</td>\n",
       "      <td>2.566137</td>\n",
       "    </tr>\n",
       "    <tr>\n",
       "      <th>min</th>\n",
       "      <td>1.000000</td>\n",
       "      <td>5.000000</td>\n",
       "    </tr>\n",
       "    <tr>\n",
       "      <th>25%</th>\n",
       "      <td>8.250000</td>\n",
       "      <td>9.250000</td>\n",
       "    </tr>\n",
       "    <tr>\n",
       "      <th>50%</th>\n",
       "      <td>15.500000</td>\n",
       "      <td>11.500000</td>\n",
       "    </tr>\n",
       "    <tr>\n",
       "      <th>75%</th>\n",
       "      <td>22.750000</td>\n",
       "      <td>13.000000</td>\n",
       "    </tr>\n",
       "    <tr>\n",
       "      <th>max</th>\n",
       "      <td>30.000000</td>\n",
       "      <td>15.000000</td>\n",
       "    </tr>\n",
       "  </tbody>\n",
       "</table>\n",
       "</div>"
      ],
      "text/plain": [
       "          Sample    Defects\n",
       "count  30.000000  30.000000\n",
       "mean   15.500000  11.033333\n",
       "std     8.803408   2.566137\n",
       "min     1.000000   5.000000\n",
       "25%     8.250000   9.250000\n",
       "50%    15.500000  11.500000\n",
       "75%    22.750000  13.000000\n",
       "max    30.000000  15.000000"
      ]
     },
     "execution_count": 53,
     "metadata": {},
     "output_type": "execute_result"
    }
   ],
   "source": [
    "# summary of statistics\n",
    "df.describe()"
   ]
  },
  {
   "cell_type": "markdown",
   "id": "a2382d5f",
   "metadata": {},
   "source": [
    "## Data Cleaning"
   ]
  },
  {
   "cell_type": "code",
   "execution_count": 54,
   "id": "bdee1ecd",
   "metadata": {},
   "outputs": [
    {
     "data": {
      "image/png": "[encoded data removed]",
      "text/plain": [
       "<Figure size 640x480 with 1 Axes>"
      ]
     },
     "metadata": {},
     "output_type": "display_data"
    }
   ],
   "source": [
    "# check for outliers\n",
    "plt.boxplot(df['Defects'],tick_labels=['Defects'])\n",
    "plt.show()"
   ]
  },
  {
   "cell_type": "code",
   "execution_count": 55,
   "id": "84137359",
   "metadata": {},
   "outputs": [],
   "source": [
    "# shapiro-wilk test\n",
    "w_stat, p_value = stats.shapiro(df['Defects'])"
   ]
  },
  {
   "cell_type": "code",
   "execution_count": 56,
   "id": "317c7a59",
   "metadata": {},
   "outputs": [
    {
     "data": {
      "text/plain": [
       "np.float64(0.9580360831170861)"
      ]
     },
     "execution_count": 56,
     "metadata": {},
     "output_type": "execute_result"
    }
   ],
   "source": [
    "# test statistc\n",
    "w_stat"
   ]
  },
  {
   "cell_type": "code",
   "execution_count": 57,
   "id": "739f1076",
   "metadata": {},
   "outputs": [
    {
     "data": {
      "text/plain": [
       "np.float64(0.27572271570425316)"
      ]
     },
     "execution_count": 57,
     "metadata": {},
     "output_type": "execute_result"
    }
   ],
   "source": [
    "# probability value\n",
    "p_value"
   ]
  },
  {
   "cell_type": "code",
   "execution_count": 58,
   "id": "9d469a4e",
   "metadata": {},
   "outputs": [
    {
     "name": "stdout",
     "output_type": "stream",
     "text": [
      "Normal data\n"
     ]
    }
   ],
   "source": [
    "# verdict\n",
    "alpha = 0.05\n",
    "\n",
    "if p_value < alpha:\n",
    "    # reject null hypothesis\n",
    "    print(\"Non-normal data\")\n",
    "else:\n",
    "    # fail to reject null hypothesis\n",
    "    print(\"Normal data\")"
   ]
  },
  {
   "cell_type": "code",
   "execution_count": 59,
   "id": "e5ce732d",
   "metadata": {},
   "outputs": [
    {
     "data": {
      "image/png": "[encoded data removed]",
      "text/plain": [
       "<Figure size 640x480 with 1 Axes>"
      ]
     },
     "metadata": {},
     "output_type": "display_data"
    }
   ],
   "source": [
    "# defects distribution\n",
    "plt.hist(df['Defects'])\n",
    "plt.title('Defects Distribution')\n",
    "plt.ylabel('N Count')\n",
    "plt.xlabel('N Sample')\n",
    "plt.show()"
   ]
  },
  {
   "cell_type": "markdown",
   "id": "e5937336",
   "metadata": {},
   "source": [
    "# Aderson-Darling Test"
   ]
  },
  {
   "cell_type": "code",
   "execution_count": 60,
   "id": "b1514036",
   "metadata": {},
   "outputs": [
    {
     "data": {
      "application/vnd.microsoft.datawrangler.viewer.v0+json": {
       "columns": [
        {
         "name": "index",
         "rawType": "int64",
         "type": "integer"
        },
        {
         "name": "Product",
         "rawType": "int64",
         "type": "integer"
        },
        {
         "name": "Defects",
         "rawType": "int64",
         "type": "integer"
        }
       ],
       "conversionMethod": "pd.DataFrame",
       "ref": "f566920e-e39b-490c-8e1d-f948eb661392",
       "rows": [
        [
         "0",
         "1",
         "12"
        ],
        [
         "1",
         "2",
         "8"
        ],
        [
         "2",
         "3",
         "9"
        ],
        [
         "3",
         "4",
         "11"
        ],
        [
         "4",
         "5",
         "9"
        ],
        [
         "5",
         "6",
         "10"
        ],
        [
         "6",
         "7",
         "12"
        ],
        [
         "7",
         "8",
         "9"
        ],
        [
         "8",
         "9",
         "12"
        ],
        [
         "9",
         "10",
         "4"
        ],
        [
         "10",
         "11",
         "11"
        ],
        [
         "11",
         "12",
         "8"
        ],
        [
         "12",
         "13",
         "12"
        ],
        [
         "13",
         "14",
         "12"
        ],
        [
         "14",
         "15",
         "9"
        ],
        [
         "15",
         "16",
         "8"
        ],
        [
         "16",
         "17",
         "9"
        ],
        [
         "17",
         "18",
         "10"
        ],
        [
         "18",
         "19",
         "15"
        ],
        [
         "19",
         "20",
         "11"
        ],
        [
         "20",
         "21",
         "14"
        ],
        [
         "21",
         "22",
         "11"
        ],
        [
         "22",
         "23",
         "9"
        ],
        [
         "23",
         "24",
         "7"
        ],
        [
         "24",
         "25",
         "15"
        ],
        [
         "25",
         "26",
         "11"
        ],
        [
         "26",
         "27",
         "13"
        ],
        [
         "27",
         "28",
         "9"
        ],
        [
         "28",
         "29",
         "15"
        ],
        [
         "29",
         "30",
         "8"
        ],
        [
         "30",
         "31",
         "7"
        ],
        [
         "31",
         "32",
         "11"
        ],
        [
         "32",
         "33",
         "17"
        ],
        [
         "33",
         "34",
         "12"
        ],
        [
         "34",
         "35",
         "7"
        ],
        [
         "35",
         "36",
         "11"
        ],
        [
         "36",
         "37",
         "7"
        ],
        [
         "37",
         "38",
         "6"
        ],
        [
         "38",
         "39",
         "10"
        ],
        [
         "39",
         "40",
         "11"
        ],
        [
         "40",
         "41",
         "12"
        ],
        [
         "41",
         "42",
         "7"
        ],
        [
         "42",
         "43",
         "11"
        ],
        [
         "43",
         "44",
         "6"
        ],
        [
         "44",
         "45",
         "12"
        ],
        [
         "45",
         "46",
         "13"
        ],
        [
         "46",
         "47",
         "1"
        ],
        [
         "47",
         "48",
         "12"
        ],
        [
         "48",
         "49",
         "13"
        ],
        [
         "49",
         "50",
         "8"
        ]
       ],
       "shape": {
        "columns": 2,
        "rows": 320
       }
      },
      "text/html": [
       "<div>\n",
       "<style scoped>\n",
       "    .dataframe tbody tr th:only-of-type {\n",
       "        vertical-align: middle;\n",
       "    }\n",
       "\n",
       "    .dataframe tbody tr th {\n",
       "        vertical-align: top;\n",
       "    }\n",
       "\n",
       "    .dataframe thead th {\n",
       "        text-align: right;\n",
       "    }\n",
       "</style>\n",
       "<table border=\"1\" class=\"dataframe\">\n",
       "  <thead>\n",
       "    <tr style=\"text-align: right;\">\n",
       "      <th></th>\n",
       "      <th>Product</th>\n",
       "      <th>Defects</th>\n",
       "    </tr>\n",
       "  </thead>\n",
       "  <tbody>\n",
       "    <tr>\n",
       "      <th>0</th>\n",
       "      <td>1</td>\n",
       "      <td>12</td>\n",
       "    </tr>\n",
       "    <tr>\n",
       "      <th>1</th>\n",
       "      <td>2</td>\n",
       "      <td>8</td>\n",
       "    </tr>\n",
       "    <tr>\n",
       "      <th>2</th>\n",
       "      <td>3</td>\n",
       "      <td>9</td>\n",
       "    </tr>\n",
       "    <tr>\n",
       "      <th>3</th>\n",
       "      <td>4</td>\n",
       "      <td>11</td>\n",
       "    </tr>\n",
       "    <tr>\n",
       "      <th>4</th>\n",
       "      <td>5</td>\n",
       "      <td>9</td>\n",
       "    </tr>\n",
       "    <tr>\n",
       "      <th>...</th>\n",
       "      <td>...</td>\n",
       "      <td>...</td>\n",
       "    </tr>\n",
       "    <tr>\n",
       "      <th>315</th>\n",
       "      <td>316</td>\n",
       "      <td>15</td>\n",
       "    </tr>\n",
       "    <tr>\n",
       "      <th>316</th>\n",
       "      <td>317</td>\n",
       "      <td>10</td>\n",
       "    </tr>\n",
       "    <tr>\n",
       "      <th>317</th>\n",
       "      <td>318</td>\n",
       "      <td>8</td>\n",
       "    </tr>\n",
       "    <tr>\n",
       "      <th>318</th>\n",
       "      <td>319</td>\n",
       "      <td>9</td>\n",
       "    </tr>\n",
       "    <tr>\n",
       "      <th>319</th>\n",
       "      <td>320</td>\n",
       "      <td>13</td>\n",
       "    </tr>\n",
       "  </tbody>\n",
       "</table>\n",
       "<p>320 rows × 2 columns</p>\n",
       "</div>"
      ],
      "text/plain": [
       "     Product  Defects\n",
       "0          1       12\n",
       "1          2        8\n",
       "2          3        9\n",
       "3          4       11\n",
       "4          5        9\n",
       "..       ...      ...\n",
       "315      316       15\n",
       "316      317       10\n",
       "317      318        8\n",
       "318      319        9\n",
       "319      320       13\n",
       "\n",
       "[320 rows x 2 columns]"
      ]
     },
     "execution_count": 60,
     "metadata": {},
     "output_type": "execute_result"
    }
   ],
   "source": [
    "# load dataset\n",
    "df = pd.read_csv(r\"raw\\defects-count.csv\",delimiter=\",\")\n",
    "df"
   ]
  },
  {
   "cell_type": "code",
   "execution_count": 67,
   "id": "232ce577",
   "metadata": {},
   "outputs": [
    {
     "name": "stdout",
     "output_type": "stream",
     "text": [
      "<class 'pandas.core.frame.DataFrame'>\n",
      "RangeIndex: 320 entries, 0 to 319\n",
      "Data columns (total 2 columns):\n",
      " #   Column   Non-Null Count  Dtype\n",
      "---  ------   --------------  -----\n",
      " 0   Product  320 non-null    int64\n",
      " 1   Defects  320 non-null    int64\n",
      "dtypes: int64(2)\n",
      "memory usage: 5.1 KB\n"
     ]
    }
   ],
   "source": [
    "# summary of dataframe\n",
    "df.info()"
   ]
  },
  {
   "cell_type": "code",
   "execution_count": 62,
   "id": "a83d3e47",
   "metadata": {},
   "outputs": [
    {
     "data": {
      "application/vnd.microsoft.datawrangler.viewer.v0+json": {
       "columns": [
        {
         "name": "index",
         "rawType": "object",
         "type": "string"
        },
        {
         "name": "Product",
         "rawType": "float64",
         "type": "float"
        },
        {
         "name": "Defects",
         "rawType": "float64",
         "type": "float"
        }
       ],
       "conversionMethod": "pd.DataFrame",
       "ref": "1de21cc2-b9ef-404f-8567-e6e03d05904f",
       "rows": [
        [
         "count",
         "320.0",
         "320.0"
        ],
        [
         "mean",
         "160.5",
         "10.325"
        ],
        [
         "std",
         "92.52026804976302",
         "3.172274087151446"
        ],
        [
         "min",
         "1.0",
         "1.0"
        ],
        [
         "25%",
         "80.75",
         "8.0"
        ],
        [
         "50%",
         "160.5",
         "11.0"
        ],
        [
         "75%",
         "240.25",
         "12.0"
        ],
        [
         "max",
         "320.0",
         "18.0"
        ]
       ],
       "shape": {
        "columns": 2,
        "rows": 8
       }
      },
      "text/html": [
       "<div>\n",
       "<style scoped>\n",
       "    .dataframe tbody tr th:only-of-type {\n",
       "        vertical-align: middle;\n",
       "    }\n",
       "\n",
       "    .dataframe tbody tr th {\n",
       "        vertical-align: top;\n",
       "    }\n",
       "\n",
       "    .dataframe thead th {\n",
       "        text-align: right;\n",
       "    }\n",
       "</style>\n",
       "<table border=\"1\" class=\"dataframe\">\n",
       "  <thead>\n",
       "    <tr style=\"text-align: right;\">\n",
       "      <th></th>\n",
       "      <th>Product</th>\n",
       "      <th>Defects</th>\n",
       "    </tr>\n",
       "  </thead>\n",
       "  <tbody>\n",
       "    <tr>\n",
       "      <th>count</th>\n",
       "      <td>320.000000</td>\n",
       "      <td>320.000000</td>\n",
       "    </tr>\n",
       "    <tr>\n",
       "      <th>mean</th>\n",
       "      <td>160.500000</td>\n",
       "      <td>10.325000</td>\n",
       "    </tr>\n",
       "    <tr>\n",
       "      <th>std</th>\n",
       "      <td>92.520268</td>\n",
       "      <td>3.172274</td>\n",
       "    </tr>\n",
       "    <tr>\n",
       "      <th>min</th>\n",
       "      <td>1.000000</td>\n",
       "      <td>1.000000</td>\n",
       "    </tr>\n",
       "    <tr>\n",
       "      <th>25%</th>\n",
       "      <td>80.750000</td>\n",
       "      <td>8.000000</td>\n",
       "    </tr>\n",
       "    <tr>\n",
       "      <th>50%</th>\n",
       "      <td>160.500000</td>\n",
       "      <td>11.000000</td>\n",
       "    </tr>\n",
       "    <tr>\n",
       "      <th>75%</th>\n",
       "      <td>240.250000</td>\n",
       "      <td>12.000000</td>\n",
       "    </tr>\n",
       "    <tr>\n",
       "      <th>max</th>\n",
       "      <td>320.000000</td>\n",
       "      <td>18.000000</td>\n",
       "    </tr>\n",
       "  </tbody>\n",
       "</table>\n",
       "</div>"
      ],
      "text/plain": [
       "          Product     Defects\n",
       "count  320.000000  320.000000\n",
       "mean   160.500000   10.325000\n",
       "std     92.520268    3.172274\n",
       "min      1.000000    1.000000\n",
       "25%     80.750000    8.000000\n",
       "50%    160.500000   11.000000\n",
       "75%    240.250000   12.000000\n",
       "max    320.000000   18.000000"
      ]
     },
     "execution_count": 62,
     "metadata": {},
     "output_type": "execute_result"
    }
   ],
   "source": [
    "# summary of statistics\n",
    "df.describe()"
   ]
  },
  {
   "cell_type": "markdown",
   "id": "0468a5b1",
   "metadata": {},
   "source": [
    "## Data Cleaning"
   ]
  },
  {
   "cell_type": "code",
   "execution_count": 65,
   "id": "aab75ac6",
   "metadata": {},
   "outputs": [
    {
     "data": {
      "image/png": "[encoded data removed]",
      "text/plain": [
       "<Figure size 640x480 with 1 Axes>"
      ]
     },
     "metadata": {},
     "output_type": "display_data"
    }
   ],
   "source": [
    "# check for outliers\n",
    "plt.boxplot(df['Defects'],tick_labels=['Defects'])\n",
    "plt.show()"
   ]
  },
  {
   "cell_type": "code",
   "execution_count": 66,
   "id": "f512b361",
   "metadata": {},
   "outputs": [],
   "source": [
    "# removing 3-sigma outliers\n",
    "z = stats.zscore(df['Defects'])\n",
    "outliers = (z<-3)|(z>3)\n",
    "df = df[~outliers]"
   ]
  },
  {
   "cell_type": "code",
   "execution_count": 68,
   "id": "120080ed",
   "metadata": {},
   "outputs": [],
   "source": [
    "# anderson-darling statistics\n",
    "a2_stat, critical, alpha = stats.anderson(df['Defects'])"
   ]
  },
  {
   "cell_type": "code",
   "execution_count": 69,
   "id": "a20b78f3",
   "metadata": {},
   "outputs": [
    {
     "data": {
      "text/plain": [
       "np.float64(1.694159163431209)"
      ]
     },
     "execution_count": 69,
     "metadata": {},
     "output_type": "execute_result"
    }
   ],
   "source": [
    "# statistic\n",
    "a2_stat"
   ]
  },
  {
   "cell_type": "code",
   "execution_count": 70,
   "id": "4d31d5c3",
   "metadata": {},
   "outputs": [
    {
     "data": {
      "text/plain": [
       "array([0.569, 0.648, 0.777, 0.907, 1.079])"
      ]
     },
     "execution_count": 70,
     "metadata": {},
     "output_type": "execute_result"
    }
   ],
   "source": [
    "# critical values\n",
    "critical"
   ]
  },
  {
   "cell_type": "code",
   "execution_count": 71,
   "id": "eb95b029",
   "metadata": {},
   "outputs": [
    {
     "data": {
      "text/plain": [
       "array([15. , 10. ,  5. ,  2.5,  1. ])"
      ]
     },
     "execution_count": 71,
     "metadata": {},
     "output_type": "execute_result"
    }
   ],
   "source": [
    "# significance level\n",
    "alpha"
   ]
  },
  {
   "cell_type": "code",
   "execution_count": 72,
   "id": "b7247fa6",
   "metadata": {},
   "outputs": [
    {
     "name": "stdout",
     "output_type": "stream",
     "text": [
      "Non-normal data\n"
     ]
    }
   ],
   "source": [
    "# verdict\n",
    "# let alpha = 0.05\n",
    "if a2_stat > critical[2]:\n",
    "    # reject null hypothesis\n",
    "    print(\"Non-normal data\")\n",
    "else:\n",
    "    # fail to reject null hypothesis\n",
    "    print(\"Normal data\")"
   ]
  },
  {
   "cell_type": "code",
   "execution_count": 73,
   "id": "3daa2152",
   "metadata": {},
   "outputs": [
    {
     "data": {
      "image/png": "[encoded data removed]",
      "text/plain": [
       "<Figure size 640x480 with 1 Axes>"
      ]
     },
     "metadata": {},
     "output_type": "display_data"
    }
   ],
   "source": [
    "# defects distribution\n",
    "plt.hist(df['Defects'])\n",
    "plt.title('Defects Distribution')\n",
    "plt.ylabel('N Count')\n",
    "plt.xlabel('N Sample')\n",
    "plt.show()"
   ]
  }
 ],
 "metadata": {
  "kernelspec": {
   "display_name": "Python 3",
   "language": "python",
   "name": "python3"
  },
  "language_info": {
   "codemirror_mode": {
    "name": "ipython",
    "version": 3
   },
   "file_extension": ".py",
   "mimetype": "text/x-python",
   "name": "python",
   "nbconvert_exporter": "python",
   "pygments_lexer": "ipython3",
   "version": "3.13.0"
  }
 },
 "nbformat": 4,
 "nbformat_minor": 5
}
