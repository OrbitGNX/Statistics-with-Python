{
 "cells": [
  {
   "cell_type": "markdown",
   "id": "d9d84376",
   "metadata": {},
   "source": [
    "#  ANOVA <hr style=\"border:2.5px solid #126782\"></hr>"
   ]
  },
  {
   "cell_type": "markdown",
   "id": "45ae38fe",
   "metadata": {
    "vscode": {
     "languageId": "plaintext"
    }
   },
   "source": [
    "Data Analyst: Gyro A. Madrona<br>\n",
    "Department: Electrical Engineering"
   ]
  },
  {
   "cell_type": "code",
   "execution_count": 228,
   "id": "66f28709",
   "metadata": {},
   "outputs": [],
   "source": [
    "#%pip install pingouin --upgrade"
   ]
  },
  {
   "cell_type": "code",
   "execution_count": 1,
   "id": "4f1231ca",
   "metadata": {},
   "outputs": [],
   "source": [
    "# imports and packages\n",
    "import pandas as pd\n",
    "import matplotlib.pyplot as plt\n",
    "from scipy import stats\n",
    "import pingouin as pg"
   ]
  },
  {
   "cell_type": "code",
   "execution_count": 2,
   "id": "819e4cd8",
   "metadata": {},
   "outputs": [
    {
     "data": {
      "application/vnd.microsoft.datawrangler.viewer.v0+json": {
       "columns": [
        {
         "name": "index",
         "rawType": "int64",
         "type": "integer"
        },
        {
         "name": "Plant_1",
         "rawType": "int64",
         "type": "integer"
        },
        {
         "name": "Plant_2",
         "rawType": "int64",
         "type": "integer"
        },
        {
         "name": "Plant_3",
         "rawType": "int64",
         "type": "integer"
        }
       ],
       "conversionMethod": "pd.DataFrame",
       "ref": "ea15d5fd-9a1b-4926-ad51-1e77be815253",
       "rows": [
        [
         "0",
         "1826",
         "1646",
         "1815"
        ],
        [
         "1",
         "1644",
         "1808",
         "1777"
        ],
        [
         "2",
         "1771",
         "1865",
         "1854"
        ],
        [
         "3",
         "2007",
         "1802",
         "1627"
        ],
        [
         "4",
         "1812",
         "1828",
         "1872"
        ],
        [
         "5",
         "1755",
         "1766",
         "1600"
        ],
        [
         "6",
         "1721",
         "1851",
         "1706"
        ],
        [
         "7",
         "1745",
         "1742",
         "1825"
        ],
        [
         "8",
         "2014",
         "1798",
         "1638"
        ],
        [
         "9",
         "1956",
         "1999",
         "1843"
        ],
        [
         "10",
         "1818",
         "1850",
         "1926"
        ],
        [
         "11",
         "1938",
         "1684",
         "1780"
        ],
        [
         "12",
         "1774",
         "1899",
         "1869"
        ],
        [
         "13",
         "1631",
         "1692",
         "2093"
        ],
        [
         "14",
         "1731",
         "1832",
         "1931"
        ],
        [
         "15",
         "1776",
         "1860",
         "1676"
        ],
        [
         "16",
         "1679",
         "1794",
         "1836"
        ],
        [
         "17",
         "1866",
         "1933",
         "2017"
        ],
        [
         "18",
         "1805",
         "2006",
         "1865"
        ],
        [
         "19",
         "1589",
         "1477",
         "1713"
        ],
        [
         "20",
         "1802",
         "1932",
         "1662"
        ],
        [
         "21",
         "1794",
         "1906",
         "1700"
        ],
        [
         "22",
         "2052",
         "1870",
         "1528"
        ],
        [
         "23",
         "1795",
         "1849",
         "1994"
        ],
        [
         "24",
         "1979",
         "1716",
         "1619"
        ],
        [
         "25",
         "1845",
         "1710",
         "1908"
        ],
        [
         "26",
         "1738",
         "1742",
         "1779"
        ],
        [
         "27",
         "1806",
         "2165",
         "1805"
        ],
        [
         "28",
         "1962",
         "1956",
         "1698"
        ],
        [
         "29",
         "1865",
         "1880",
         "1908"
        ],
        [
         "30",
         "1868",
         "1963",
         "1770"
        ],
        [
         "31",
         "1726",
         "1839",
         "2004"
        ],
        [
         "32",
         "1946",
         "1776",
         "1757"
        ],
        [
         "33",
         "1819",
         "1884",
         "1938"
        ],
        [
         "34",
         "1820",
         "1700",
         "1927"
        ],
        [
         "35",
         "1696",
         "1806",
         "1575"
        ],
        [
         "36",
         "1673",
         "1854",
         "1738"
        ],
        [
         "37",
         "1760",
         "1749",
         "1499"
        ],
        [
         "38",
         "1871",
         "1826",
         "1821"
        ],
        [
         "39",
         "1688",
         "1902",
         "1767"
        ],
        [
         "40",
         "1889",
         "1809",
         "1501"
        ],
        [
         "41",
         "1653",
         "1664",
         "1889"
        ],
        [
         "42",
         "1784",
         "1934",
         "1807"
        ],
        [
         "43",
         "1896",
         "1615",
         "1816"
        ],
        [
         "44",
         "1898",
         "1788",
         "1759"
        ],
        [
         "45",
         "1733",
         "1787",
         "1705"
        ],
        [
         "46",
         "1741",
         "1961",
         "1664"
        ],
        [
         "47",
         "2050",
         "2043",
         "1575"
        ],
        [
         "48",
         "1672",
         "2069",
         "2026"
        ],
        [
         "49",
         "1823",
         "1929",
         "1907"
        ]
       ],
       "shape": {
        "columns": 3,
        "rows": 250
       }
      },
      "text/html": [
       "<div>\n",
       "<style scoped>\n",
       "    .dataframe tbody tr th:only-of-type {\n",
       "        vertical-align: middle;\n",
       "    }\n",
       "\n",
       "    .dataframe tbody tr th {\n",
       "        vertical-align: top;\n",
       "    }\n",
       "\n",
       "    .dataframe thead th {\n",
       "        text-align: right;\n",
       "    }\n",
       "</style>\n",
       "<table border=\"1\" class=\"dataframe\">\n",
       "  <thead>\n",
       "    <tr style=\"text-align: right;\">\n",
       "      <th></th>\n",
       "      <th>Plant_1</th>\n",
       "      <th>Plant_2</th>\n",
       "      <th>Plant_3</th>\n",
       "    </tr>\n",
       "  </thead>\n",
       "  <tbody>\n",
       "    <tr>\n",
       "      <th>0</th>\n",
       "      <td>1826</td>\n",
       "      <td>1646</td>\n",
       "      <td>1815</td>\n",
       "    </tr>\n",
       "    <tr>\n",
       "      <th>1</th>\n",
       "      <td>1644</td>\n",
       "      <td>1808</td>\n",
       "      <td>1777</td>\n",
       "    </tr>\n",
       "    <tr>\n",
       "      <th>2</th>\n",
       "      <td>1771</td>\n",
       "      <td>1865</td>\n",
       "      <td>1854</td>\n",
       "    </tr>\n",
       "    <tr>\n",
       "      <th>3</th>\n",
       "      <td>2007</td>\n",
       "      <td>1802</td>\n",
       "      <td>1627</td>\n",
       "    </tr>\n",
       "    <tr>\n",
       "      <th>4</th>\n",
       "      <td>1812</td>\n",
       "      <td>1828</td>\n",
       "      <td>1872</td>\n",
       "    </tr>\n",
       "    <tr>\n",
       "      <th>...</th>\n",
       "      <td>...</td>\n",
       "      <td>...</td>\n",
       "      <td>...</td>\n",
       "    </tr>\n",
       "    <tr>\n",
       "      <th>245</th>\n",
       "      <td>1822</td>\n",
       "      <td>1566</td>\n",
       "      <td>1761</td>\n",
       "    </tr>\n",
       "    <tr>\n",
       "      <th>246</th>\n",
       "      <td>1921</td>\n",
       "      <td>1699</td>\n",
       "      <td>1659</td>\n",
       "    </tr>\n",
       "    <tr>\n",
       "      <th>247</th>\n",
       "      <td>1585</td>\n",
       "      <td>2052</td>\n",
       "      <td>1820</td>\n",
       "    </tr>\n",
       "    <tr>\n",
       "      <th>248</th>\n",
       "      <td>1779</td>\n",
       "      <td>1726</td>\n",
       "      <td>2027</td>\n",
       "    </tr>\n",
       "    <tr>\n",
       "      <th>249</th>\n",
       "      <td>1760</td>\n",
       "      <td>1506</td>\n",
       "      <td>1963</td>\n",
       "    </tr>\n",
       "  </tbody>\n",
       "</table>\n",
       "<p>250 rows × 3 columns</p>\n",
       "</div>"
      ],
      "text/plain": [
       "     Plant_1  Plant_2  Plant_3\n",
       "0       1826     1646     1815\n",
       "1       1644     1808     1777\n",
       "2       1771     1865     1854\n",
       "3       2007     1802     1627\n",
       "4       1812     1828     1872\n",
       "..       ...      ...      ...\n",
       "245     1822     1566     1761\n",
       "246     1921     1699     1659\n",
       "247     1585     2052     1820\n",
       "248     1779     1726     2027\n",
       "249     1760     1506     1963\n",
       "\n",
       "[250 rows x 3 columns]"
      ]
     },
     "execution_count": 2,
     "metadata": {},
     "output_type": "execute_result"
    }
   ],
   "source": [
    "# load dataset\n",
    "df = pd.read_csv(r\"raw\\hydroelectric-sample.csv\",\n",
    "                 delimiter=',')\n",
    "df"
   ]
  },
  {
   "cell_type": "code",
   "execution_count": 31,
   "id": "9cc3acae",
   "metadata": {},
   "outputs": [
    {
     "name": "stdout",
     "output_type": "stream",
     "text": [
      "<class 'pandas.core.frame.DataFrame'>\n",
      "Index: 246 entries, 0 to 249\n",
      "Data columns (total 3 columns):\n",
      " #   Column   Non-Null Count  Dtype\n",
      "---  ------   --------------  -----\n",
      " 0   Plant_1  246 non-null    int64\n",
      " 1   Plant_2  246 non-null    int64\n",
      " 2   Plant_3  246 non-null    int64\n",
      "dtypes: int64(3)\n",
      "memory usage: 7.7 KB\n"
     ]
    }
   ],
   "source": [
    "# summary of dataframe\n",
    "df.info()"
   ]
  },
  {
   "cell_type": "code",
   "execution_count": 32,
   "id": "8087cf4e",
   "metadata": {},
   "outputs": [
    {
     "data": {
      "application/vnd.microsoft.datawrangler.viewer.v0+json": {
       "columns": [
        {
         "name": "index",
         "rawType": "object",
         "type": "string"
        },
        {
         "name": "Plant_1",
         "rawType": "float64",
         "type": "float"
        },
        {
         "name": "Plant_2",
         "rawType": "float64",
         "type": "float"
        },
        {
         "name": "Plant_3",
         "rawType": "float64",
         "type": "float"
        }
       ],
       "conversionMethod": "pd.DataFrame",
       "ref": "dd6451b8-0ff7-4c94-a640-538bb5204c41",
       "rows": [
        [
         "count",
         "246.0",
         "246.0",
         "246.0"
        ],
        [
         "mean",
         "1796.3821138211383",
         "1806.3658536585365",
         "1789.1056910569105"
        ],
        [
         "std",
         "126.53869427241054",
         "124.80523721956367",
         "125.57370795968788"
        ],
        [
         "min",
         "1490.0",
         "1477.0",
         "1422.0"
        ],
        [
         "25%",
         "1713.25",
         "1716.0",
         "1700.5"
        ],
        [
         "50%",
         "1786.5",
         "1802.5",
         "1789.0"
        ],
        [
         "75%",
         "1886.5",
         "1884.0",
         "1866.75"
        ],
        [
         "max",
         "2152.0",
         "2165.0",
         "2143.0"
        ]
       ],
       "shape": {
        "columns": 3,
        "rows": 8
       }
      },
      "text/html": [
       "<div>\n",
       "<style scoped>\n",
       "    .dataframe tbody tr th:only-of-type {\n",
       "        vertical-align: middle;\n",
       "    }\n",
       "\n",
       "    .dataframe tbody tr th {\n",
       "        vertical-align: top;\n",
       "    }\n",
       "\n",
       "    .dataframe thead th {\n",
       "        text-align: right;\n",
       "    }\n",
       "</style>\n",
       "<table border=\"1\" class=\"dataframe\">\n",
       "  <thead>\n",
       "    <tr style=\"text-align: right;\">\n",
       "      <th></th>\n",
       "      <th>Plant_1</th>\n",
       "      <th>Plant_2</th>\n",
       "      <th>Plant_3</th>\n",
       "    </tr>\n",
       "  </thead>\n",
       "  <tbody>\n",
       "    <tr>\n",
       "      <th>count</th>\n",
       "      <td>246.000000</td>\n",
       "      <td>246.000000</td>\n",
       "      <td>246.000000</td>\n",
       "    </tr>\n",
       "    <tr>\n",
       "      <th>mean</th>\n",
       "      <td>1796.382114</td>\n",
       "      <td>1806.365854</td>\n",
       "      <td>1789.105691</td>\n",
       "    </tr>\n",
       "    <tr>\n",
       "      <th>std</th>\n",
       "      <td>126.538694</td>\n",
       "      <td>124.805237</td>\n",
       "      <td>125.573708</td>\n",
       "    </tr>\n",
       "    <tr>\n",
       "      <th>min</th>\n",
       "      <td>1490.000000</td>\n",
       "      <td>1477.000000</td>\n",
       "      <td>1422.000000</td>\n",
       "    </tr>\n",
       "    <tr>\n",
       "      <th>25%</th>\n",
       "      <td>1713.250000</td>\n",
       "      <td>1716.000000</td>\n",
       "      <td>1700.500000</td>\n",
       "    </tr>\n",
       "    <tr>\n",
       "      <th>50%</th>\n",
       "      <td>1786.500000</td>\n",
       "      <td>1802.500000</td>\n",
       "      <td>1789.000000</td>\n",
       "    </tr>\n",
       "    <tr>\n",
       "      <th>75%</th>\n",
       "      <td>1886.500000</td>\n",
       "      <td>1884.000000</td>\n",
       "      <td>1866.750000</td>\n",
       "    </tr>\n",
       "    <tr>\n",
       "      <th>max</th>\n",
       "      <td>2152.000000</td>\n",
       "      <td>2165.000000</td>\n",
       "      <td>2143.000000</td>\n",
       "    </tr>\n",
       "  </tbody>\n",
       "</table>\n",
       "</div>"
      ],
      "text/plain": [
       "           Plant_1      Plant_2      Plant_3\n",
       "count   246.000000   246.000000   246.000000\n",
       "mean   1796.382114  1806.365854  1789.105691\n",
       "std     126.538694   124.805237   125.573708\n",
       "min    1490.000000  1477.000000  1422.000000\n",
       "25%    1713.250000  1716.000000  1700.500000\n",
       "50%    1786.500000  1802.500000  1789.000000\n",
       "75%    1886.500000  1884.000000  1866.750000\n",
       "max    2152.000000  2165.000000  2143.000000"
      ]
     },
     "execution_count": 32,
     "metadata": {},
     "output_type": "execute_result"
    }
   ],
   "source": [
    "# summary of statistics\n",
    "df.describe()"
   ]
  },
  {
   "cell_type": "markdown",
   "id": "9d3b1963",
   "metadata": {},
   "source": [
    "# Data Cleaning"
   ]
  },
  {
   "cell_type": "code",
   "execution_count": 30,
   "id": "3e548092",
   "metadata": {},
   "outputs": [
    {
     "data": {
      "image/png": "[encoded data removed]",
      "text/plain": [
       "<Figure size 640x480 with 1 Axes>"
      ]
     },
     "metadata": {},
     "output_type": "display_data"
    }
   ],
   "source": [
    "# check for 3-sigma outliers\n",
    "plt.boxplot(df[['Plant_1','Plant_2','Plant_3']],\n",
    "            tick_labels=df.columns)\n",
    "plt.title(\"Hyrdroelectric Plants\")\n",
    "plt.ylabel(\"Production MWh\")\n",
    "plt.show()"
   ]
  },
  {
   "cell_type": "code",
   "execution_count": 27,
   "id": "76702e3a",
   "metadata": {},
   "outputs": [],
   "source": [
    "# Plant 1\n",
    "p1_z = stats.zscore(df['Plant_1'])\n",
    "p1_outliers = (p1_z < -3) | (p1_z > 3)\n",
    "df = df[~p1_outliers]"
   ]
  },
  {
   "cell_type": "code",
   "execution_count": 29,
   "id": "79da6cd0",
   "metadata": {},
   "outputs": [],
   "source": [
    "# Plant 2\n",
    "p2_z = stats.zscore(df['Plant_2'])\n",
    "p2_outliers = (p2_z < -3) | (p2_z > 3)\n",
    "df = df[~p2_outliers]"
   ]
  },
  {
   "cell_type": "code",
   "execution_count": 23,
   "id": "08d7707c",
   "metadata": {},
   "outputs": [],
   "source": [
    "# Plant 3\n",
    "p3_z = stats.zscore(df['Plant_3'])\n",
    "p3_outliers = (p3_z < -3) | (p3_z > 3)\n",
    "df = df[~p3_outliers]"
   ]
  },
  {
   "cell_type": "code",
   "execution_count": 237,
   "id": "44eb99df",
   "metadata": {},
   "outputs": [],
   "source": [
    "#df.to_csv(r\"raw\\hydroelectric-sample-cleaned.csv\",\n",
    "#          index=False)"
   ]
  },
  {
   "cell_type": "markdown",
   "id": "8061e86f",
   "metadata": {},
   "source": [
    "# Normality Test"
   ]
  },
  {
   "cell_type": "code",
   "execution_count": 33,
   "id": "ecd0948e",
   "metadata": {},
   "outputs": [
    {
     "data": {
      "application/vnd.microsoft.datawrangler.viewer.v0+json": {
       "columns": [
        {
         "name": "index",
         "rawType": "int64",
         "type": "integer"
        },
        {
         "name": "Plant_1",
         "rawType": "int64",
         "type": "integer"
        },
        {
         "name": "Plant_2",
         "rawType": "int64",
         "type": "integer"
        },
        {
         "name": "Plant_3",
         "rawType": "int64",
         "type": "integer"
        }
       ],
       "conversionMethod": "pd.DataFrame",
       "ref": "84d66906-1dfd-48d1-adf1-84560ac37ef5",
       "rows": [
        [
         "0",
         "1826",
         "1646",
         "1815"
        ],
        [
         "1",
         "1644",
         "1808",
         "1777"
        ],
        [
         "2",
         "1771",
         "1865",
         "1854"
        ],
        [
         "3",
         "2007",
         "1802",
         "1627"
        ],
        [
         "4",
         "1812",
         "1828",
         "1872"
        ],
        [
         "5",
         "1755",
         "1766",
         "1600"
        ],
        [
         "6",
         "1721",
         "1851",
         "1706"
        ],
        [
         "7",
         "1745",
         "1742",
         "1825"
        ],
        [
         "8",
         "2014",
         "1798",
         "1638"
        ],
        [
         "9",
         "1956",
         "1999",
         "1843"
        ],
        [
         "10",
         "1818",
         "1850",
         "1926"
        ],
        [
         "11",
         "1938",
         "1684",
         "1780"
        ],
        [
         "12",
         "1774",
         "1899",
         "1869"
        ],
        [
         "13",
         "1631",
         "1692",
         "2093"
        ],
        [
         "14",
         "1731",
         "1832",
         "1931"
        ],
        [
         "15",
         "1776",
         "1860",
         "1676"
        ],
        [
         "16",
         "1679",
         "1794",
         "1836"
        ],
        [
         "17",
         "1866",
         "1933",
         "2017"
        ],
        [
         "18",
         "1805",
         "2006",
         "1865"
        ],
        [
         "19",
         "1589",
         "1477",
         "1713"
        ],
        [
         "20",
         "1802",
         "1932",
         "1662"
        ],
        [
         "21",
         "1794",
         "1906",
         "1700"
        ],
        [
         "22",
         "2052",
         "1870",
         "1528"
        ],
        [
         "23",
         "1795",
         "1849",
         "1994"
        ],
        [
         "24",
         "1979",
         "1716",
         "1619"
        ],
        [
         "25",
         "1845",
         "1710",
         "1908"
        ],
        [
         "26",
         "1738",
         "1742",
         "1779"
        ],
        [
         "27",
         "1806",
         "2165",
         "1805"
        ],
        [
         "28",
         "1962",
         "1956",
         "1698"
        ],
        [
         "29",
         "1865",
         "1880",
         "1908"
        ],
        [
         "30",
         "1868",
         "1963",
         "1770"
        ],
        [
         "31",
         "1726",
         "1839",
         "2004"
        ],
        [
         "32",
         "1946",
         "1776",
         "1757"
        ],
        [
         "33",
         "1819",
         "1884",
         "1938"
        ],
        [
         "34",
         "1820",
         "1700",
         "1927"
        ],
        [
         "35",
         "1696",
         "1806",
         "1575"
        ],
        [
         "36",
         "1673",
         "1854",
         "1738"
        ],
        [
         "37",
         "1760",
         "1749",
         "1499"
        ],
        [
         "38",
         "1871",
         "1826",
         "1821"
        ],
        [
         "39",
         "1688",
         "1902",
         "1767"
        ],
        [
         "40",
         "1889",
         "1809",
         "1501"
        ],
        [
         "41",
         "1653",
         "1664",
         "1889"
        ],
        [
         "42",
         "1784",
         "1934",
         "1807"
        ],
        [
         "43",
         "1896",
         "1615",
         "1816"
        ],
        [
         "44",
         "1898",
         "1788",
         "1759"
        ],
        [
         "45",
         "1733",
         "1787",
         "1705"
        ],
        [
         "46",
         "1741",
         "1961",
         "1664"
        ],
        [
         "47",
         "2050",
         "2043",
         "1575"
        ],
        [
         "48",
         "1672",
         "2069",
         "2026"
        ],
        [
         "49",
         "1823",
         "1929",
         "1907"
        ]
       ],
       "shape": {
        "columns": 3,
        "rows": 246
       }
      },
      "text/html": [
       "<div>\n",
       "<style scoped>\n",
       "    .dataframe tbody tr th:only-of-type {\n",
       "        vertical-align: middle;\n",
       "    }\n",
       "\n",
       "    .dataframe tbody tr th {\n",
       "        vertical-align: top;\n",
       "    }\n",
       "\n",
       "    .dataframe thead th {\n",
       "        text-align: right;\n",
       "    }\n",
       "</style>\n",
       "<table border=\"1\" class=\"dataframe\">\n",
       "  <thead>\n",
       "    <tr style=\"text-align: right;\">\n",
       "      <th></th>\n",
       "      <th>Plant_1</th>\n",
       "      <th>Plant_2</th>\n",
       "      <th>Plant_3</th>\n",
       "    </tr>\n",
       "  </thead>\n",
       "  <tbody>\n",
       "    <tr>\n",
       "      <th>0</th>\n",
       "      <td>1826</td>\n",
       "      <td>1646</td>\n",
       "      <td>1815</td>\n",
       "    </tr>\n",
       "    <tr>\n",
       "      <th>1</th>\n",
       "      <td>1644</td>\n",
       "      <td>1808</td>\n",
       "      <td>1777</td>\n",
       "    </tr>\n",
       "    <tr>\n",
       "      <th>2</th>\n",
       "      <td>1771</td>\n",
       "      <td>1865</td>\n",
       "      <td>1854</td>\n",
       "    </tr>\n",
       "    <tr>\n",
       "      <th>3</th>\n",
       "      <td>2007</td>\n",
       "      <td>1802</td>\n",
       "      <td>1627</td>\n",
       "    </tr>\n",
       "    <tr>\n",
       "      <th>4</th>\n",
       "      <td>1812</td>\n",
       "      <td>1828</td>\n",
       "      <td>1872</td>\n",
       "    </tr>\n",
       "    <tr>\n",
       "      <th>...</th>\n",
       "      <td>...</td>\n",
       "      <td>...</td>\n",
       "      <td>...</td>\n",
       "    </tr>\n",
       "    <tr>\n",
       "      <th>241</th>\n",
       "      <td>1822</td>\n",
       "      <td>1566</td>\n",
       "      <td>1761</td>\n",
       "    </tr>\n",
       "    <tr>\n",
       "      <th>242</th>\n",
       "      <td>1921</td>\n",
       "      <td>1699</td>\n",
       "      <td>1659</td>\n",
       "    </tr>\n",
       "    <tr>\n",
       "      <th>243</th>\n",
       "      <td>1585</td>\n",
       "      <td>2052</td>\n",
       "      <td>1820</td>\n",
       "    </tr>\n",
       "    <tr>\n",
       "      <th>244</th>\n",
       "      <td>1779</td>\n",
       "      <td>1726</td>\n",
       "      <td>2027</td>\n",
       "    </tr>\n",
       "    <tr>\n",
       "      <th>245</th>\n",
       "      <td>1760</td>\n",
       "      <td>1506</td>\n",
       "      <td>1963</td>\n",
       "    </tr>\n",
       "  </tbody>\n",
       "</table>\n",
       "<p>246 rows × 3 columns</p>\n",
       "</div>"
      ],
      "text/plain": [
       "     Plant_1  Plant_2  Plant_3\n",
       "0       1826     1646     1815\n",
       "1       1644     1808     1777\n",
       "2       1771     1865     1854\n",
       "3       2007     1802     1627\n",
       "4       1812     1828     1872\n",
       "..       ...      ...      ...\n",
       "241     1822     1566     1761\n",
       "242     1921     1699     1659\n",
       "243     1585     2052     1820\n",
       "244     1779     1726     2027\n",
       "245     1760     1506     1963\n",
       "\n",
       "[246 rows x 3 columns]"
      ]
     },
     "execution_count": 33,
     "metadata": {},
     "output_type": "execute_result"
    }
   ],
   "source": [
    "# load dataset\n",
    "df = pd.read_csv(r\"raw\\hydroelectric-sample-cleaned.csv\")\n",
    "df"
   ]
  },
  {
   "cell_type": "code",
   "execution_count": 34,
   "id": "30a08dda",
   "metadata": {},
   "outputs": [
    {
     "name": "stdout",
     "output_type": "stream",
     "text": [
      "<class 'pandas.core.frame.DataFrame'>\n",
      "RangeIndex: 246 entries, 0 to 245\n",
      "Data columns (total 3 columns):\n",
      " #   Column   Non-Null Count  Dtype\n",
      "---  ------   --------------  -----\n",
      " 0   Plant_1  246 non-null    int64\n",
      " 1   Plant_2  246 non-null    int64\n",
      " 2   Plant_3  246 non-null    int64\n",
      "dtypes: int64(3)\n",
      "memory usage: 5.9 KB\n"
     ]
    }
   ],
   "source": [
    "# summary of dataframe\n",
    "df.info()"
   ]
  },
  {
   "cell_type": "code",
   "execution_count": 35,
   "id": "63ede91e",
   "metadata": {},
   "outputs": [
    {
     "data": {
      "application/vnd.microsoft.datawrangler.viewer.v0+json": {
       "columns": [
        {
         "name": "index",
         "rawType": "object",
         "type": "string"
        },
        {
         "name": "Plant_1",
         "rawType": "float64",
         "type": "float"
        },
        {
         "name": "Plant_2",
         "rawType": "float64",
         "type": "float"
        },
        {
         "name": "Plant_3",
         "rawType": "float64",
         "type": "float"
        }
       ],
       "conversionMethod": "pd.DataFrame",
       "ref": "ec46cef3-4bc8-46ef-a686-8b5734950a6b",
       "rows": [
        [
         "count",
         "246.0",
         "246.0",
         "246.0"
        ],
        [
         "mean",
         "1796.3821138211383",
         "1806.3658536585365",
         "1789.1056910569105"
        ],
        [
         "std",
         "126.53869427241054",
         "124.80523721956367",
         "125.57370795968788"
        ],
        [
         "min",
         "1490.0",
         "1477.0",
         "1422.0"
        ],
        [
         "25%",
         "1713.25",
         "1716.0",
         "1700.5"
        ],
        [
         "50%",
         "1786.5",
         "1802.5",
         "1789.0"
        ],
        [
         "75%",
         "1886.5",
         "1884.0",
         "1866.75"
        ],
        [
         "max",
         "2152.0",
         "2165.0",
         "2143.0"
        ]
       ],
       "shape": {
        "columns": 3,
        "rows": 8
       }
      },
      "text/html": [
       "<div>\n",
       "<style scoped>\n",
       "    .dataframe tbody tr th:only-of-type {\n",
       "        vertical-align: middle;\n",
       "    }\n",
       "\n",
       "    .dataframe tbody tr th {\n",
       "        vertical-align: top;\n",
       "    }\n",
       "\n",
       "    .dataframe thead th {\n",
       "        text-align: right;\n",
       "    }\n",
       "</style>\n",
       "<table border=\"1\" class=\"dataframe\">\n",
       "  <thead>\n",
       "    <tr style=\"text-align: right;\">\n",
       "      <th></th>\n",
       "      <th>Plant_1</th>\n",
       "      <th>Plant_2</th>\n",
       "      <th>Plant_3</th>\n",
       "    </tr>\n",
       "  </thead>\n",
       "  <tbody>\n",
       "    <tr>\n",
       "      <th>count</th>\n",
       "      <td>246.000000</td>\n",
       "      <td>246.000000</td>\n",
       "      <td>246.000000</td>\n",
       "    </tr>\n",
       "    <tr>\n",
       "      <th>mean</th>\n",
       "      <td>1796.382114</td>\n",
       "      <td>1806.365854</td>\n",
       "      <td>1789.105691</td>\n",
       "    </tr>\n",
       "    <tr>\n",
       "      <th>std</th>\n",
       "      <td>126.538694</td>\n",
       "      <td>124.805237</td>\n",
       "      <td>125.573708</td>\n",
       "    </tr>\n",
       "    <tr>\n",
       "      <th>min</th>\n",
       "      <td>1490.000000</td>\n",
       "      <td>1477.000000</td>\n",
       "      <td>1422.000000</td>\n",
       "    </tr>\n",
       "    <tr>\n",
       "      <th>25%</th>\n",
       "      <td>1713.250000</td>\n",
       "      <td>1716.000000</td>\n",
       "      <td>1700.500000</td>\n",
       "    </tr>\n",
       "    <tr>\n",
       "      <th>50%</th>\n",
       "      <td>1786.500000</td>\n",
       "      <td>1802.500000</td>\n",
       "      <td>1789.000000</td>\n",
       "    </tr>\n",
       "    <tr>\n",
       "      <th>75%</th>\n",
       "      <td>1886.500000</td>\n",
       "      <td>1884.000000</td>\n",
       "      <td>1866.750000</td>\n",
       "    </tr>\n",
       "    <tr>\n",
       "      <th>max</th>\n",
       "      <td>2152.000000</td>\n",
       "      <td>2165.000000</td>\n",
       "      <td>2143.000000</td>\n",
       "    </tr>\n",
       "  </tbody>\n",
       "</table>\n",
       "</div>"
      ],
      "text/plain": [
       "           Plant_1      Plant_2      Plant_3\n",
       "count   246.000000   246.000000   246.000000\n",
       "mean   1796.382114  1806.365854  1789.105691\n",
       "std     126.538694   124.805237   125.573708\n",
       "min    1490.000000  1477.000000  1422.000000\n",
       "25%    1713.250000  1716.000000  1700.500000\n",
       "50%    1786.500000  1802.500000  1789.000000\n",
       "75%    1886.500000  1884.000000  1866.750000\n",
       "max    2152.000000  2165.000000  2143.000000"
      ]
     },
     "execution_count": 35,
     "metadata": {},
     "output_type": "execute_result"
    }
   ],
   "source": [
    "# summary of statistics\n",
    "df.describe()"
   ]
  },
  {
   "cell_type": "code",
   "execution_count": null,
   "id": "1868315a",
   "metadata": {},
   "outputs": [
    {
     "name": "stdout",
     "output_type": "stream",
     "text": [
      "0.3584110683611357\n",
      "[0.567 0.646 0.775 0.904 1.075]\n",
      "[15.  10.   5.   2.5  1. ]\n"
     ]
    }
   ],
   "source": [
    "# Plant 1\n",
    "# anderson-darling normality test\n",
    "a2_stat, critical, alpha = stats.anderson(df['Plant_1'])\n",
    "print(a2_stat)\n",
    "print(critical)\n",
    "print(alpha)"
   ]
  },
  {
   "cell_type": "code",
   "execution_count": 39,
   "id": "ed66c7db",
   "metadata": {},
   "outputs": [
    {
     "name": "stdout",
     "output_type": "stream",
     "text": [
      "Normal data\n"
     ]
    }
   ],
   "source": [
    "# verdict\n",
    "if a2_stat > critical[2]:\n",
    "    # reject null hypothesis\n",
    "    print(\"Non-normal data\")\n",
    "else:\n",
    "    # fail to reject null hypothesis\n",
    "    print(\"Normal data\")"
   ]
  },
  {
   "cell_type": "code",
   "execution_count": 40,
   "id": "bb1966a7",
   "metadata": {},
   "outputs": [
    {
     "name": "stdout",
     "output_type": "stream",
     "text": [
      "Normal data\n"
     ]
    }
   ],
   "source": [
    "# Plant 2\n",
    "# anderson-darling normality test\n",
    "a2_stat, critical, alpha = stats.anderson(df['Plant_2'])\n",
    "\n",
    "# verdict\n",
    "if a2_stat > critical[2]:\n",
    "    # reject null hypothesis\n",
    "    print(\"Non-normal data\")\n",
    "else:\n",
    "    # fail to reject null hypothesis\n",
    "    print(\"Normal data\")"
   ]
  },
  {
   "cell_type": "code",
   "execution_count": 41,
   "id": "c22bafa8",
   "metadata": {},
   "outputs": [
    {
     "name": "stdout",
     "output_type": "stream",
     "text": [
      "Normal data\n"
     ]
    }
   ],
   "source": [
    "# Plant 3\n",
    "# anderson-darling normality test\n",
    "a2_stat, critical, alpha = stats.anderson(df['Plant_3'])\n",
    "\n",
    "# verdict\n",
    "if a2_stat > critical[2]:\n",
    "    # reject null hypothesis\n",
    "    print(\"Non-normal data\")\n",
    "else:\n",
    "    # fail to reject null hypothesis\n",
    "    print(\"Normal data\")"
   ]
  },
  {
   "cell_type": "markdown",
   "id": "41873919",
   "metadata": {},
   "source": [
    "# Bartlett's Test"
   ]
  },
  {
   "cell_type": "code",
   "execution_count": null,
   "id": "41871817",
   "metadata": {},
   "outputs": [
    {
     "data": {
      "text/plain": [
       "np.float64(0.5647236550913752)"
      ]
     },
     "execution_count": 42,
     "metadata": {},
     "output_type": "execute_result"
    }
   ],
   "source": [
    "# hypothesis\n",
    "# Ho: equal variances\n",
    "# Ha: unequal variances\n",
    "\n",
    "b_stat, p_value =  stats.bartlett(df['Plant_1'],\n",
    "                                  df['Plant_2'],\n",
    "                                  df['Plant_3'])\n",
    "p_value"
   ]
  },
  {
   "cell_type": "code",
   "execution_count": 43,
   "id": "1fdd4a71",
   "metadata": {},
   "outputs": [
    {
     "name": "stdout",
     "output_type": "stream",
     "text": [
      "Equal variances\n"
     ]
    }
   ],
   "source": [
    "# verdict\n",
    "alpha = 0.05\n",
    "if p_value <= alpha:\n",
    "    # reject null hypothesis\n",
    "    print(\"Unequal variances\")\n",
    "else:\n",
    "    # fail to reject null hypothesis\n",
    "    print(\"Equal variances\")"
   ]
  },
  {
   "cell_type": "markdown",
   "id": "6b10b7a8",
   "metadata": {},
   "source": [
    "# One-Way ANOVA"
   ]
  },
  {
   "cell_type": "code",
   "execution_count": 44,
   "id": "6adcaf88",
   "metadata": {},
   "outputs": [
    {
     "data": {
      "text/plain": [
       "np.float64(0.31089261378072164)"
      ]
     },
     "execution_count": 44,
     "metadata": {},
     "output_type": "execute_result"
    }
   ],
   "source": [
    "# hypothesis\n",
    "# Ho:equal means\n",
    "# Ha: at least one is not equal\n",
    "\n",
    "f_stat, p_value = stats.f_oneway(df['Plant_1'],\n",
    "                                 df['Plant_2'],\n",
    "                                 df['Plant_3'])\n",
    "p_value"
   ]
  },
  {
   "cell_type": "code",
   "execution_count": 46,
   "id": "2b8e4579",
   "metadata": {},
   "outputs": [
    {
     "name": "stdout",
     "output_type": "stream",
     "text": [
      "There is no significant difference between hydroelectric plants.\n"
     ]
    }
   ],
   "source": [
    "# verdict\n",
    "alpha = 0.05\n",
    "if p_value <= alpha:\n",
    "    # reject null hypothesis\n",
    "    print(\"At least 1 hyrdroelectric plant is different\")\n",
    "else:\n",
    "    # fail to reject null hypothesis\n",
    "    print(\"There is no significant difference between hydroelectric plants.\")"
   ]
  },
  {
   "cell_type": "markdown",
   "id": "7f82fbbe",
   "metadata": {},
   "source": [
    "# Welch's ANOVA"
   ]
  },
  {
   "cell_type": "markdown",
   "id": "02404686",
   "metadata": {},
   "source": [
    "note: assuming unequal variances"
   ]
  },
  {
   "cell_type": "code",
   "execution_count": null,
   "id": "f3aa49fe",
   "metadata": {},
   "outputs": [
    {
     "data": {
      "application/vnd.microsoft.datawrangler.viewer.v0+json": {
       "columns": [
        {
         "name": "index",
         "rawType": "int64",
         "type": "integer"
        },
        {
         "name": "Plant",
         "rawType": "object",
         "type": "string"
        },
        {
         "name": "MWh",
         "rawType": "int64",
         "type": "integer"
        }
       ],
       "conversionMethod": "pd.DataFrame",
       "ref": "26442923-ec85-4ceb-9e25-b22f219a69c7",
       "rows": [
        [
         "0",
         "Plant_1",
         "1826"
        ],
        [
         "1",
         "Plant_1",
         "1644"
        ],
        [
         "2",
         "Plant_1",
         "1771"
        ],
        [
         "3",
         "Plant_1",
         "2007"
        ],
        [
         "4",
         "Plant_1",
         "1812"
        ],
        [
         "5",
         "Plant_1",
         "1755"
        ],
        [
         "6",
         "Plant_1",
         "1721"
        ],
        [
         "7",
         "Plant_1",
         "1745"
        ],
        [
         "8",
         "Plant_1",
         "2014"
        ],
        [
         "9",
         "Plant_1",
         "1956"
        ],
        [
         "10",
         "Plant_1",
         "1818"
        ],
        [
         "11",
         "Plant_1",
         "1938"
        ],
        [
         "12",
         "Plant_1",
         "1774"
        ],
        [
         "13",
         "Plant_1",
         "1631"
        ],
        [
         "14",
         "Plant_1",
         "1731"
        ],
        [
         "15",
         "Plant_1",
         "1776"
        ],
        [
         "16",
         "Plant_1",
         "1679"
        ],
        [
         "17",
         "Plant_1",
         "1866"
        ],
        [
         "18",
         "Plant_1",
         "1805"
        ],
        [
         "19",
         "Plant_1",
         "1589"
        ],
        [
         "20",
         "Plant_1",
         "1802"
        ],
        [
         "21",
         "Plant_1",
         "1794"
        ],
        [
         "22",
         "Plant_1",
         "2052"
        ],
        [
         "23",
         "Plant_1",
         "1795"
        ],
        [
         "24",
         "Plant_1",
         "1979"
        ],
        [
         "25",
         "Plant_1",
         "1845"
        ],
        [
         "26",
         "Plant_1",
         "1738"
        ],
        [
         "27",
         "Plant_1",
         "1806"
        ],
        [
         "28",
         "Plant_1",
         "1962"
        ],
        [
         "29",
         "Plant_1",
         "1865"
        ],
        [
         "30",
         "Plant_1",
         "1868"
        ],
        [
         "31",
         "Plant_1",
         "1726"
        ],
        [
         "32",
         "Plant_1",
         "1946"
        ],
        [
         "33",
         "Plant_1",
         "1819"
        ],
        [
         "34",
         "Plant_1",
         "1820"
        ],
        [
         "35",
         "Plant_1",
         "1696"
        ],
        [
         "36",
         "Plant_1",
         "1673"
        ],
        [
         "37",
         "Plant_1",
         "1760"
        ],
        [
         "38",
         "Plant_1",
         "1871"
        ],
        [
         "39",
         "Plant_1",
         "1688"
        ],
        [
         "40",
         "Plant_1",
         "1889"
        ],
        [
         "41",
         "Plant_1",
         "1653"
        ],
        [
         "42",
         "Plant_1",
         "1784"
        ],
        [
         "43",
         "Plant_1",
         "1896"
        ],
        [
         "44",
         "Plant_1",
         "1898"
        ],
        [
         "45",
         "Plant_1",
         "1733"
        ],
        [
         "46",
         "Plant_1",
         "1741"
        ],
        [
         "47",
         "Plant_1",
         "2050"
        ],
        [
         "48",
         "Plant_1",
         "1672"
        ],
        [
         "49",
         "Plant_1",
         "1823"
        ]
       ],
       "shape": {
        "columns": 2,
        "rows": 738
       }
      },
      "text/html": [
       "<div>\n",
       "<style scoped>\n",
       "    .dataframe tbody tr th:only-of-type {\n",
       "        vertical-align: middle;\n",
       "    }\n",
       "\n",
       "    .dataframe tbody tr th {\n",
       "        vertical-align: top;\n",
       "    }\n",
       "\n",
       "    .dataframe thead th {\n",
       "        text-align: right;\n",
       "    }\n",
       "</style>\n",
       "<table border=\"1\" class=\"dataframe\">\n",
       "  <thead>\n",
       "    <tr style=\"text-align: right;\">\n",
       "      <th></th>\n",
       "      <th>Plant</th>\n",
       "      <th>MWh</th>\n",
       "    </tr>\n",
       "  </thead>\n",
       "  <tbody>\n",
       "    <tr>\n",
       "      <th>0</th>\n",
       "      <td>Plant_1</td>\n",
       "      <td>1826</td>\n",
       "    </tr>\n",
       "    <tr>\n",
       "      <th>1</th>\n",
       "      <td>Plant_1</td>\n",
       "      <td>1644</td>\n",
       "    </tr>\n",
       "    <tr>\n",
       "      <th>2</th>\n",
       "      <td>Plant_1</td>\n",
       "      <td>1771</td>\n",
       "    </tr>\n",
       "    <tr>\n",
       "      <th>3</th>\n",
       "      <td>Plant_1</td>\n",
       "      <td>2007</td>\n",
       "    </tr>\n",
       "    <tr>\n",
       "      <th>4</th>\n",
       "      <td>Plant_1</td>\n",
       "      <td>1812</td>\n",
       "    </tr>\n",
       "    <tr>\n",
       "      <th>...</th>\n",
       "      <td>...</td>\n",
       "      <td>...</td>\n",
       "    </tr>\n",
       "    <tr>\n",
       "      <th>733</th>\n",
       "      <td>Plant_3</td>\n",
       "      <td>1761</td>\n",
       "    </tr>\n",
       "    <tr>\n",
       "      <th>734</th>\n",
       "      <td>Plant_3</td>\n",
       "      <td>1659</td>\n",
       "    </tr>\n",
       "    <tr>\n",
       "      <th>735</th>\n",
       "      <td>Plant_3</td>\n",
       "      <td>1820</td>\n",
       "    </tr>\n",
       "    <tr>\n",
       "      <th>736</th>\n",
       "      <td>Plant_3</td>\n",
       "      <td>2027</td>\n",
       "    </tr>\n",
       "    <tr>\n",
       "      <th>737</th>\n",
       "      <td>Plant_3</td>\n",
       "      <td>1963</td>\n",
       "    </tr>\n",
       "  </tbody>\n",
       "</table>\n",
       "<p>738 rows × 2 columns</p>\n",
       "</div>"
      ],
      "text/plain": [
       "       Plant   MWh\n",
       "0    Plant_1  1826\n",
       "1    Plant_1  1644\n",
       "2    Plant_1  1771\n",
       "3    Plant_1  2007\n",
       "4    Plant_1  1812\n",
       "..       ...   ...\n",
       "733  Plant_3  1761\n",
       "734  Plant_3  1659\n",
       "735  Plant_3  1820\n",
       "736  Plant_3  2027\n",
       "737  Plant_3  1963\n",
       "\n",
       "[738 rows x 2 columns]"
      ]
     },
     "execution_count": 48,
     "metadata": {},
     "output_type": "execute_result"
    }
   ],
   "source": [
    "# stack data\n",
    "df_stack = pd.melt(df,\n",
    "                   value_vars = ['Plant_1','Plant_2','Plant_3'],\n",
    "                   var_name = 'Plant',\n",
    "                   value_name = 'MWh').reset_index(drop=True)\n",
    "df_stack"
   ]
  },
  {
   "cell_type": "code",
   "execution_count": null,
   "id": "0c3dc7b6",
   "metadata": {},
   "outputs": [
    {
     "data": {
      "application/vnd.microsoft.datawrangler.viewer.v0+json": {
       "columns": [
        {
         "name": "index",
         "rawType": "int64",
         "type": "integer"
        },
        {
         "name": "Source",
         "rawType": "object",
         "type": "string"
        },
        {
         "name": "ddof1",
         "rawType": "int64",
         "type": "integer"
        },
        {
         "name": "ddof2",
         "rawType": "float64",
         "type": "float"
        },
        {
         "name": "F",
         "rawType": "float64",
         "type": "float"
        },
        {
         "name": "p-unc",
         "rawType": "float64",
         "type": "float"
        },
        {
         "name": "np2",
         "rawType": "float64",
         "type": "float"
        }
       ],
       "conversionMethod": "pd.DataFrame",
       "ref": "4e2a0b96-bddb-4343-a5f8-94ab1e7757b5",
       "rows": [
        [
         "0",
         "Plant",
         "2",
         "489.9844236880081",
         "1.1776314600929745",
         "0.3088776080487351",
         "0.0031740207370921205"
        ]
       ],
       "shape": {
        "columns": 6,
        "rows": 1
       }
      },
      "text/html": [
       "<div>\n",
       "<style scoped>\n",
       "    .dataframe tbody tr th:only-of-type {\n",
       "        vertical-align: middle;\n",
       "    }\n",
       "\n",
       "    .dataframe tbody tr th {\n",
       "        vertical-align: top;\n",
       "    }\n",
       "\n",
       "    .dataframe thead th {\n",
       "        text-align: right;\n",
       "    }\n",
       "</style>\n",
       "<table border=\"1\" class=\"dataframe\">\n",
       "  <thead>\n",
       "    <tr style=\"text-align: right;\">\n",
       "      <th></th>\n",
       "      <th>Source</th>\n",
       "      <th>ddof1</th>\n",
       "      <th>ddof2</th>\n",
       "      <th>F</th>\n",
       "      <th>p-unc</th>\n",
       "      <th>np2</th>\n",
       "    </tr>\n",
       "  </thead>\n",
       "  <tbody>\n",
       "    <tr>\n",
       "      <th>0</th>\n",
       "      <td>Plant</td>\n",
       "      <td>2</td>\n",
       "      <td>489.984424</td>\n",
       "      <td>1.177631</td>\n",
       "      <td>0.308878</td>\n",
       "      <td>0.003174</td>\n",
       "    </tr>\n",
       "  </tbody>\n",
       "</table>\n",
       "</div>"
      ],
      "text/plain": [
       "  Source  ddof1       ddof2         F     p-unc       np2\n",
       "0  Plant      2  489.984424  1.177631  0.308878  0.003174"
      ]
     },
     "execution_count": 49,
     "metadata": {},
     "output_type": "execute_result"
    }
   ],
   "source": [
    "# Hypothesis\n",
    "# Ho:equal means\n",
    "# Ha: at least one is not equal\n",
    "result = pg.welch_anova(\n",
    "    dv = 'MWh',\n",
    "    between = 'Plant',\n",
    "    data = df_stack\n",
    ")\n",
    "result"
   ]
  },
  {
   "cell_type": "code",
   "execution_count": 50,
   "id": "3029cafb",
   "metadata": {},
   "outputs": [
    {
     "data": {
      "text/plain": [
       "np.float64(0.3088776080487351)"
      ]
     },
     "execution_count": 50,
     "metadata": {},
     "output_type": "execute_result"
    }
   ],
   "source": [
    "# extract p-value\n",
    "p_value = result['p-unc'].values[0]\n",
    "p_value"
   ]
  },
  {
   "cell_type": "code",
   "execution_count": 51,
   "id": "1ed27c32",
   "metadata": {},
   "outputs": [
    {
     "name": "stdout",
     "output_type": "stream",
     "text": [
      "There is no significant difference between hydroelectric plants.\n"
     ]
    }
   ],
   "source": [
    "# verdict\n",
    "alpha = 0.05\n",
    "if p_value <= alpha:\n",
    "    # reject null hypothesis\n",
    "    print(\"At least 1 hyrdroelectric plant is different\")\n",
    "else:\n",
    "    # fail to reject null hypothesis\n",
    "    print(\"There is no significant difference between hydroelectric plants.\")"
   ]
  }
 ],
 "metadata": {
  "kernelspec": {
   "display_name": "Python 3",
   "language": "python",
   "name": "python3"
  },
  "language_info": {
   "codemirror_mode": {
    "name": "ipython",
    "version": 3
   },
   "file_extension": ".py",
   "mimetype": "text/x-python",
   "name": "python",
   "nbconvert_exporter": "python",
   "pygments_lexer": "ipython3",
   "version": "3.13.0"
  }
 },
 "nbformat": 4,
 "nbformat_minor": 5
}
