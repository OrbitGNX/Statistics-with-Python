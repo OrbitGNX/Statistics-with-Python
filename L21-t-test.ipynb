{
 "cells": [
  {
   "cell_type": "markdown",
   "id": "ce005be0",
   "metadata": {},
   "source": [
    "#  t-Test <hr style=\"border:2.5px solid #126782\"></hr>"
   ]
  },
  {
   "cell_type": "markdown",
   "id": "d4c4dae8",
   "metadata": {},
   "source": [
    "Data Analyst: Gyro A. Madrona<br>\n",
    "Department: Electrical Engineering"
   ]
  },
  {
   "cell_type": "code",
   "execution_count": 176,
   "id": "ebcca10c",
   "metadata": {},
   "outputs": [],
   "source": [
    "# imports and packages\n",
    "import pandas as pd\n",
    "import matplotlib.pyplot as plt\n",
    "from scipy import stats\n",
    "from statsmodels.stats.power import TTestPower"
   ]
  },
  {
   "cell_type": "code",
   "execution_count": null,
   "id": "4f85cb9c",
   "metadata": {},
   "outputs": [
    {
     "data": {
      "application/vnd.microsoft.datawrangler.viewer.v0+json": {
       "columns": [
        {
         "name": "index",
         "rawType": "int64",
         "type": "integer"
        },
        {
         "name": "Nuclear",
         "rawType": "int64",
         "type": "integer"
        },
        {
         "name": "Wind",
         "rawType": "int64",
         "type": "integer"
        },
        {
         "name": "Hydroelectric",
         "rawType": "int64",
         "type": "integer"
        },
        {
         "name": "Oil and Gas",
         "rawType": "int64",
         "type": "integer"
        },
        {
         "name": "Coal",
         "rawType": "int64",
         "type": "integer"
        },
        {
         "name": "Solar",
         "rawType": "int64",
         "type": "integer"
        },
        {
         "name": "Biomass",
         "rawType": "int64",
         "type": "integer"
        }
       ],
       "conversionMethod": "pd.DataFrame",
       "ref": "65713163-26e8-4a1f-90ac-f4f8526e592c",
       "rows": [
        [
         "0",
         "1307",
         "612",
         "1939",
         "1127",
         "1076",
         "126",
         "52"
        ],
        [
         "1",
         "1288",
         "680",
         "1724",
         "1167",
         "1233",
         "173",
         "57"
        ],
        [
         "2",
         "1255",
         "721",
         "1961",
         "1170",
         "1193",
         "178",
         "56"
        ],
        [
         "3",
         "1336",
         "692",
         "1715",
         "1077",
         "1138",
         "112",
         "54"
        ],
        [
         "4",
         "1238",
         "682",
         "1859",
         "1136",
         "1126",
         "188",
         "55"
        ],
        [
         "5",
         "1273",
         "752",
         "1920",
         "1197",
         "1105",
         "137",
         "57"
        ],
        [
         "6",
         "1233",
         "601",
         "2048",
         "1098",
         "1102",
         "172",
         "56"
        ],
        [
         "7",
         "1337",
         "685",
         "1935",
         "1234",
         "1099",
         "223",
         "53"
        ],
        [
         "8",
         "1274",
         "771",
         "1896",
         "1149",
         "1182",
         "173",
         "57"
        ],
        [
         "9",
         "1333",
         "761",
         "1944",
         "1078",
         "1207",
         "189",
         "54"
        ],
        [
         "10",
         "1261",
         "725",
         "1743",
         "1089",
         "1076",
         "104",
         "56"
        ],
        [
         "11",
         "1280",
         "587",
         "1797",
         "1028",
         "1166",
         "169",
         "55"
        ],
        [
         "12",
         "1294",
         "607",
         "2063",
         "1221",
         "1126",
         "139",
         "57"
        ],
        [
         "13",
         "1292",
         "739",
         "1822",
         "1297",
         "1105",
         "187",
         "50"
        ],
        [
         "14",
         "1201",
         "664",
         "1892",
         "1000",
         "1117",
         "207",
         "56"
        ],
        [
         "15",
         "1264",
         "587",
         "2046",
         "1097",
         "1136",
         "95",
         "56"
        ],
        [
         "16",
         "1268",
         "709",
         "1778",
         "1220",
         "1225",
         "109",
         "54"
        ],
        [
         "17",
         "1282",
         "758",
         "1601",
         "1212",
         "1130",
         "193",
         "52"
        ],
        [
         "18",
         "1221",
         "853",
         "2005",
         "1136",
         "1137",
         "133",
         "53"
        ],
        [
         "19",
         "1235",
         "743",
         "1766",
         "1137",
         "1116",
         "214",
         "53"
        ],
        [
         "20",
         "1244",
         "721",
         "1820",
         "1099",
         "1125",
         "164",
         "53"
        ],
        [
         "21",
         "1293",
         "555",
         "1859",
         "1096",
         "1138",
         "234",
         "54"
        ],
        [
         "22",
         "1325",
         "728",
         "1800",
         "1020",
         "1145",
         "148",
         "56"
        ],
        [
         "23",
         "1274",
         "791",
         "1867",
         "1116",
         "1127",
         "158",
         "51"
        ],
        [
         "24",
         "1305",
         "721",
         "1763",
         "1154",
         "1219",
         "165",
         "55"
        ],
        [
         "25",
         "1303",
         "729",
         "1980",
         "1134",
         "1091",
         "141",
         "51"
        ],
        [
         "26",
         "1257",
         "706",
         "1950",
         "1091",
         "1126",
         "148",
         "55"
        ],
        [
         "27",
         "1231",
         "685",
         "1641",
         "1017",
         "1202",
         "143",
         "58"
        ],
        [
         "28",
         "1268",
         "699",
         "1707",
         "1121",
         "1134",
         "144",
         "52"
        ],
        [
         "29",
         "1269",
         "718",
         "1763",
         "1127",
         "1080",
         "139",
         "54"
        ],
        [
         "30",
         "1311",
         "574",
         "1863",
         "1080",
         "1113",
         "139",
         "58"
        ],
        [
         "31",
         "1214",
         "666",
         "1825",
         "1128",
         "1135",
         "194",
         "59"
        ],
        [
         "32",
         "1137",
         "734",
         "1698",
         "1099",
         "1051",
         "231",
         "54"
        ],
        [
         "33",
         "1210",
         "671",
         "1865",
         "1221",
         "1106",
         "170",
         "55"
        ],
        [
         "34",
         "1298",
         "700",
         "1808",
         "1058",
         "1129",
         "171",
         "54"
        ],
        [
         "35",
         "1231",
         "663",
         "1913",
         "1218",
         "1097",
         "254",
         "58"
        ],
        [
         "36",
         "1245",
         "788",
         "1851",
         "1090",
         "1067",
         "239",
         "56"
        ],
        [
         "37",
         "1252",
         "648",
         "1829",
         "1170",
         "1159",
         "136",
         "56"
        ],
        [
         "38",
         "1284",
         "806",
         "1800",
         "1081",
         "1101",
         "247",
         "52"
        ],
        [
         "39",
         "1293",
         "819",
         "1964",
         "1147",
         "1178",
         "124",
         "54"
        ],
        [
         "40",
         "1251",
         "922",
         "1993",
         "1144",
         "1166",
         "156",
         "56"
        ],
        [
         "41",
         "1233",
         "810",
         "1721",
         "1095",
         "1191",
         "197",
         "55"
        ],
        [
         "42",
         "1302",
         "650",
         "1702",
         "1131",
         "1113",
         "234",
         "58"
        ],
        [
         "43",
         "1254",
         "819",
         "1788",
         "1065",
         "1136",
         "99",
         "56"
        ],
        [
         "44",
         "1282",
         "590",
         "1681",
         "1208",
         "1160",
         "169",
         "56"
        ],
        [
         "45",
         "1241",
         "705",
         "1803",
         "1131",
         "1132",
         "177",
         "54"
        ],
        [
         "46",
         "1242",
         "830",
         "2025",
         "1175",
         "1136",
         "180",
         "58"
        ],
        [
         "47",
         "1197",
         "625",
         "2035",
         "1100",
         "1177",
         "197",
         "55"
        ],
        [
         "48",
         "1276",
         "674",
         "1935",
         "1065",
         "1136",
         "203",
         "54"
        ],
        [
         "49",
         "1246",
         "672",
         "1819",
         "1156",
         "1148",
         "159",
         "55"
        ]
       ],
       "shape": {
        "columns": 7,
        "rows": 50
       }
      },
      "text/html": [
       "<div>\n",
       "<style scoped>\n",
       "    .dataframe tbody tr th:only-of-type {\n",
       "        vertical-align: middle;\n",
       "    }\n",
       "\n",
       "    .dataframe tbody tr th {\n",
       "        vertical-align: top;\n",
       "    }\n",
       "\n",
       "    .dataframe thead th {\n",
       "        text-align: right;\n",
       "    }\n",
       "</style>\n",
       "<table border=\"1\" class=\"dataframe\">\n",
       "  <thead>\n",
       "    <tr style=\"text-align: right;\">\n",
       "      <th></th>\n",
       "      <th>Nuclear</th>\n",
       "      <th>Wind</th>\n",
       "      <th>Hydroelectric</th>\n",
       "      <th>Oil and Gas</th>\n",
       "      <th>Coal</th>\n",
       "      <th>Solar</th>\n",
       "      <th>Biomass</th>\n",
       "    </tr>\n",
       "  </thead>\n",
       "  <tbody>\n",
       "    <tr>\n",
       "      <th>0</th>\n",
       "      <td>1307</td>\n",
       "      <td>612</td>\n",
       "      <td>1939</td>\n",
       "      <td>1127</td>\n",
       "      <td>1076</td>\n",
       "      <td>126</td>\n",
       "      <td>52</td>\n",
       "    </tr>\n",
       "    <tr>\n",
       "      <th>1</th>\n",
       "      <td>1288</td>\n",
       "      <td>680</td>\n",
       "      <td>1724</td>\n",
       "      <td>1167</td>\n",
       "      <td>1233</td>\n",
       "      <td>173</td>\n",
       "      <td>57</td>\n",
       "    </tr>\n",
       "    <tr>\n",
       "      <th>2</th>\n",
       "      <td>1255</td>\n",
       "      <td>721</td>\n",
       "      <td>1961</td>\n",
       "      <td>1170</td>\n",
       "      <td>1193</td>\n",
       "      <td>178</td>\n",
       "      <td>56</td>\n",
       "    </tr>\n",
       "    <tr>\n",
       "      <th>3</th>\n",
       "      <td>1336</td>\n",
       "      <td>692</td>\n",
       "      <td>1715</td>\n",
       "      <td>1077</td>\n",
       "      <td>1138</td>\n",
       "      <td>112</td>\n",
       "      <td>54</td>\n",
       "    </tr>\n",
       "    <tr>\n",
       "      <th>4</th>\n",
       "      <td>1238</td>\n",
       "      <td>682</td>\n",
       "      <td>1859</td>\n",
       "      <td>1136</td>\n",
       "      <td>1126</td>\n",
       "      <td>188</td>\n",
       "      <td>55</td>\n",
       "    </tr>\n",
       "    <tr>\n",
       "      <th>5</th>\n",
       "      <td>1273</td>\n",
       "      <td>752</td>\n",
       "      <td>1920</td>\n",
       "      <td>1197</td>\n",
       "      <td>1105</td>\n",
       "      <td>137</td>\n",
       "      <td>57</td>\n",
       "    </tr>\n",
       "    <tr>\n",
       "      <th>6</th>\n",
       "      <td>1233</td>\n",
       "      <td>601</td>\n",
       "      <td>2048</td>\n",
       "      <td>1098</td>\n",
       "      <td>1102</td>\n",
       "      <td>172</td>\n",
       "      <td>56</td>\n",
       "    </tr>\n",
       "    <tr>\n",
       "      <th>7</th>\n",
       "      <td>1337</td>\n",
       "      <td>685</td>\n",
       "      <td>1935</td>\n",
       "      <td>1234</td>\n",
       "      <td>1099</td>\n",
       "      <td>223</td>\n",
       "      <td>53</td>\n",
       "    </tr>\n",
       "    <tr>\n",
       "      <th>8</th>\n",
       "      <td>1274</td>\n",
       "      <td>771</td>\n",
       "      <td>1896</td>\n",
       "      <td>1149</td>\n",
       "      <td>1182</td>\n",
       "      <td>173</td>\n",
       "      <td>57</td>\n",
       "    </tr>\n",
       "    <tr>\n",
       "      <th>9</th>\n",
       "      <td>1333</td>\n",
       "      <td>761</td>\n",
       "      <td>1944</td>\n",
       "      <td>1078</td>\n",
       "      <td>1207</td>\n",
       "      <td>189</td>\n",
       "      <td>54</td>\n",
       "    </tr>\n",
       "    <tr>\n",
       "      <th>10</th>\n",
       "      <td>1261</td>\n",
       "      <td>725</td>\n",
       "      <td>1743</td>\n",
       "      <td>1089</td>\n",
       "      <td>1076</td>\n",
       "      <td>104</td>\n",
       "      <td>56</td>\n",
       "    </tr>\n",
       "    <tr>\n",
       "      <th>11</th>\n",
       "      <td>1280</td>\n",
       "      <td>587</td>\n",
       "      <td>1797</td>\n",
       "      <td>1028</td>\n",
       "      <td>1166</td>\n",
       "      <td>169</td>\n",
       "      <td>55</td>\n",
       "    </tr>\n",
       "    <tr>\n",
       "      <th>12</th>\n",
       "      <td>1294</td>\n",
       "      <td>607</td>\n",
       "      <td>2063</td>\n",
       "      <td>1221</td>\n",
       "      <td>1126</td>\n",
       "      <td>139</td>\n",
       "      <td>57</td>\n",
       "    </tr>\n",
       "    <tr>\n",
       "      <th>13</th>\n",
       "      <td>1292</td>\n",
       "      <td>739</td>\n",
       "      <td>1822</td>\n",
       "      <td>1297</td>\n",
       "      <td>1105</td>\n",
       "      <td>187</td>\n",
       "      <td>50</td>\n",
       "    </tr>\n",
       "    <tr>\n",
       "      <th>14</th>\n",
       "      <td>1201</td>\n",
       "      <td>664</td>\n",
       "      <td>1892</td>\n",
       "      <td>1000</td>\n",
       "      <td>1117</td>\n",
       "      <td>207</td>\n",
       "      <td>56</td>\n",
       "    </tr>\n",
       "    <tr>\n",
       "      <th>15</th>\n",
       "      <td>1264</td>\n",
       "      <td>587</td>\n",
       "      <td>2046</td>\n",
       "      <td>1097</td>\n",
       "      <td>1136</td>\n",
       "      <td>95</td>\n",
       "      <td>56</td>\n",
       "    </tr>\n",
       "    <tr>\n",
       "      <th>16</th>\n",
       "      <td>1268</td>\n",
       "      <td>709</td>\n",
       "      <td>1778</td>\n",
       "      <td>1220</td>\n",
       "      <td>1225</td>\n",
       "      <td>109</td>\n",
       "      <td>54</td>\n",
       "    </tr>\n",
       "    <tr>\n",
       "      <th>17</th>\n",
       "      <td>1282</td>\n",
       "      <td>758</td>\n",
       "      <td>1601</td>\n",
       "      <td>1212</td>\n",
       "      <td>1130</td>\n",
       "      <td>193</td>\n",
       "      <td>52</td>\n",
       "    </tr>\n",
       "    <tr>\n",
       "      <th>18</th>\n",
       "      <td>1221</td>\n",
       "      <td>853</td>\n",
       "      <td>2005</td>\n",
       "      <td>1136</td>\n",
       "      <td>1137</td>\n",
       "      <td>133</td>\n",
       "      <td>53</td>\n",
       "    </tr>\n",
       "    <tr>\n",
       "      <th>19</th>\n",
       "      <td>1235</td>\n",
       "      <td>743</td>\n",
       "      <td>1766</td>\n",
       "      <td>1137</td>\n",
       "      <td>1116</td>\n",
       "      <td>214</td>\n",
       "      <td>53</td>\n",
       "    </tr>\n",
       "    <tr>\n",
       "      <th>20</th>\n",
       "      <td>1244</td>\n",
       "      <td>721</td>\n",
       "      <td>1820</td>\n",
       "      <td>1099</td>\n",
       "      <td>1125</td>\n",
       "      <td>164</td>\n",
       "      <td>53</td>\n",
       "    </tr>\n",
       "    <tr>\n",
       "      <th>21</th>\n",
       "      <td>1293</td>\n",
       "      <td>555</td>\n",
       "      <td>1859</td>\n",
       "      <td>1096</td>\n",
       "      <td>1138</td>\n",
       "      <td>234</td>\n",
       "      <td>54</td>\n",
       "    </tr>\n",
       "    <tr>\n",
       "      <th>22</th>\n",
       "      <td>1325</td>\n",
       "      <td>728</td>\n",
       "      <td>1800</td>\n",
       "      <td>1020</td>\n",
       "      <td>1145</td>\n",
       "      <td>148</td>\n",
       "      <td>56</td>\n",
       "    </tr>\n",
       "    <tr>\n",
       "      <th>23</th>\n",
       "      <td>1274</td>\n",
       "      <td>791</td>\n",
       "      <td>1867</td>\n",
       "      <td>1116</td>\n",
       "      <td>1127</td>\n",
       "      <td>158</td>\n",
       "      <td>51</td>\n",
       "    </tr>\n",
       "    <tr>\n",
       "      <th>24</th>\n",
       "      <td>1305</td>\n",
       "      <td>721</td>\n",
       "      <td>1763</td>\n",
       "      <td>1154</td>\n",
       "      <td>1219</td>\n",
       "      <td>165</td>\n",
       "      <td>55</td>\n",
       "    </tr>\n",
       "    <tr>\n",
       "      <th>25</th>\n",
       "      <td>1303</td>\n",
       "      <td>729</td>\n",
       "      <td>1980</td>\n",
       "      <td>1134</td>\n",
       "      <td>1091</td>\n",
       "      <td>141</td>\n",
       "      <td>51</td>\n",
       "    </tr>\n",
       "    <tr>\n",
       "      <th>26</th>\n",
       "      <td>1257</td>\n",
       "      <td>706</td>\n",
       "      <td>1950</td>\n",
       "      <td>1091</td>\n",
       "      <td>1126</td>\n",
       "      <td>148</td>\n",
       "      <td>55</td>\n",
       "    </tr>\n",
       "    <tr>\n",
       "      <th>27</th>\n",
       "      <td>1231</td>\n",
       "      <td>685</td>\n",
       "      <td>1641</td>\n",
       "      <td>1017</td>\n",
       "      <td>1202</td>\n",
       "      <td>143</td>\n",
       "      <td>58</td>\n",
       "    </tr>\n",
       "    <tr>\n",
       "      <th>28</th>\n",
       "      <td>1268</td>\n",
       "      <td>699</td>\n",
       "      <td>1707</td>\n",
       "      <td>1121</td>\n",
       "      <td>1134</td>\n",
       "      <td>144</td>\n",
       "      <td>52</td>\n",
       "    </tr>\n",
       "    <tr>\n",
       "      <th>29</th>\n",
       "      <td>1269</td>\n",
       "      <td>718</td>\n",
       "      <td>1763</td>\n",
       "      <td>1127</td>\n",
       "      <td>1080</td>\n",
       "      <td>139</td>\n",
       "      <td>54</td>\n",
       "    </tr>\n",
       "    <tr>\n",
       "      <th>30</th>\n",
       "      <td>1311</td>\n",
       "      <td>574</td>\n",
       "      <td>1863</td>\n",
       "      <td>1080</td>\n",
       "      <td>1113</td>\n",
       "      <td>139</td>\n",
       "      <td>58</td>\n",
       "    </tr>\n",
       "    <tr>\n",
       "      <th>31</th>\n",
       "      <td>1214</td>\n",
       "      <td>666</td>\n",
       "      <td>1825</td>\n",
       "      <td>1128</td>\n",
       "      <td>1135</td>\n",
       "      <td>194</td>\n",
       "      <td>59</td>\n",
       "    </tr>\n",
       "    <tr>\n",
       "      <th>32</th>\n",
       "      <td>1137</td>\n",
       "      <td>734</td>\n",
       "      <td>1698</td>\n",
       "      <td>1099</td>\n",
       "      <td>1051</td>\n",
       "      <td>231</td>\n",
       "      <td>54</td>\n",
       "    </tr>\n",
       "    <tr>\n",
       "      <th>33</th>\n",
       "      <td>1210</td>\n",
       "      <td>671</td>\n",
       "      <td>1865</td>\n",
       "      <td>1221</td>\n",
       "      <td>1106</td>\n",
       "      <td>170</td>\n",
       "      <td>55</td>\n",
       "    </tr>\n",
       "    <tr>\n",
       "      <th>34</th>\n",
       "      <td>1298</td>\n",
       "      <td>700</td>\n",
       "      <td>1808</td>\n",
       "      <td>1058</td>\n",
       "      <td>1129</td>\n",
       "      <td>171</td>\n",
       "      <td>54</td>\n",
       "    </tr>\n",
       "    <tr>\n",
       "      <th>35</th>\n",
       "      <td>1231</td>\n",
       "      <td>663</td>\n",
       "      <td>1913</td>\n",
       "      <td>1218</td>\n",
       "      <td>1097</td>\n",
       "      <td>254</td>\n",
       "      <td>58</td>\n",
       "    </tr>\n",
       "    <tr>\n",
       "      <th>36</th>\n",
       "      <td>1245</td>\n",
       "      <td>788</td>\n",
       "      <td>1851</td>\n",
       "      <td>1090</td>\n",
       "      <td>1067</td>\n",
       "      <td>239</td>\n",
       "      <td>56</td>\n",
       "    </tr>\n",
       "    <tr>\n",
       "      <th>37</th>\n",
       "      <td>1252</td>\n",
       "      <td>648</td>\n",
       "      <td>1829</td>\n",
       "      <td>1170</td>\n",
       "      <td>1159</td>\n",
       "      <td>136</td>\n",
       "      <td>56</td>\n",
       "    </tr>\n",
       "    <tr>\n",
       "      <th>38</th>\n",
       "      <td>1284</td>\n",
       "      <td>806</td>\n",
       "      <td>1800</td>\n",
       "      <td>1081</td>\n",
       "      <td>1101</td>\n",
       "      <td>247</td>\n",
       "      <td>52</td>\n",
       "    </tr>\n",
       "    <tr>\n",
       "      <th>39</th>\n",
       "      <td>1293</td>\n",
       "      <td>819</td>\n",
       "      <td>1964</td>\n",
       "      <td>1147</td>\n",
       "      <td>1178</td>\n",
       "      <td>124</td>\n",
       "      <td>54</td>\n",
       "    </tr>\n",
       "    <tr>\n",
       "      <th>40</th>\n",
       "      <td>1251</td>\n",
       "      <td>922</td>\n",
       "      <td>1993</td>\n",
       "      <td>1144</td>\n",
       "      <td>1166</td>\n",
       "      <td>156</td>\n",
       "      <td>56</td>\n",
       "    </tr>\n",
       "    <tr>\n",
       "      <th>41</th>\n",
       "      <td>1233</td>\n",
       "      <td>810</td>\n",
       "      <td>1721</td>\n",
       "      <td>1095</td>\n",
       "      <td>1191</td>\n",
       "      <td>197</td>\n",
       "      <td>55</td>\n",
       "    </tr>\n",
       "    <tr>\n",
       "      <th>42</th>\n",
       "      <td>1302</td>\n",
       "      <td>650</td>\n",
       "      <td>1702</td>\n",
       "      <td>1131</td>\n",
       "      <td>1113</td>\n",
       "      <td>234</td>\n",
       "      <td>58</td>\n",
       "    </tr>\n",
       "    <tr>\n",
       "      <th>43</th>\n",
       "      <td>1254</td>\n",
       "      <td>819</td>\n",
       "      <td>1788</td>\n",
       "      <td>1065</td>\n",
       "      <td>1136</td>\n",
       "      <td>99</td>\n",
       "      <td>56</td>\n",
       "    </tr>\n",
       "    <tr>\n",
       "      <th>44</th>\n",
       "      <td>1282</td>\n",
       "      <td>590</td>\n",
       "      <td>1681</td>\n",
       "      <td>1208</td>\n",
       "      <td>1160</td>\n",
       "      <td>169</td>\n",
       "      <td>56</td>\n",
       "    </tr>\n",
       "    <tr>\n",
       "      <th>45</th>\n",
       "      <td>1241</td>\n",
       "      <td>705</td>\n",
       "      <td>1803</td>\n",
       "      <td>1131</td>\n",
       "      <td>1132</td>\n",
       "      <td>177</td>\n",
       "      <td>54</td>\n",
       "    </tr>\n",
       "    <tr>\n",
       "      <th>46</th>\n",
       "      <td>1242</td>\n",
       "      <td>830</td>\n",
       "      <td>2025</td>\n",
       "      <td>1175</td>\n",
       "      <td>1136</td>\n",
       "      <td>180</td>\n",
       "      <td>58</td>\n",
       "    </tr>\n",
       "    <tr>\n",
       "      <th>47</th>\n",
       "      <td>1197</td>\n",
       "      <td>625</td>\n",
       "      <td>2035</td>\n",
       "      <td>1100</td>\n",
       "      <td>1177</td>\n",
       "      <td>197</td>\n",
       "      <td>55</td>\n",
       "    </tr>\n",
       "    <tr>\n",
       "      <th>48</th>\n",
       "      <td>1276</td>\n",
       "      <td>674</td>\n",
       "      <td>1935</td>\n",
       "      <td>1065</td>\n",
       "      <td>1136</td>\n",
       "      <td>203</td>\n",
       "      <td>54</td>\n",
       "    </tr>\n",
       "    <tr>\n",
       "      <th>49</th>\n",
       "      <td>1246</td>\n",
       "      <td>672</td>\n",
       "      <td>1819</td>\n",
       "      <td>1156</td>\n",
       "      <td>1148</td>\n",
       "      <td>159</td>\n",
       "      <td>55</td>\n",
       "    </tr>\n",
       "  </tbody>\n",
       "</table>\n",
       "</div>"
      ],
      "text/plain": [
       "    Nuclear  Wind  Hydroelectric  Oil and Gas  Coal  Solar  Biomass\n",
       "0      1307   612           1939         1127  1076    126       52\n",
       "1      1288   680           1724         1167  1233    173       57\n",
       "2      1255   721           1961         1170  1193    178       56\n",
       "3      1336   692           1715         1077  1138    112       54\n",
       "4      1238   682           1859         1136  1126    188       55\n",
       "5      1273   752           1920         1197  1105    137       57\n",
       "6      1233   601           2048         1098  1102    172       56\n",
       "7      1337   685           1935         1234  1099    223       53\n",
       "8      1274   771           1896         1149  1182    173       57\n",
       "9      1333   761           1944         1078  1207    189       54\n",
       "10     1261   725           1743         1089  1076    104       56\n",
       "11     1280   587           1797         1028  1166    169       55\n",
       "12     1294   607           2063         1221  1126    139       57\n",
       "13     1292   739           1822         1297  1105    187       50\n",
       "14     1201   664           1892         1000  1117    207       56\n",
       "15     1264   587           2046         1097  1136     95       56\n",
       "16     1268   709           1778         1220  1225    109       54\n",
       "17     1282   758           1601         1212  1130    193       52\n",
       "18     1221   853           2005         1136  1137    133       53\n",
       "19     1235   743           1766         1137  1116    214       53\n",
       "20     1244   721           1820         1099  1125    164       53\n",
       "21     1293   555           1859         1096  1138    234       54\n",
       "22     1325   728           1800         1020  1145    148       56\n",
       "23     1274   791           1867         1116  1127    158       51\n",
       "24     1305   721           1763         1154  1219    165       55\n",
       "25     1303   729           1980         1134  1091    141       51\n",
       "26     1257   706           1950         1091  1126    148       55\n",
       "27     1231   685           1641         1017  1202    143       58\n",
       "28     1268   699           1707         1121  1134    144       52\n",
       "29     1269   718           1763         1127  1080    139       54\n",
       "30     1311   574           1863         1080  1113    139       58\n",
       "31     1214   666           1825         1128  1135    194       59\n",
       "32     1137   734           1698         1099  1051    231       54\n",
       "33     1210   671           1865         1221  1106    170       55\n",
       "34     1298   700           1808         1058  1129    171       54\n",
       "35     1231   663           1913         1218  1097    254       58\n",
       "36     1245   788           1851         1090  1067    239       56\n",
       "37     1252   648           1829         1170  1159    136       56\n",
       "38     1284   806           1800         1081  1101    247       52\n",
       "39     1293   819           1964         1147  1178    124       54\n",
       "40     1251   922           1993         1144  1166    156       56\n",
       "41     1233   810           1721         1095  1191    197       55\n",
       "42     1302   650           1702         1131  1113    234       58\n",
       "43     1254   819           1788         1065  1136     99       56\n",
       "44     1282   590           1681         1208  1160    169       56\n",
       "45     1241   705           1803         1131  1132    177       54\n",
       "46     1242   830           2025         1175  1136    180       58\n",
       "47     1197   625           2035         1100  1177    197       55\n",
       "48     1276   674           1935         1065  1136    203       54\n",
       "49     1246   672           1819         1156  1148    159       55"
      ]
     },
     "execution_count": 177,
     "metadata": {},
     "output_type": "execute_result"
    }
   ],
   "source": [
    "# load dataset\n",
    "df = pd.read_csv(r\"raw\\electricity-normal-sample.csv\",\n",
    "                 delimiter=\",\")\n",
    "df"
   ]
  },
  {
   "cell_type": "code",
   "execution_count": 178,
   "id": "e6e2ffea",
   "metadata": {},
   "outputs": [
    {
     "name": "stdout",
     "output_type": "stream",
     "text": [
      "<class 'pandas.core.frame.DataFrame'>\n",
      "RangeIndex: 50 entries, 0 to 49\n",
      "Data columns (total 7 columns):\n",
      " #   Column         Non-Null Count  Dtype\n",
      "---  ------         --------------  -----\n",
      " 0   Nuclear        50 non-null     int64\n",
      " 1   Wind           50 non-null     int64\n",
      " 2   Hydroelectric  50 non-null     int64\n",
      " 3   Oil and Gas    50 non-null     int64\n",
      " 4   Coal           50 non-null     int64\n",
      " 5   Solar          50 non-null     int64\n",
      " 6   Biomass        50 non-null     int64\n",
      "dtypes: int64(7)\n",
      "memory usage: 2.9 KB\n"
     ]
    }
   ],
   "source": [
    "# summary of dataframe\n",
    "df.info()"
   ]
  },
  {
   "cell_type": "code",
   "execution_count": 179,
   "id": "1842009b",
   "metadata": {},
   "outputs": [
    {
     "data": {
      "application/vnd.microsoft.datawrangler.viewer.v0+json": {
       "columns": [
        {
         "name": "index",
         "rawType": "object",
         "type": "string"
        },
        {
         "name": "Nuclear",
         "rawType": "float64",
         "type": "float"
        },
        {
         "name": "Wind",
         "rawType": "float64",
         "type": "float"
        },
        {
         "name": "Hydroelectric",
         "rawType": "float64",
         "type": "float"
        },
        {
         "name": "Oil and Gas",
         "rawType": "float64",
         "type": "float"
        },
        {
         "name": "Coal",
         "rawType": "float64",
         "type": "float"
        },
        {
         "name": "Solar",
         "rawType": "float64",
         "type": "float"
        },
        {
         "name": "Biomass",
         "rawType": "float64",
         "type": "float"
        }
       ],
       "conversionMethod": "pd.DataFrame",
       "ref": "22d8e299-a07b-4f3f-a91e-fd2bcd75fa6f",
       "rows": [
        [
         "count",
         "50.0",
         "50.0",
         "50.0",
         "50.0",
         "50.0",
         "50.0",
         "50.0"
        ],
        [
         "mean",
         "1264.8",
         "706.96",
         "1850.44",
         "1128.14",
         "1136.26",
         "169.62",
         "54.9"
        ],
        [
         "std",
         "39.036874247567624",
         "77.87639604671296",
         "114.1005929262528",
         "61.56198469172086",
         "41.2690574406639",
         "39.64685436733273",
         "2.052872551885702"
        ],
        [
         "min",
         "1137.0",
         "555.0",
         "1601.0",
         "1000.0",
         "1051.0",
         "95.0",
         "50.0"
        ],
        [
         "25%",
         "1241.25",
         "664.5",
         "1769.0",
         "1090.25",
         "1107.75",
         "139.5",
         "54.0"
        ],
        [
         "50%",
         "1268.0",
         "705.5",
         "1840.0",
         "1127.5",
         "1133.0",
         "169.5",
         "55.0"
        ],
        [
         "75%",
         "1292.75",
         "749.75",
         "1938.0",
         "1164.25",
         "1159.75",
         "193.75",
         "56.0"
        ],
        [
         "max",
         "1337.0",
         "922.0",
         "2063.0",
         "1297.0",
         "1233.0",
         "254.0",
         "59.0"
        ]
       ],
       "shape": {
        "columns": 7,
        "rows": 8
       }
      },
      "text/html": [
       "<div>\n",
       "<style scoped>\n",
       "    .dataframe tbody tr th:only-of-type {\n",
       "        vertical-align: middle;\n",
       "    }\n",
       "\n",
       "    .dataframe tbody tr th {\n",
       "        vertical-align: top;\n",
       "    }\n",
       "\n",
       "    .dataframe thead th {\n",
       "        text-align: right;\n",
       "    }\n",
       "</style>\n",
       "<table border=\"1\" class=\"dataframe\">\n",
       "  <thead>\n",
       "    <tr style=\"text-align: right;\">\n",
       "      <th></th>\n",
       "      <th>Nuclear</th>\n",
       "      <th>Wind</th>\n",
       "      <th>Hydroelectric</th>\n",
       "      <th>Oil and Gas</th>\n",
       "      <th>Coal</th>\n",
       "      <th>Solar</th>\n",
       "      <th>Biomass</th>\n",
       "    </tr>\n",
       "  </thead>\n",
       "  <tbody>\n",
       "    <tr>\n",
       "      <th>count</th>\n",
       "      <td>50.000000</td>\n",
       "      <td>50.000000</td>\n",
       "      <td>50.000000</td>\n",
       "      <td>50.000000</td>\n",
       "      <td>50.000000</td>\n",
       "      <td>50.000000</td>\n",
       "      <td>50.000000</td>\n",
       "    </tr>\n",
       "    <tr>\n",
       "      <th>mean</th>\n",
       "      <td>1264.800000</td>\n",
       "      <td>706.960000</td>\n",
       "      <td>1850.440000</td>\n",
       "      <td>1128.140000</td>\n",
       "      <td>1136.260000</td>\n",
       "      <td>169.620000</td>\n",
       "      <td>54.900000</td>\n",
       "    </tr>\n",
       "    <tr>\n",
       "      <th>std</th>\n",
       "      <td>39.036874</td>\n",
       "      <td>77.876396</td>\n",
       "      <td>114.100593</td>\n",
       "      <td>61.561985</td>\n",
       "      <td>41.269057</td>\n",
       "      <td>39.646854</td>\n",
       "      <td>2.052873</td>\n",
       "    </tr>\n",
       "    <tr>\n",
       "      <th>min</th>\n",
       "      <td>1137.000000</td>\n",
       "      <td>555.000000</td>\n",
       "      <td>1601.000000</td>\n",
       "      <td>1000.000000</td>\n",
       "      <td>1051.000000</td>\n",
       "      <td>95.000000</td>\n",
       "      <td>50.000000</td>\n",
       "    </tr>\n",
       "    <tr>\n",
       "      <th>25%</th>\n",
       "      <td>1241.250000</td>\n",
       "      <td>664.500000</td>\n",
       "      <td>1769.000000</td>\n",
       "      <td>1090.250000</td>\n",
       "      <td>1107.750000</td>\n",
       "      <td>139.500000</td>\n",
       "      <td>54.000000</td>\n",
       "    </tr>\n",
       "    <tr>\n",
       "      <th>50%</th>\n",
       "      <td>1268.000000</td>\n",
       "      <td>705.500000</td>\n",
       "      <td>1840.000000</td>\n",
       "      <td>1127.500000</td>\n",
       "      <td>1133.000000</td>\n",
       "      <td>169.500000</td>\n",
       "      <td>55.000000</td>\n",
       "    </tr>\n",
       "    <tr>\n",
       "      <th>75%</th>\n",
       "      <td>1292.750000</td>\n",
       "      <td>749.750000</td>\n",
       "      <td>1938.000000</td>\n",
       "      <td>1164.250000</td>\n",
       "      <td>1159.750000</td>\n",
       "      <td>193.750000</td>\n",
       "      <td>56.000000</td>\n",
       "    </tr>\n",
       "    <tr>\n",
       "      <th>max</th>\n",
       "      <td>1337.000000</td>\n",
       "      <td>922.000000</td>\n",
       "      <td>2063.000000</td>\n",
       "      <td>1297.000000</td>\n",
       "      <td>1233.000000</td>\n",
       "      <td>254.000000</td>\n",
       "      <td>59.000000</td>\n",
       "    </tr>\n",
       "  </tbody>\n",
       "</table>\n",
       "</div>"
      ],
      "text/plain": [
       "           Nuclear        Wind  Hydroelectric  Oil and Gas         Coal  \\\n",
       "count    50.000000   50.000000      50.000000    50.000000    50.000000   \n",
       "mean   1264.800000  706.960000    1850.440000  1128.140000  1136.260000   \n",
       "std      39.036874   77.876396     114.100593    61.561985    41.269057   \n",
       "min    1137.000000  555.000000    1601.000000  1000.000000  1051.000000   \n",
       "25%    1241.250000  664.500000    1769.000000  1090.250000  1107.750000   \n",
       "50%    1268.000000  705.500000    1840.000000  1127.500000  1133.000000   \n",
       "75%    1292.750000  749.750000    1938.000000  1164.250000  1159.750000   \n",
       "max    1337.000000  922.000000    2063.000000  1297.000000  1233.000000   \n",
       "\n",
       "            Solar    Biomass  \n",
       "count   50.000000  50.000000  \n",
       "mean   169.620000  54.900000  \n",
       "std     39.646854   2.052873  \n",
       "min     95.000000  50.000000  \n",
       "25%    139.500000  54.000000  \n",
       "50%    169.500000  55.000000  \n",
       "75%    193.750000  56.000000  \n",
       "max    254.000000  59.000000  "
      ]
     },
     "execution_count": 179,
     "metadata": {},
     "output_type": "execute_result"
    }
   ],
   "source": [
    "# summary of statistics\n",
    "df.describe()"
   ]
  },
  {
   "cell_type": "markdown",
   "id": "54e186a5",
   "metadata": {},
   "source": [
    "# Data Cleaning"
   ]
  },
  {
   "cell_type": "code",
   "execution_count": 180,
   "id": "4d2e1f27",
   "metadata": {},
   "outputs": [
    {
     "data": {
      "image/png": "[encoded data removed]",
      "text/plain": [
       "<Figure size 1000x500 with 1 Axes>"
      ]
     },
     "metadata": {},
     "output_type": "display_data"
    }
   ],
   "source": [
    "# check for outliers\n",
    "plt.figure(figsize=(10,5))\n",
    "plt.boxplot(df[['Nuclear','Wind','Hydroelectric','Oil and Gas','Coal','Solar','Biomass']],\n",
    "            tick_labels=df.columns)\n",
    "plt.title('Production Type')\n",
    "plt.ylabel('MWh')\n",
    "#plt.xticks(rotation=45)\n",
    "plt.show()"
   ]
  },
  {
   "cell_type": "code",
   "execution_count": 181,
   "id": "0acb409a",
   "metadata": {},
   "outputs": [
    {
     "data": {
      "image/png": "[encoded data removed]",
      "text/plain": [
       "<Figure size 640x480 with 1 Axes>"
      ]
     },
     "metadata": {},
     "output_type": "display_data"
    }
   ],
   "source": [
    "# nuclear\n",
    "plt.boxplot(df['Nuclear'],tick_labels=['Nuclear'])\n",
    "plt.show()"
   ]
  },
  {
   "cell_type": "code",
   "execution_count": 182,
   "id": "637a138c",
   "metadata": {},
   "outputs": [],
   "source": [
    "# removing 3-sigma outliers\n",
    "z_nuclear = stats.zscore(df['Nuclear'])\n",
    "nuc_outliers = (z_nuclear<-3)|(z_nuclear>3)\n",
    "df = df[~nuc_outliers]"
   ]
  },
  {
   "cell_type": "code",
   "execution_count": 183,
   "id": "3dc0e51b",
   "metadata": {},
   "outputs": [
    {
     "data": {
      "image/png": "[encoded data removed]",
      "text/plain": [
       "<Figure size 640x480 with 1 Axes>"
      ]
     },
     "metadata": {},
     "output_type": "display_data"
    }
   ],
   "source": [
    "# wind\n",
    "plt.boxplot(df['Wind'],tick_labels=['Wind'])\n",
    "plt.show()"
   ]
  },
  {
   "cell_type": "code",
   "execution_count": 184,
   "id": "1462b884",
   "metadata": {},
   "outputs": [],
   "source": [
    "# removing 3-sigma outliers\n",
    "z_wind = stats.zscore(df['Wind'])\n",
    "wind_outliers = (z_wind<-3)|(z_wind>3)\n",
    "df = df[~wind_outliers]"
   ]
  },
  {
   "cell_type": "code",
   "execution_count": 185,
   "id": "bc6b46e2",
   "metadata": {},
   "outputs": [
    {
     "data": {
      "image/png": "[encoded data removed]",
      "text/plain": [
       "<Figure size 640x480 with 1 Axes>"
      ]
     },
     "metadata": {},
     "output_type": "display_data"
    }
   ],
   "source": [
    "# oil and gas\n",
    "plt.boxplot(df['Oil and Gas'],tick_labels=['Oil and Gas'])\n",
    "plt.show()"
   ]
  },
  {
   "cell_type": "code",
   "execution_count": 186,
   "id": "a67e0dc0",
   "metadata": {},
   "outputs": [],
   "source": [
    "# removing 3-sigma outliers\n",
    "z_oil = stats.zscore(df['Oil and Gas'])\n",
    "oil_outliers = (z_oil<-3)|(z_oil>3)\n",
    "df = df[~oil_outliers]"
   ]
  },
  {
   "cell_type": "code",
   "execution_count": 187,
   "id": "08bce531",
   "metadata": {},
   "outputs": [
    {
     "data": {
      "image/png": "[encoded data removed]",
      "text/plain": [
       "<Figure size 640x480 with 1 Axes>"
      ]
     },
     "metadata": {},
     "output_type": "display_data"
    }
   ],
   "source": [
    "# coal\n",
    "plt.boxplot(df['Coal'],tick_labels=['Coal'])\n",
    "plt.show()"
   ]
  },
  {
   "cell_type": "code",
   "execution_count": 188,
   "id": "86a116b8",
   "metadata": {},
   "outputs": [],
   "source": [
    "# removing 3-sigma outliers\n",
    "z_coal = stats.zscore(df['Coal'])\n",
    "coal_outliers = (z_coal<-3)|(z_coal>3)\n",
    "df = df[~coal_outliers]"
   ]
  },
  {
   "cell_type": "code",
   "execution_count": 189,
   "id": "fa81490d",
   "metadata": {},
   "outputs": [
    {
     "data": {
      "image/png": "[encoded data removed]",
      "text/plain": [
       "<Figure size 640x480 with 1 Axes>"
      ]
     },
     "metadata": {},
     "output_type": "display_data"
    }
   ],
   "source": [
    "# biomass\n",
    "plt.boxplot(df['Biomass'],tick_labels=['Biomass'])\n",
    "plt.show()"
   ]
  },
  {
   "cell_type": "code",
   "execution_count": 190,
   "id": "7d7f9477",
   "metadata": {},
   "outputs": [],
   "source": [
    "# removing 3-sigma outliers\n",
    "z_biomass = stats.zscore(df['Biomass'])\n",
    "biomass_outliers = (z_biomass<-3)|(z_biomass>3)\n",
    "df = df[~biomass_outliers]"
   ]
  },
  {
   "cell_type": "code",
   "execution_count": 191,
   "id": "d1327e6a",
   "metadata": {},
   "outputs": [],
   "source": [
    "# save cleaned dataset\n",
    "#df.to_csv(r\"raw\\electricity-normal-sample-cleaned.csv\",\n",
    "#          index=False)"
   ]
  },
  {
   "cell_type": "markdown",
   "id": "fbec780d",
   "metadata": {},
   "source": [
    "# Normality Test"
   ]
  },
  {
   "cell_type": "code",
   "execution_count": 192,
   "id": "fb8ea726",
   "metadata": {},
   "outputs": [
    {
     "data": {
      "application/vnd.microsoft.datawrangler.viewer.v0+json": {
       "columns": [
        {
         "name": "index",
         "rawType": "int64",
         "type": "integer"
        },
        {
         "name": "Nuclear",
         "rawType": "int64",
         "type": "integer"
        },
        {
         "name": "Wind",
         "rawType": "int64",
         "type": "integer"
        },
        {
         "name": "Hydroelectric",
         "rawType": "int64",
         "type": "integer"
        },
        {
         "name": "Oil and Gas",
         "rawType": "int64",
         "type": "integer"
        },
        {
         "name": "Coal",
         "rawType": "int64",
         "type": "integer"
        },
        {
         "name": "Solar",
         "rawType": "int64",
         "type": "integer"
        },
        {
         "name": "Biomass",
         "rawType": "int64",
         "type": "integer"
        }
       ],
       "conversionMethod": "pd.DataFrame",
       "ref": "ea6c0a44-d509-48ab-bdf6-93b7976edd07",
       "rows": [
        [
         "0",
         "1307",
         "612",
         "1939",
         "1127",
         "1076",
         "126",
         "52"
        ],
        [
         "1",
         "1288",
         "680",
         "1724",
         "1167",
         "1233",
         "173",
         "57"
        ],
        [
         "2",
         "1255",
         "721",
         "1961",
         "1170",
         "1193",
         "178",
         "56"
        ],
        [
         "3",
         "1336",
         "692",
         "1715",
         "1077",
         "1138",
         "112",
         "54"
        ],
        [
         "4",
         "1238",
         "682",
         "1859",
         "1136",
         "1126",
         "188",
         "55"
        ],
        [
         "5",
         "1273",
         "752",
         "1920",
         "1197",
         "1105",
         "137",
         "57"
        ],
        [
         "6",
         "1233",
         "601",
         "2048",
         "1098",
         "1102",
         "172",
         "56"
        ],
        [
         "7",
         "1337",
         "685",
         "1935",
         "1234",
         "1099",
         "223",
         "53"
        ],
        [
         "8",
         "1274",
         "771",
         "1896",
         "1149",
         "1182",
         "173",
         "57"
        ],
        [
         "9",
         "1333",
         "761",
         "1944",
         "1078",
         "1207",
         "189",
         "54"
        ],
        [
         "10",
         "1261",
         "725",
         "1743",
         "1089",
         "1076",
         "104",
         "56"
        ],
        [
         "11",
         "1280",
         "587",
         "1797",
         "1028",
         "1166",
         "169",
         "55"
        ],
        [
         "12",
         "1294",
         "607",
         "2063",
         "1221",
         "1126",
         "139",
         "57"
        ],
        [
         "13",
         "1292",
         "739",
         "1822",
         "1297",
         "1105",
         "187",
         "50"
        ],
        [
         "14",
         "1201",
         "664",
         "1892",
         "1000",
         "1117",
         "207",
         "56"
        ],
        [
         "15",
         "1264",
         "587",
         "2046",
         "1097",
         "1136",
         "95",
         "56"
        ],
        [
         "16",
         "1268",
         "709",
         "1778",
         "1220",
         "1225",
         "109",
         "54"
        ],
        [
         "17",
         "1282",
         "758",
         "1601",
         "1212",
         "1130",
         "193",
         "52"
        ],
        [
         "18",
         "1221",
         "853",
         "2005",
         "1136",
         "1137",
         "133",
         "53"
        ],
        [
         "19",
         "1235",
         "743",
         "1766",
         "1137",
         "1116",
         "214",
         "53"
        ],
        [
         "20",
         "1244",
         "721",
         "1820",
         "1099",
         "1125",
         "164",
         "53"
        ],
        [
         "21",
         "1293",
         "555",
         "1859",
         "1096",
         "1138",
         "234",
         "54"
        ],
        [
         "22",
         "1325",
         "728",
         "1800",
         "1020",
         "1145",
         "148",
         "56"
        ],
        [
         "23",
         "1274",
         "791",
         "1867",
         "1116",
         "1127",
         "158",
         "51"
        ],
        [
         "24",
         "1305",
         "721",
         "1763",
         "1154",
         "1219",
         "165",
         "55"
        ],
        [
         "25",
         "1303",
         "729",
         "1980",
         "1134",
         "1091",
         "141",
         "51"
        ],
        [
         "26",
         "1257",
         "706",
         "1950",
         "1091",
         "1126",
         "148",
         "55"
        ],
        [
         "27",
         "1231",
         "685",
         "1641",
         "1017",
         "1202",
         "143",
         "58"
        ],
        [
         "28",
         "1268",
         "699",
         "1707",
         "1121",
         "1134",
         "144",
         "52"
        ],
        [
         "29",
         "1269",
         "718",
         "1763",
         "1127",
         "1080",
         "139",
         "54"
        ],
        [
         "30",
         "1311",
         "574",
         "1863",
         "1080",
         "1113",
         "139",
         "58"
        ],
        [
         "31",
         "1214",
         "666",
         "1825",
         "1128",
         "1135",
         "194",
         "59"
        ],
        [
         "32",
         "1210",
         "671",
         "1865",
         "1221",
         "1106",
         "170",
         "55"
        ],
        [
         "33",
         "1298",
         "700",
         "1808",
         "1058",
         "1129",
         "171",
         "54"
        ],
        [
         "34",
         "1231",
         "663",
         "1913",
         "1218",
         "1097",
         "254",
         "58"
        ],
        [
         "35",
         "1245",
         "788",
         "1851",
         "1090",
         "1067",
         "239",
         "56"
        ],
        [
         "36",
         "1252",
         "648",
         "1829",
         "1170",
         "1159",
         "136",
         "56"
        ],
        [
         "37",
         "1284",
         "806",
         "1800",
         "1081",
         "1101",
         "247",
         "52"
        ],
        [
         "38",
         "1293",
         "819",
         "1964",
         "1147",
         "1178",
         "124",
         "54"
        ],
        [
         "39",
         "1251",
         "922",
         "1993",
         "1144",
         "1166",
         "156",
         "56"
        ],
        [
         "40",
         "1233",
         "810",
         "1721",
         "1095",
         "1191",
         "197",
         "55"
        ],
        [
         "41",
         "1302",
         "650",
         "1702",
         "1131",
         "1113",
         "234",
         "58"
        ],
        [
         "42",
         "1254",
         "819",
         "1788",
         "1065",
         "1136",
         "99",
         "56"
        ],
        [
         "43",
         "1282",
         "590",
         "1681",
         "1208",
         "1160",
         "169",
         "56"
        ],
        [
         "44",
         "1241",
         "705",
         "1803",
         "1131",
         "1132",
         "177",
         "54"
        ],
        [
         "45",
         "1242",
         "830",
         "2025",
         "1175",
         "1136",
         "180",
         "58"
        ],
        [
         "46",
         "1197",
         "625",
         "2035",
         "1100",
         "1177",
         "197",
         "55"
        ],
        [
         "47",
         "1276",
         "674",
         "1935",
         "1065",
         "1136",
         "203",
         "54"
        ],
        [
         "48",
         "1246",
         "672",
         "1819",
         "1156",
         "1148",
         "159",
         "55"
        ]
       ],
       "shape": {
        "columns": 7,
        "rows": 49
       }
      },
      "text/html": [
       "<div>\n",
       "<style scoped>\n",
       "    .dataframe tbody tr th:only-of-type {\n",
       "        vertical-align: middle;\n",
       "    }\n",
       "\n",
       "    .dataframe tbody tr th {\n",
       "        vertical-align: top;\n",
       "    }\n",
       "\n",
       "    .dataframe thead th {\n",
       "        text-align: right;\n",
       "    }\n",
       "</style>\n",
       "<table border=\"1\" class=\"dataframe\">\n",
       "  <thead>\n",
       "    <tr style=\"text-align: right;\">\n",
       "      <th></th>\n",
       "      <th>Nuclear</th>\n",
       "      <th>Wind</th>\n",
       "      <th>Hydroelectric</th>\n",
       "      <th>Oil and Gas</th>\n",
       "      <th>Coal</th>\n",
       "      <th>Solar</th>\n",
       "      <th>Biomass</th>\n",
       "    </tr>\n",
       "  </thead>\n",
       "  <tbody>\n",
       "    <tr>\n",
       "      <th>0</th>\n",
       "      <td>1307</td>\n",
       "      <td>612</td>\n",
       "      <td>1939</td>\n",
       "      <td>1127</td>\n",
       "      <td>1076</td>\n",
       "      <td>126</td>\n",
       "      <td>52</td>\n",
       "    </tr>\n",
       "    <tr>\n",
       "      <th>1</th>\n",
       "      <td>1288</td>\n",
       "      <td>680</td>\n",
       "      <td>1724</td>\n",
       "      <td>1167</td>\n",
       "      <td>1233</td>\n",
       "      <td>173</td>\n",
       "      <td>57</td>\n",
       "    </tr>\n",
       "    <tr>\n",
       "      <th>2</th>\n",
       "      <td>1255</td>\n",
       "      <td>721</td>\n",
       "      <td>1961</td>\n",
       "      <td>1170</td>\n",
       "      <td>1193</td>\n",
       "      <td>178</td>\n",
       "      <td>56</td>\n",
       "    </tr>\n",
       "    <tr>\n",
       "      <th>3</th>\n",
       "      <td>1336</td>\n",
       "      <td>692</td>\n",
       "      <td>1715</td>\n",
       "      <td>1077</td>\n",
       "      <td>1138</td>\n",
       "      <td>112</td>\n",
       "      <td>54</td>\n",
       "    </tr>\n",
       "    <tr>\n",
       "      <th>4</th>\n",
       "      <td>1238</td>\n",
       "      <td>682</td>\n",
       "      <td>1859</td>\n",
       "      <td>1136</td>\n",
       "      <td>1126</td>\n",
       "      <td>188</td>\n",
       "      <td>55</td>\n",
       "    </tr>\n",
       "    <tr>\n",
       "      <th>5</th>\n",
       "      <td>1273</td>\n",
       "      <td>752</td>\n",
       "      <td>1920</td>\n",
       "      <td>1197</td>\n",
       "      <td>1105</td>\n",
       "      <td>137</td>\n",
       "      <td>57</td>\n",
       "    </tr>\n",
       "    <tr>\n",
       "      <th>6</th>\n",
       "      <td>1233</td>\n",
       "      <td>601</td>\n",
       "      <td>2048</td>\n",
       "      <td>1098</td>\n",
       "      <td>1102</td>\n",
       "      <td>172</td>\n",
       "      <td>56</td>\n",
       "    </tr>\n",
       "    <tr>\n",
       "      <th>7</th>\n",
       "      <td>1337</td>\n",
       "      <td>685</td>\n",
       "      <td>1935</td>\n",
       "      <td>1234</td>\n",
       "      <td>1099</td>\n",
       "      <td>223</td>\n",
       "      <td>53</td>\n",
       "    </tr>\n",
       "    <tr>\n",
       "      <th>8</th>\n",
       "      <td>1274</td>\n",
       "      <td>771</td>\n",
       "      <td>1896</td>\n",
       "      <td>1149</td>\n",
       "      <td>1182</td>\n",
       "      <td>173</td>\n",
       "      <td>57</td>\n",
       "    </tr>\n",
       "    <tr>\n",
       "      <th>9</th>\n",
       "      <td>1333</td>\n",
       "      <td>761</td>\n",
       "      <td>1944</td>\n",
       "      <td>1078</td>\n",
       "      <td>1207</td>\n",
       "      <td>189</td>\n",
       "      <td>54</td>\n",
       "    </tr>\n",
       "    <tr>\n",
       "      <th>10</th>\n",
       "      <td>1261</td>\n",
       "      <td>725</td>\n",
       "      <td>1743</td>\n",
       "      <td>1089</td>\n",
       "      <td>1076</td>\n",
       "      <td>104</td>\n",
       "      <td>56</td>\n",
       "    </tr>\n",
       "    <tr>\n",
       "      <th>11</th>\n",
       "      <td>1280</td>\n",
       "      <td>587</td>\n",
       "      <td>1797</td>\n",
       "      <td>1028</td>\n",
       "      <td>1166</td>\n",
       "      <td>169</td>\n",
       "      <td>55</td>\n",
       "    </tr>\n",
       "    <tr>\n",
       "      <th>12</th>\n",
       "      <td>1294</td>\n",
       "      <td>607</td>\n",
       "      <td>2063</td>\n",
       "      <td>1221</td>\n",
       "      <td>1126</td>\n",
       "      <td>139</td>\n",
       "      <td>57</td>\n",
       "    </tr>\n",
       "    <tr>\n",
       "      <th>13</th>\n",
       "      <td>1292</td>\n",
       "      <td>739</td>\n",
       "      <td>1822</td>\n",
       "      <td>1297</td>\n",
       "      <td>1105</td>\n",
       "      <td>187</td>\n",
       "      <td>50</td>\n",
       "    </tr>\n",
       "    <tr>\n",
       "      <th>14</th>\n",
       "      <td>1201</td>\n",
       "      <td>664</td>\n",
       "      <td>1892</td>\n",
       "      <td>1000</td>\n",
       "      <td>1117</td>\n",
       "      <td>207</td>\n",
       "      <td>56</td>\n",
       "    </tr>\n",
       "    <tr>\n",
       "      <th>15</th>\n",
       "      <td>1264</td>\n",
       "      <td>587</td>\n",
       "      <td>2046</td>\n",
       "      <td>1097</td>\n",
       "      <td>1136</td>\n",
       "      <td>95</td>\n",
       "      <td>56</td>\n",
       "    </tr>\n",
       "    <tr>\n",
       "      <th>16</th>\n",
       "      <td>1268</td>\n",
       "      <td>709</td>\n",
       "      <td>1778</td>\n",
       "      <td>1220</td>\n",
       "      <td>1225</td>\n",
       "      <td>109</td>\n",
       "      <td>54</td>\n",
       "    </tr>\n",
       "    <tr>\n",
       "      <th>17</th>\n",
       "      <td>1282</td>\n",
       "      <td>758</td>\n",
       "      <td>1601</td>\n",
       "      <td>1212</td>\n",
       "      <td>1130</td>\n",
       "      <td>193</td>\n",
       "      <td>52</td>\n",
       "    </tr>\n",
       "    <tr>\n",
       "      <th>18</th>\n",
       "      <td>1221</td>\n",
       "      <td>853</td>\n",
       "      <td>2005</td>\n",
       "      <td>1136</td>\n",
       "      <td>1137</td>\n",
       "      <td>133</td>\n",
       "      <td>53</td>\n",
       "    </tr>\n",
       "    <tr>\n",
       "      <th>19</th>\n",
       "      <td>1235</td>\n",
       "      <td>743</td>\n",
       "      <td>1766</td>\n",
       "      <td>1137</td>\n",
       "      <td>1116</td>\n",
       "      <td>214</td>\n",
       "      <td>53</td>\n",
       "    </tr>\n",
       "    <tr>\n",
       "      <th>20</th>\n",
       "      <td>1244</td>\n",
       "      <td>721</td>\n",
       "      <td>1820</td>\n",
       "      <td>1099</td>\n",
       "      <td>1125</td>\n",
       "      <td>164</td>\n",
       "      <td>53</td>\n",
       "    </tr>\n",
       "    <tr>\n",
       "      <th>21</th>\n",
       "      <td>1293</td>\n",
       "      <td>555</td>\n",
       "      <td>1859</td>\n",
       "      <td>1096</td>\n",
       "      <td>1138</td>\n",
       "      <td>234</td>\n",
       "      <td>54</td>\n",
       "    </tr>\n",
       "    <tr>\n",
       "      <th>22</th>\n",
       "      <td>1325</td>\n",
       "      <td>728</td>\n",
       "      <td>1800</td>\n",
       "      <td>1020</td>\n",
       "      <td>1145</td>\n",
       "      <td>148</td>\n",
       "      <td>56</td>\n",
       "    </tr>\n",
       "    <tr>\n",
       "      <th>23</th>\n",
       "      <td>1274</td>\n",
       "      <td>791</td>\n",
       "      <td>1867</td>\n",
       "      <td>1116</td>\n",
       "      <td>1127</td>\n",
       "      <td>158</td>\n",
       "      <td>51</td>\n",
       "    </tr>\n",
       "    <tr>\n",
       "      <th>24</th>\n",
       "      <td>1305</td>\n",
       "      <td>721</td>\n",
       "      <td>1763</td>\n",
       "      <td>1154</td>\n",
       "      <td>1219</td>\n",
       "      <td>165</td>\n",
       "      <td>55</td>\n",
       "    </tr>\n",
       "    <tr>\n",
       "      <th>25</th>\n",
       "      <td>1303</td>\n",
       "      <td>729</td>\n",
       "      <td>1980</td>\n",
       "      <td>1134</td>\n",
       "      <td>1091</td>\n",
       "      <td>141</td>\n",
       "      <td>51</td>\n",
       "    </tr>\n",
       "    <tr>\n",
       "      <th>26</th>\n",
       "      <td>1257</td>\n",
       "      <td>706</td>\n",
       "      <td>1950</td>\n",
       "      <td>1091</td>\n",
       "      <td>1126</td>\n",
       "      <td>148</td>\n",
       "      <td>55</td>\n",
       "    </tr>\n",
       "    <tr>\n",
       "      <th>27</th>\n",
       "      <td>1231</td>\n",
       "      <td>685</td>\n",
       "      <td>1641</td>\n",
       "      <td>1017</td>\n",
       "      <td>1202</td>\n",
       "      <td>143</td>\n",
       "      <td>58</td>\n",
       "    </tr>\n",
       "    <tr>\n",
       "      <th>28</th>\n",
       "      <td>1268</td>\n",
       "      <td>699</td>\n",
       "      <td>1707</td>\n",
       "      <td>1121</td>\n",
       "      <td>1134</td>\n",
       "      <td>144</td>\n",
       "      <td>52</td>\n",
       "    </tr>\n",
       "    <tr>\n",
       "      <th>29</th>\n",
       "      <td>1269</td>\n",
       "      <td>718</td>\n",
       "      <td>1763</td>\n",
       "      <td>1127</td>\n",
       "      <td>1080</td>\n",
       "      <td>139</td>\n",
       "      <td>54</td>\n",
       "    </tr>\n",
       "    <tr>\n",
       "      <th>30</th>\n",
       "      <td>1311</td>\n",
       "      <td>574</td>\n",
       "      <td>1863</td>\n",
       "      <td>1080</td>\n",
       "      <td>1113</td>\n",
       "      <td>139</td>\n",
       "      <td>58</td>\n",
       "    </tr>\n",
       "    <tr>\n",
       "      <th>31</th>\n",
       "      <td>1214</td>\n",
       "      <td>666</td>\n",
       "      <td>1825</td>\n",
       "      <td>1128</td>\n",
       "      <td>1135</td>\n",
       "      <td>194</td>\n",
       "      <td>59</td>\n",
       "    </tr>\n",
       "    <tr>\n",
       "      <th>32</th>\n",
       "      <td>1210</td>\n",
       "      <td>671</td>\n",
       "      <td>1865</td>\n",
       "      <td>1221</td>\n",
       "      <td>1106</td>\n",
       "      <td>170</td>\n",
       "      <td>55</td>\n",
       "    </tr>\n",
       "    <tr>\n",
       "      <th>33</th>\n",
       "      <td>1298</td>\n",
       "      <td>700</td>\n",
       "      <td>1808</td>\n",
       "      <td>1058</td>\n",
       "      <td>1129</td>\n",
       "      <td>171</td>\n",
       "      <td>54</td>\n",
       "    </tr>\n",
       "    <tr>\n",
       "      <th>34</th>\n",
       "      <td>1231</td>\n",
       "      <td>663</td>\n",
       "      <td>1913</td>\n",
       "      <td>1218</td>\n",
       "      <td>1097</td>\n",
       "      <td>254</td>\n",
       "      <td>58</td>\n",
       "    </tr>\n",
       "    <tr>\n",
       "      <th>35</th>\n",
       "      <td>1245</td>\n",
       "      <td>788</td>\n",
       "      <td>1851</td>\n",
       "      <td>1090</td>\n",
       "      <td>1067</td>\n",
       "      <td>239</td>\n",
       "      <td>56</td>\n",
       "    </tr>\n",
       "    <tr>\n",
       "      <th>36</th>\n",
       "      <td>1252</td>\n",
       "      <td>648</td>\n",
       "      <td>1829</td>\n",
       "      <td>1170</td>\n",
       "      <td>1159</td>\n",
       "      <td>136</td>\n",
       "      <td>56</td>\n",
       "    </tr>\n",
       "    <tr>\n",
       "      <th>37</th>\n",
       "      <td>1284</td>\n",
       "      <td>806</td>\n",
       "      <td>1800</td>\n",
       "      <td>1081</td>\n",
       "      <td>1101</td>\n",
       "      <td>247</td>\n",
       "      <td>52</td>\n",
       "    </tr>\n",
       "    <tr>\n",
       "      <th>38</th>\n",
       "      <td>1293</td>\n",
       "      <td>819</td>\n",
       "      <td>1964</td>\n",
       "      <td>1147</td>\n",
       "      <td>1178</td>\n",
       "      <td>124</td>\n",
       "      <td>54</td>\n",
       "    </tr>\n",
       "    <tr>\n",
       "      <th>39</th>\n",
       "      <td>1251</td>\n",
       "      <td>922</td>\n",
       "      <td>1993</td>\n",
       "      <td>1144</td>\n",
       "      <td>1166</td>\n",
       "      <td>156</td>\n",
       "      <td>56</td>\n",
       "    </tr>\n",
       "    <tr>\n",
       "      <th>40</th>\n",
       "      <td>1233</td>\n",
       "      <td>810</td>\n",
       "      <td>1721</td>\n",
       "      <td>1095</td>\n",
       "      <td>1191</td>\n",
       "      <td>197</td>\n",
       "      <td>55</td>\n",
       "    </tr>\n",
       "    <tr>\n",
       "      <th>41</th>\n",
       "      <td>1302</td>\n",
       "      <td>650</td>\n",
       "      <td>1702</td>\n",
       "      <td>1131</td>\n",
       "      <td>1113</td>\n",
       "      <td>234</td>\n",
       "      <td>58</td>\n",
       "    </tr>\n",
       "    <tr>\n",
       "      <th>42</th>\n",
       "      <td>1254</td>\n",
       "      <td>819</td>\n",
       "      <td>1788</td>\n",
       "      <td>1065</td>\n",
       "      <td>1136</td>\n",
       "      <td>99</td>\n",
       "      <td>56</td>\n",
       "    </tr>\n",
       "    <tr>\n",
       "      <th>43</th>\n",
       "      <td>1282</td>\n",
       "      <td>590</td>\n",
       "      <td>1681</td>\n",
       "      <td>1208</td>\n",
       "      <td>1160</td>\n",
       "      <td>169</td>\n",
       "      <td>56</td>\n",
       "    </tr>\n",
       "    <tr>\n",
       "      <th>44</th>\n",
       "      <td>1241</td>\n",
       "      <td>705</td>\n",
       "      <td>1803</td>\n",
       "      <td>1131</td>\n",
       "      <td>1132</td>\n",
       "      <td>177</td>\n",
       "      <td>54</td>\n",
       "    </tr>\n",
       "    <tr>\n",
       "      <th>45</th>\n",
       "      <td>1242</td>\n",
       "      <td>830</td>\n",
       "      <td>2025</td>\n",
       "      <td>1175</td>\n",
       "      <td>1136</td>\n",
       "      <td>180</td>\n",
       "      <td>58</td>\n",
       "    </tr>\n",
       "    <tr>\n",
       "      <th>46</th>\n",
       "      <td>1197</td>\n",
       "      <td>625</td>\n",
       "      <td>2035</td>\n",
       "      <td>1100</td>\n",
       "      <td>1177</td>\n",
       "      <td>197</td>\n",
       "      <td>55</td>\n",
       "    </tr>\n",
       "    <tr>\n",
       "      <th>47</th>\n",
       "      <td>1276</td>\n",
       "      <td>674</td>\n",
       "      <td>1935</td>\n",
       "      <td>1065</td>\n",
       "      <td>1136</td>\n",
       "      <td>203</td>\n",
       "      <td>54</td>\n",
       "    </tr>\n",
       "    <tr>\n",
       "      <th>48</th>\n",
       "      <td>1246</td>\n",
       "      <td>672</td>\n",
       "      <td>1819</td>\n",
       "      <td>1156</td>\n",
       "      <td>1148</td>\n",
       "      <td>159</td>\n",
       "      <td>55</td>\n",
       "    </tr>\n",
       "  </tbody>\n",
       "</table>\n",
       "</div>"
      ],
      "text/plain": [
       "    Nuclear  Wind  Hydroelectric  Oil and Gas  Coal  Solar  Biomass\n",
       "0      1307   612           1939         1127  1076    126       52\n",
       "1      1288   680           1724         1167  1233    173       57\n",
       "2      1255   721           1961         1170  1193    178       56\n",
       "3      1336   692           1715         1077  1138    112       54\n",
       "4      1238   682           1859         1136  1126    188       55\n",
       "5      1273   752           1920         1197  1105    137       57\n",
       "6      1233   601           2048         1098  1102    172       56\n",
       "7      1337   685           1935         1234  1099    223       53\n",
       "8      1274   771           1896         1149  1182    173       57\n",
       "9      1333   761           1944         1078  1207    189       54\n",
       "10     1261   725           1743         1089  1076    104       56\n",
       "11     1280   587           1797         1028  1166    169       55\n",
       "12     1294   607           2063         1221  1126    139       57\n",
       "13     1292   739           1822         1297  1105    187       50\n",
       "14     1201   664           1892         1000  1117    207       56\n",
       "15     1264   587           2046         1097  1136     95       56\n",
       "16     1268   709           1778         1220  1225    109       54\n",
       "17     1282   758           1601         1212  1130    193       52\n",
       "18     1221   853           2005         1136  1137    133       53\n",
       "19     1235   743           1766         1137  1116    214       53\n",
       "20     1244   721           1820         1099  1125    164       53\n",
       "21     1293   555           1859         1096  1138    234       54\n",
       "22     1325   728           1800         1020  1145    148       56\n",
       "23     1274   791           1867         1116  1127    158       51\n",
       "24     1305   721           1763         1154  1219    165       55\n",
       "25     1303   729           1980         1134  1091    141       51\n",
       "26     1257   706           1950         1091  1126    148       55\n",
       "27     1231   685           1641         1017  1202    143       58\n",
       "28     1268   699           1707         1121  1134    144       52\n",
       "29     1269   718           1763         1127  1080    139       54\n",
       "30     1311   574           1863         1080  1113    139       58\n",
       "31     1214   666           1825         1128  1135    194       59\n",
       "32     1210   671           1865         1221  1106    170       55\n",
       "33     1298   700           1808         1058  1129    171       54\n",
       "34     1231   663           1913         1218  1097    254       58\n",
       "35     1245   788           1851         1090  1067    239       56\n",
       "36     1252   648           1829         1170  1159    136       56\n",
       "37     1284   806           1800         1081  1101    247       52\n",
       "38     1293   819           1964         1147  1178    124       54\n",
       "39     1251   922           1993         1144  1166    156       56\n",
       "40     1233   810           1721         1095  1191    197       55\n",
       "41     1302   650           1702         1131  1113    234       58\n",
       "42     1254   819           1788         1065  1136     99       56\n",
       "43     1282   590           1681         1208  1160    169       56\n",
       "44     1241   705           1803         1131  1132    177       54\n",
       "45     1242   830           2025         1175  1136    180       58\n",
       "46     1197   625           2035         1100  1177    197       55\n",
       "47     1276   674           1935         1065  1136    203       54\n",
       "48     1246   672           1819         1156  1148    159       55"
      ]
     },
     "execution_count": 192,
     "metadata": {},
     "output_type": "execute_result"
    }
   ],
   "source": [
    "# load dataset\n",
    "df = pd.read_csv(r\"raw\\electricity-normal-sample-cleaned.csv\",\n",
    "                 delimiter=\",\")\n",
    "df"
   ]
  },
  {
   "cell_type": "code",
   "execution_count": 193,
   "id": "2249fd3a",
   "metadata": {},
   "outputs": [
    {
     "name": "stdout",
     "output_type": "stream",
     "text": [
      "<class 'pandas.core.frame.DataFrame'>\n",
      "RangeIndex: 49 entries, 0 to 48\n",
      "Data columns (total 7 columns):\n",
      " #   Column         Non-Null Count  Dtype\n",
      "---  ------         --------------  -----\n",
      " 0   Nuclear        49 non-null     int64\n",
      " 1   Wind           49 non-null     int64\n",
      " 2   Hydroelectric  49 non-null     int64\n",
      " 3   Oil and Gas    49 non-null     int64\n",
      " 4   Coal           49 non-null     int64\n",
      " 5   Solar          49 non-null     int64\n",
      " 6   Biomass        49 non-null     int64\n",
      "dtypes: int64(7)\n",
      "memory usage: 2.8 KB\n"
     ]
    }
   ],
   "source": [
    "# summary of dataframe\n",
    "df.info()"
   ]
  },
  {
   "cell_type": "code",
   "execution_count": 194,
   "id": "dbff0322",
   "metadata": {},
   "outputs": [
    {
     "data": {
      "application/vnd.microsoft.datawrangler.viewer.v0+json": {
       "columns": [
        {
         "name": "index",
         "rawType": "object",
         "type": "string"
        },
        {
         "name": "Nuclear",
         "rawType": "float64",
         "type": "float"
        },
        {
         "name": "Wind",
         "rawType": "float64",
         "type": "float"
        },
        {
         "name": "Hydroelectric",
         "rawType": "float64",
         "type": "float"
        },
        {
         "name": "Oil and Gas",
         "rawType": "float64",
         "type": "float"
        },
        {
         "name": "Coal",
         "rawType": "float64",
         "type": "float"
        },
        {
         "name": "Solar",
         "rawType": "float64",
         "type": "float"
        },
        {
         "name": "Biomass",
         "rawType": "float64",
         "type": "float"
        }
       ],
       "conversionMethod": "pd.DataFrame",
       "ref": "9ec44c83-18ee-46f4-bc5c-e7ac9abcca0f",
       "rows": [
        [
         "count",
         "49.0",
         "49.0",
         "49.0",
         "49.0",
         "49.0",
         "49.0",
         "49.0"
        ],
        [
         "mean",
         "1267.408163265306",
         "706.4081632653061",
         "1853.5510204081634",
         "1128.734693877551",
         "1138.0",
         "168.3673469387755",
         "54.91836734693877"
        ],
        [
         "std",
         "34.76223907210412",
         "78.58459305300323",
         "113.12015389702702",
         "62.05467196694517",
         "39.80054438488666",
         "39.04521624430611",
         "2.069991291184152"
        ],
        [
         "min",
         "1197.0",
         "555.0",
         "1601.0",
         "1000.0",
         "1067.0",
         "95.0",
         "50.0"
        ],
        [
         "25%",
         "1242.0",
         "664.0",
         "1778.0",
         "1090.0",
         "1113.0",
         "139.0",
         "54.0"
        ],
        [
         "50%",
         "1268.0",
         "705.0",
         "1851.0",
         "1128.0",
         "1134.0",
         "169.0",
         "55.0"
        ],
        [
         "75%",
         "1293.0",
         "752.0",
         "1939.0",
         "1167.0",
         "1160.0",
         "193.0",
         "56.0"
        ],
        [
         "max",
         "1337.0",
         "922.0",
         "2063.0",
         "1297.0",
         "1233.0",
         "254.0",
         "59.0"
        ]
       ],
       "shape": {
        "columns": 7,
        "rows": 8
       }
      },
      "text/html": [
       "<div>\n",
       "<style scoped>\n",
       "    .dataframe tbody tr th:only-of-type {\n",
       "        vertical-align: middle;\n",
       "    }\n",
       "\n",
       "    .dataframe tbody tr th {\n",
       "        vertical-align: top;\n",
       "    }\n",
       "\n",
       "    .dataframe thead th {\n",
       "        text-align: right;\n",
       "    }\n",
       "</style>\n",
       "<table border=\"1\" class=\"dataframe\">\n",
       "  <thead>\n",
       "    <tr style=\"text-align: right;\">\n",
       "      <th></th>\n",
       "      <th>Nuclear</th>\n",
       "      <th>Wind</th>\n",
       "      <th>Hydroelectric</th>\n",
       "      <th>Oil and Gas</th>\n",
       "      <th>Coal</th>\n",
       "      <th>Solar</th>\n",
       "      <th>Biomass</th>\n",
       "    </tr>\n",
       "  </thead>\n",
       "  <tbody>\n",
       "    <tr>\n",
       "      <th>count</th>\n",
       "      <td>49.000000</td>\n",
       "      <td>49.000000</td>\n",
       "      <td>49.000000</td>\n",
       "      <td>49.000000</td>\n",
       "      <td>49.000000</td>\n",
       "      <td>49.000000</td>\n",
       "      <td>49.000000</td>\n",
       "    </tr>\n",
       "    <tr>\n",
       "      <th>mean</th>\n",
       "      <td>1267.408163</td>\n",
       "      <td>706.408163</td>\n",
       "      <td>1853.551020</td>\n",
       "      <td>1128.734694</td>\n",
       "      <td>1138.000000</td>\n",
       "      <td>168.367347</td>\n",
       "      <td>54.918367</td>\n",
       "    </tr>\n",
       "    <tr>\n",
       "      <th>std</th>\n",
       "      <td>34.762239</td>\n",
       "      <td>78.584593</td>\n",
       "      <td>113.120154</td>\n",
       "      <td>62.054672</td>\n",
       "      <td>39.800544</td>\n",
       "      <td>39.045216</td>\n",
       "      <td>2.069991</td>\n",
       "    </tr>\n",
       "    <tr>\n",
       "      <th>min</th>\n",
       "      <td>1197.000000</td>\n",
       "      <td>555.000000</td>\n",
       "      <td>1601.000000</td>\n",
       "      <td>1000.000000</td>\n",
       "      <td>1067.000000</td>\n",
       "      <td>95.000000</td>\n",
       "      <td>50.000000</td>\n",
       "    </tr>\n",
       "    <tr>\n",
       "      <th>25%</th>\n",
       "      <td>1242.000000</td>\n",
       "      <td>664.000000</td>\n",
       "      <td>1778.000000</td>\n",
       "      <td>1090.000000</td>\n",
       "      <td>1113.000000</td>\n",
       "      <td>139.000000</td>\n",
       "      <td>54.000000</td>\n",
       "    </tr>\n",
       "    <tr>\n",
       "      <th>50%</th>\n",
       "      <td>1268.000000</td>\n",
       "      <td>705.000000</td>\n",
       "      <td>1851.000000</td>\n",
       "      <td>1128.000000</td>\n",
       "      <td>1134.000000</td>\n",
       "      <td>169.000000</td>\n",
       "      <td>55.000000</td>\n",
       "    </tr>\n",
       "    <tr>\n",
       "      <th>75%</th>\n",
       "      <td>1293.000000</td>\n",
       "      <td>752.000000</td>\n",
       "      <td>1939.000000</td>\n",
       "      <td>1167.000000</td>\n",
       "      <td>1160.000000</td>\n",
       "      <td>193.000000</td>\n",
       "      <td>56.000000</td>\n",
       "    </tr>\n",
       "    <tr>\n",
       "      <th>max</th>\n",
       "      <td>1337.000000</td>\n",
       "      <td>922.000000</td>\n",
       "      <td>2063.000000</td>\n",
       "      <td>1297.000000</td>\n",
       "      <td>1233.000000</td>\n",
       "      <td>254.000000</td>\n",
       "      <td>59.000000</td>\n",
       "    </tr>\n",
       "  </tbody>\n",
       "</table>\n",
       "</div>"
      ],
      "text/plain": [
       "           Nuclear        Wind  Hydroelectric  Oil and Gas         Coal  \\\n",
       "count    49.000000   49.000000      49.000000    49.000000    49.000000   \n",
       "mean   1267.408163  706.408163    1853.551020  1128.734694  1138.000000   \n",
       "std      34.762239   78.584593     113.120154    62.054672    39.800544   \n",
       "min    1197.000000  555.000000    1601.000000  1000.000000  1067.000000   \n",
       "25%    1242.000000  664.000000    1778.000000  1090.000000  1113.000000   \n",
       "50%    1268.000000  705.000000    1851.000000  1128.000000  1134.000000   \n",
       "75%    1293.000000  752.000000    1939.000000  1167.000000  1160.000000   \n",
       "max    1337.000000  922.000000    2063.000000  1297.000000  1233.000000   \n",
       "\n",
       "            Solar    Biomass  \n",
       "count   49.000000  49.000000  \n",
       "mean   168.367347  54.918367  \n",
       "std     39.045216   2.069991  \n",
       "min     95.000000  50.000000  \n",
       "25%    139.000000  54.000000  \n",
       "50%    169.000000  55.000000  \n",
       "75%    193.000000  56.000000  \n",
       "max    254.000000  59.000000  "
      ]
     },
     "execution_count": 194,
     "metadata": {},
     "output_type": "execute_result"
    }
   ],
   "source": [
    "# summary of statistics\n",
    "df.describe()"
   ]
  },
  {
   "cell_type": "markdown",
   "id": "81162807",
   "metadata": {},
   "source": [
    "## Nuclear"
   ]
  },
  {
   "cell_type": "code",
   "execution_count": 195,
   "id": "928ae42a",
   "metadata": {},
   "outputs": [],
   "source": [
    "# shapiro-wilk normality test\n",
    "w_stat, p_value = stats.shapiro(df['Nuclear'])"
   ]
  },
  {
   "cell_type": "code",
   "execution_count": 196,
   "id": "fed68232",
   "metadata": {},
   "outputs": [
    {
     "data": {
      "text/plain": [
       "np.float64(0.9853216114308672)"
      ]
     },
     "execution_count": 196,
     "metadata": {},
     "output_type": "execute_result"
    }
   ],
   "source": [
    "# test statistic\n",
    "w_stat"
   ]
  },
  {
   "cell_type": "code",
   "execution_count": 197,
   "id": "3ae522d9",
   "metadata": {},
   "outputs": [
    {
     "data": {
      "text/plain": [
       "np.float64(0.7948249035769892)"
      ]
     },
     "execution_count": 197,
     "metadata": {},
     "output_type": "execute_result"
    }
   ],
   "source": [
    "# probability value\n",
    "p_value"
   ]
  },
  {
   "cell_type": "code",
   "execution_count": 198,
   "id": "452f1ddb",
   "metadata": {},
   "outputs": [
    {
     "name": "stdout",
     "output_type": "stream",
     "text": [
      "Normal data\n"
     ]
    }
   ],
   "source": [
    "# verdict\n",
    "alpha = 0.05\n",
    "if p_value < alpha:\n",
    "    # reject null hypothesis\n",
    "    print(\"Non-normal data\")\n",
    "else:\n",
    "    # fail to reject null hypothesis\n",
    "    print(\"Normal data\")"
   ]
  },
  {
   "cell_type": "code",
   "execution_count": 199,
   "id": "46402ebe",
   "metadata": {},
   "outputs": [
    {
     "data": {
      "image/png": "[encoded data removed]",
      "text/plain": [
       "<Figure size 640x480 with 1 Axes>"
      ]
     },
     "metadata": {},
     "output_type": "display_data"
    }
   ],
   "source": [
    "# nuclear distribution plot\n",
    "plt.hist(df['Nuclear'])\n",
    "plt.title('Nuclear-Type Distribution')\n",
    "plt.show()"
   ]
  },
  {
   "cell_type": "markdown",
   "id": "898f37c3",
   "metadata": {},
   "source": [
    "## Coal"
   ]
  },
  {
   "cell_type": "code",
   "execution_count": 200,
   "id": "b523051c",
   "metadata": {},
   "outputs": [
    {
     "name": "stdout",
     "output_type": "stream",
     "text": [
      "Normal data\n"
     ]
    }
   ],
   "source": [
    "# shapiro-wilk normality test\n",
    "w_stat, p_value = stats.shapiro(df['Coal'])\n",
    "\n",
    "# test statistic\n",
    "w_stat\n",
    "\n",
    "# probability value\n",
    "p_value\n",
    "\n",
    "# verdict\n",
    "alpha = 0.05\n",
    "if p_value < alpha:\n",
    "    # reject null hypothesis\n",
    "    print(\"Non-normal data\")\n",
    "else:\n",
    "    # fail to reject null hypothesis\n",
    "    print(\"Normal data\")"
   ]
  },
  {
   "cell_type": "code",
   "execution_count": 201,
   "id": "12da30de",
   "metadata": {},
   "outputs": [
    {
     "data": {
      "image/png": "[encoded data removed]",
      "text/plain": [
       "<Figure size 640x480 with 1 Axes>"
      ]
     },
     "metadata": {},
     "output_type": "display_data"
    }
   ],
   "source": [
    "# coal distribution plot\n",
    "plt.hist(df['Coal'])\n",
    "plt.title('Coal-Type Distribution')\n",
    "plt.show()"
   ]
  },
  {
   "cell_type": "markdown",
   "id": "b2951e84",
   "metadata": {},
   "source": [
    "# 1-Sample t-Test"
   ]
  },
  {
   "cell_type": "code",
   "execution_count": 202,
   "id": "50143822",
   "metadata": {},
   "outputs": [],
   "source": [
    "# left-tailed test\n",
    "# Ho: u1 >= 1283.78\n",
    "# Ha: u1 < 1283.78\n",
    "pop_mean = 1283.78\n",
    "t_test, p_value = stats.ttest_1samp(df['Nuclear'],pop_mean,\n",
    "                                    alternative='less')\n"
   ]
  },
  {
   "cell_type": "code",
   "execution_count": 203,
   "id": "d8beef93",
   "metadata": {},
   "outputs": [
    {
     "data": {
      "text/plain": [
       "np.float64(-3.2967628151094472)"
      ]
     },
     "execution_count": 203,
     "metadata": {},
     "output_type": "execute_result"
    }
   ],
   "source": [
    "# test statistic\n",
    "t_test"
   ]
  },
  {
   "cell_type": "code",
   "execution_count": 204,
   "id": "4adaf47c",
   "metadata": {},
   "outputs": [
    {
     "data": {
      "text/plain": [
       "np.float64(0.0009226534851885256)"
      ]
     },
     "execution_count": 204,
     "metadata": {},
     "output_type": "execute_result"
    }
   ],
   "source": [
    "# probability value\n",
    "p_value"
   ]
  },
  {
   "cell_type": "code",
   "execution_count": 205,
   "id": "62cc5927",
   "metadata": {},
   "outputs": [
    {
     "name": "stdout",
     "output_type": "stream",
     "text": [
      "Nuclear-type does not meet the electricity production demand.\n"
     ]
    }
   ],
   "source": [
    "# verdict\n",
    "alpha = 0.05\n",
    "if p_value < alpha:\n",
    "    # reject null hypothesis\n",
    "    print(\"Nuclear-type does not meet the electricity production demand.\")\n",
    "else:\n",
    "    # fail to reject null hypothesis\n",
    "    print(\"Nuclear-type meets the electricity production demand.\")"
   ]
  },
  {
   "cell_type": "markdown",
   "id": "d2df4ec3",
   "metadata": {},
   "source": [
    "## Power"
   ]
  },
  {
   "cell_type": "code",
   "execution_count": 206,
   "id": "09732489",
   "metadata": {},
   "outputs": [
    {
     "data": {
      "text/plain": [
       "np.float64(0.5037488226059674)"
      ]
     },
     "execution_count": 206,
     "metadata": {},
     "output_type": "execute_result"
    }
   ],
   "source": [
    "# cohen's d\n",
    "sample_mean = df['Nuclear'].mean()\n",
    "pop_mean = 1283.78\n",
    "pop_std = 32.50\n",
    "\n",
    "d = abs((sample_mean - pop_mean)/pop_std)\n",
    "d"
   ]
  },
  {
   "cell_type": "code",
   "execution_count": 207,
   "id": "8789dd02",
   "metadata": {},
   "outputs": [
    {
     "data": {
      "text/plain": [
       "np.float64(0.9325280905500146)"
      ]
     },
     "execution_count": 207,
     "metadata": {},
     "output_type": "execute_result"
    }
   ],
   "source": [
    "# power of a test\n",
    "power = TTestPower().solve_power(\n",
    "    effect_size = d,\n",
    "    nobs = df['Nuclear'].count(),\n",
    "    alpha = 0.05,\n",
    ")\n",
    "power"
   ]
  },
  {
   "cell_type": "markdown",
   "id": "f819048a",
   "metadata": {},
   "source": [
    "# 2-Sample t-Test"
   ]
  },
  {
   "cell_type": "markdown",
   "id": "6e31baa7",
   "metadata": {},
   "source": [
    "## F-Test"
   ]
  },
  {
   "cell_type": "code",
   "execution_count": 336,
   "id": "e2c424b7",
   "metadata": {},
   "outputs": [
    {
     "data": {
      "text/plain": [
       "np.float64(1.3108788018245099)"
      ]
     },
     "execution_count": 336,
     "metadata": {},
     "output_type": "execute_result"
    }
   ],
   "source": [
    "# nuclear and coal\n",
    "# Ho: var_nuclear = var_coal\n",
    "# Ha: var_nuclear != var_coal\n",
    "var_nuc = df['Nuclear'].var(ddof=1)\n",
    "var_coal = df['Coal'].var(ddof=1)\n",
    "\n",
    "# F-statistic\n",
    "if var_nuc > var_coal:\n",
    "    f_stat = var_nuc/var_coal\n",
    "else:\n",
    "    f_stat = var_coal/var_nuc\n",
    "\n",
    "f_stat"
   ]
  },
  {
   "cell_type": "code",
   "execution_count": 337,
   "id": "502dc530",
   "metadata": {},
   "outputs": [],
   "source": [
    "# Degrees of Freedom\n",
    "dof_nuc = df['Nuclear'].count()-1\n",
    "dof_coal = df['Coal'].count()-1"
   ]
  },
  {
   "cell_type": "code",
   "execution_count": 338,
   "id": "8f7e7096",
   "metadata": {},
   "outputs": [
    {
     "data": {
      "text/plain": [
       "np.float64(0.17581228343899968)"
      ]
     },
     "execution_count": 338,
     "metadata": {},
     "output_type": "execute_result"
    }
   ],
   "source": [
    "# probability value\n",
    "p_value = 1 - stats.f.cdf(f_stat, dof_nuc, dof_coal)\n",
    "p_value"
   ]
  },
  {
   "cell_type": "code",
   "execution_count": 339,
   "id": "e6fff6df",
   "metadata": {},
   "outputs": [
    {
     "name": "stdout",
     "output_type": "stream",
     "text": [
      "equal variances\n"
     ]
    }
   ],
   "source": [
    "# verdict\n",
    "alpha = 0.05\n",
    "if p_value < alpha:\n",
    "    # reject null hypothesis\n",
    "    print(\"unequal variances\")\n",
    "else:\n",
    "    # fail to reject null hypothesis\n",
    "    print(\"equal variances\")"
   ]
  },
  {
   "cell_type": "markdown",
   "id": "d09cf6bc",
   "metadata": {},
   "source": [
    "## Nuclear and Coal"
   ]
  },
  {
   "cell_type": "code",
   "execution_count": 340,
   "id": "b17894ca",
   "metadata": {},
   "outputs": [],
   "source": [
    "# nuclear and coal\n",
    "# Ho: Nuclear <= Coal\n",
    "# Ha: Nuclear > Coal\n",
    "t_stat, p_value = stats.ttest_ind(df['Nuclear'],df['Coal'],\n",
    "                                  alternative='greater',\n",
    "                                  equal_var=True)"
   ]
  },
  {
   "cell_type": "code",
   "execution_count": 341,
   "id": "4ec99d19",
   "metadata": {},
   "outputs": [
    {
     "data": {
      "text/plain": [
       "np.float64(2.847681497008182e-31)"
      ]
     },
     "execution_count": 341,
     "metadata": {},
     "output_type": "execute_result"
    }
   ],
   "source": [
    "# probability value\n",
    "p_value"
   ]
  },
  {
   "cell_type": "code",
   "execution_count": 342,
   "id": "c3f058f1",
   "metadata": {},
   "outputs": [
    {
     "name": "stdout",
     "output_type": "stream",
     "text": [
      "Nuclear-type is better than coal-type.\n"
     ]
    }
   ],
   "source": [
    "# verdict\n",
    "alpha = 0.05\n",
    "if p_value < alpha:\n",
    "    # reject null hypothesis\n",
    "    print(\"Nuclear-type is better than coal-type.\")\n",
    "    # fail to reject null hypothesis\n",
    "else:\n",
    "    print(\"There is no significant difference between nuclear-type and coal-type.\")"
   ]
  },
  {
   "cell_type": "markdown",
   "id": "796ce3d1",
   "metadata": {},
   "source": [
    "# Paired t-Test"
   ]
  },
  {
   "cell_type": "code",
   "execution_count": 343,
   "id": "14d918a4",
   "metadata": {},
   "outputs": [
    {
     "data": {
      "application/vnd.microsoft.datawrangler.viewer.v0+json": {
       "columns": [
        {
         "name": "index",
         "rawType": "int64",
         "type": "integer"
        },
        {
         "name": "Before",
         "rawType": "int64",
         "type": "integer"
        },
        {
         "name": "After",
         "rawType": "int64",
         "type": "integer"
        }
       ],
       "conversionMethod": "pd.DataFrame",
       "ref": "8d11ef97-fa53-48dd-906c-7c1e19101f72",
       "rows": [
        [
         "0",
         "1307",
         "1338"
        ],
        [
         "1",
         "1288",
         "1260"
        ],
        [
         "2",
         "1255",
         "1191"
        ],
        [
         "3",
         "1336",
         "1183"
        ],
        [
         "4",
         "1238",
         "1345"
        ],
        [
         "5",
         "1273",
         "1315"
        ],
        [
         "6",
         "1233",
         "1264"
        ],
        [
         "7",
         "1337",
         "1317"
        ],
        [
         "8",
         "1274",
         "1345"
        ],
        [
         "9",
         "1333",
         "1275"
        ],
        [
         "10",
         "1261",
         "1217"
        ],
        [
         "11",
         "1280",
         "1276"
        ],
        [
         "12",
         "1294",
         "1324"
        ],
        [
         "13",
         "1292",
         "1258"
        ],
        [
         "14",
         "1201",
         "1255"
        ],
        [
         "15",
         "1264",
         "1192"
        ],
        [
         "16",
         "1268",
         "1332"
        ],
        [
         "17",
         "1282",
         "1336"
        ],
        [
         "18",
         "1221",
         "1258"
        ],
        [
         "19",
         "1235",
         "1332"
        ],
        [
         "20",
         "1244",
         "1349"
        ],
        [
         "21",
         "1293",
         "1269"
        ],
        [
         "22",
         "1325",
         "1240"
        ],
        [
         "23",
         "1274",
         "1238"
        ],
        [
         "24",
         "1305",
         "1363"
        ],
        [
         "25",
         "1303",
         "1284"
        ],
        [
         "26",
         "1257",
         "1283"
        ],
        [
         "27",
         "1231",
         "1290"
        ],
        [
         "28",
         "1268",
         "1268"
        ],
        [
         "29",
         "1269",
         "1253"
        ],
        [
         "30",
         "1311",
         "1286"
        ],
        [
         "31",
         "1214",
         "1264"
        ],
        [
         "32",
         "1210",
         "1280"
        ],
        [
         "33",
         "1298",
         "1358"
        ],
        [
         "34",
         "1231",
         "1311"
        ],
        [
         "35",
         "1245",
         "1360"
        ],
        [
         "36",
         "1252",
         "1328"
        ],
        [
         "37",
         "1284",
         "1345"
        ],
        [
         "38",
         "1293",
         "1295"
        ],
        [
         "39",
         "1251",
         "1247"
        ],
        [
         "40",
         "1233",
         "1260"
        ],
        [
         "41",
         "1302",
         "1258"
        ],
        [
         "42",
         "1254",
         "1289"
        ],
        [
         "43",
         "1282",
         "1314"
        ],
        [
         "44",
         "1241",
         "1222"
        ],
        [
         "45",
         "1242",
         "1329"
        ],
        [
         "46",
         "1197",
         "1291"
        ],
        [
         "47",
         "1276",
         "1252"
        ],
        [
         "48",
         "1246",
         "1212"
        ]
       ],
       "shape": {
        "columns": 2,
        "rows": 49
       }
      },
      "text/html": [
       "<div>\n",
       "<style scoped>\n",
       "    .dataframe tbody tr th:only-of-type {\n",
       "        vertical-align: middle;\n",
       "    }\n",
       "\n",
       "    .dataframe tbody tr th {\n",
       "        vertical-align: top;\n",
       "    }\n",
       "\n",
       "    .dataframe thead th {\n",
       "        text-align: right;\n",
       "    }\n",
       "</style>\n",
       "<table border=\"1\" class=\"dataframe\">\n",
       "  <thead>\n",
       "    <tr style=\"text-align: right;\">\n",
       "      <th></th>\n",
       "      <th>Before</th>\n",
       "      <th>After</th>\n",
       "    </tr>\n",
       "  </thead>\n",
       "  <tbody>\n",
       "    <tr>\n",
       "      <th>0</th>\n",
       "      <td>1307</td>\n",
       "      <td>1338</td>\n",
       "    </tr>\n",
       "    <tr>\n",
       "      <th>1</th>\n",
       "      <td>1288</td>\n",
       "      <td>1260</td>\n",
       "    </tr>\n",
       "    <tr>\n",
       "      <th>2</th>\n",
       "      <td>1255</td>\n",
       "      <td>1191</td>\n",
       "    </tr>\n",
       "    <tr>\n",
       "      <th>3</th>\n",
       "      <td>1336</td>\n",
       "      <td>1183</td>\n",
       "    </tr>\n",
       "    <tr>\n",
       "      <th>4</th>\n",
       "      <td>1238</td>\n",
       "      <td>1345</td>\n",
       "    </tr>\n",
       "    <tr>\n",
       "      <th>5</th>\n",
       "      <td>1273</td>\n",
       "      <td>1315</td>\n",
       "    </tr>\n",
       "    <tr>\n",
       "      <th>6</th>\n",
       "      <td>1233</td>\n",
       "      <td>1264</td>\n",
       "    </tr>\n",
       "    <tr>\n",
       "      <th>7</th>\n",
       "      <td>1337</td>\n",
       "      <td>1317</td>\n",
       "    </tr>\n",
       "    <tr>\n",
       "      <th>8</th>\n",
       "      <td>1274</td>\n",
       "      <td>1345</td>\n",
       "    </tr>\n",
       "    <tr>\n",
       "      <th>9</th>\n",
       "      <td>1333</td>\n",
       "      <td>1275</td>\n",
       "    </tr>\n",
       "    <tr>\n",
       "      <th>10</th>\n",
       "      <td>1261</td>\n",
       "      <td>1217</td>\n",
       "    </tr>\n",
       "    <tr>\n",
       "      <th>11</th>\n",
       "      <td>1280</td>\n",
       "      <td>1276</td>\n",
       "    </tr>\n",
       "    <tr>\n",
       "      <th>12</th>\n",
       "      <td>1294</td>\n",
       "      <td>1324</td>\n",
       "    </tr>\n",
       "    <tr>\n",
       "      <th>13</th>\n",
       "      <td>1292</td>\n",
       "      <td>1258</td>\n",
       "    </tr>\n",
       "    <tr>\n",
       "      <th>14</th>\n",
       "      <td>1201</td>\n",
       "      <td>1255</td>\n",
       "    </tr>\n",
       "    <tr>\n",
       "      <th>15</th>\n",
       "      <td>1264</td>\n",
       "      <td>1192</td>\n",
       "    </tr>\n",
       "    <tr>\n",
       "      <th>16</th>\n",
       "      <td>1268</td>\n",
       "      <td>1332</td>\n",
       "    </tr>\n",
       "    <tr>\n",
       "      <th>17</th>\n",
       "      <td>1282</td>\n",
       "      <td>1336</td>\n",
       "    </tr>\n",
       "    <tr>\n",
       "      <th>18</th>\n",
       "      <td>1221</td>\n",
       "      <td>1258</td>\n",
       "    </tr>\n",
       "    <tr>\n",
       "      <th>19</th>\n",
       "      <td>1235</td>\n",
       "      <td>1332</td>\n",
       "    </tr>\n",
       "    <tr>\n",
       "      <th>20</th>\n",
       "      <td>1244</td>\n",
       "      <td>1349</td>\n",
       "    </tr>\n",
       "    <tr>\n",
       "      <th>21</th>\n",
       "      <td>1293</td>\n",
       "      <td>1269</td>\n",
       "    </tr>\n",
       "    <tr>\n",
       "      <th>22</th>\n",
       "      <td>1325</td>\n",
       "      <td>1240</td>\n",
       "    </tr>\n",
       "    <tr>\n",
       "      <th>23</th>\n",
       "      <td>1274</td>\n",
       "      <td>1238</td>\n",
       "    </tr>\n",
       "    <tr>\n",
       "      <th>24</th>\n",
       "      <td>1305</td>\n",
       "      <td>1363</td>\n",
       "    </tr>\n",
       "    <tr>\n",
       "      <th>25</th>\n",
       "      <td>1303</td>\n",
       "      <td>1284</td>\n",
       "    </tr>\n",
       "    <tr>\n",
       "      <th>26</th>\n",
       "      <td>1257</td>\n",
       "      <td>1283</td>\n",
       "    </tr>\n",
       "    <tr>\n",
       "      <th>27</th>\n",
       "      <td>1231</td>\n",
       "      <td>1290</td>\n",
       "    </tr>\n",
       "    <tr>\n",
       "      <th>28</th>\n",
       "      <td>1268</td>\n",
       "      <td>1268</td>\n",
       "    </tr>\n",
       "    <tr>\n",
       "      <th>29</th>\n",
       "      <td>1269</td>\n",
       "      <td>1253</td>\n",
       "    </tr>\n",
       "    <tr>\n",
       "      <th>30</th>\n",
       "      <td>1311</td>\n",
       "      <td>1286</td>\n",
       "    </tr>\n",
       "    <tr>\n",
       "      <th>31</th>\n",
       "      <td>1214</td>\n",
       "      <td>1264</td>\n",
       "    </tr>\n",
       "    <tr>\n",
       "      <th>32</th>\n",
       "      <td>1210</td>\n",
       "      <td>1280</td>\n",
       "    </tr>\n",
       "    <tr>\n",
       "      <th>33</th>\n",
       "      <td>1298</td>\n",
       "      <td>1358</td>\n",
       "    </tr>\n",
       "    <tr>\n",
       "      <th>34</th>\n",
       "      <td>1231</td>\n",
       "      <td>1311</td>\n",
       "    </tr>\n",
       "    <tr>\n",
       "      <th>35</th>\n",
       "      <td>1245</td>\n",
       "      <td>1360</td>\n",
       "    </tr>\n",
       "    <tr>\n",
       "      <th>36</th>\n",
       "      <td>1252</td>\n",
       "      <td>1328</td>\n",
       "    </tr>\n",
       "    <tr>\n",
       "      <th>37</th>\n",
       "      <td>1284</td>\n",
       "      <td>1345</td>\n",
       "    </tr>\n",
       "    <tr>\n",
       "      <th>38</th>\n",
       "      <td>1293</td>\n",
       "      <td>1295</td>\n",
       "    </tr>\n",
       "    <tr>\n",
       "      <th>39</th>\n",
       "      <td>1251</td>\n",
       "      <td>1247</td>\n",
       "    </tr>\n",
       "    <tr>\n",
       "      <th>40</th>\n",
       "      <td>1233</td>\n",
       "      <td>1260</td>\n",
       "    </tr>\n",
       "    <tr>\n",
       "      <th>41</th>\n",
       "      <td>1302</td>\n",
       "      <td>1258</td>\n",
       "    </tr>\n",
       "    <tr>\n",
       "      <th>42</th>\n",
       "      <td>1254</td>\n",
       "      <td>1289</td>\n",
       "    </tr>\n",
       "    <tr>\n",
       "      <th>43</th>\n",
       "      <td>1282</td>\n",
       "      <td>1314</td>\n",
       "    </tr>\n",
       "    <tr>\n",
       "      <th>44</th>\n",
       "      <td>1241</td>\n",
       "      <td>1222</td>\n",
       "    </tr>\n",
       "    <tr>\n",
       "      <th>45</th>\n",
       "      <td>1242</td>\n",
       "      <td>1329</td>\n",
       "    </tr>\n",
       "    <tr>\n",
       "      <th>46</th>\n",
       "      <td>1197</td>\n",
       "      <td>1291</td>\n",
       "    </tr>\n",
       "    <tr>\n",
       "      <th>47</th>\n",
       "      <td>1276</td>\n",
       "      <td>1252</td>\n",
       "    </tr>\n",
       "    <tr>\n",
       "      <th>48</th>\n",
       "      <td>1246</td>\n",
       "      <td>1212</td>\n",
       "    </tr>\n",
       "  </tbody>\n",
       "</table>\n",
       "</div>"
      ],
      "text/plain": [
       "    Before  After\n",
       "0     1307   1338\n",
       "1     1288   1260\n",
       "2     1255   1191\n",
       "3     1336   1183\n",
       "4     1238   1345\n",
       "5     1273   1315\n",
       "6     1233   1264\n",
       "7     1337   1317\n",
       "8     1274   1345\n",
       "9     1333   1275\n",
       "10    1261   1217\n",
       "11    1280   1276\n",
       "12    1294   1324\n",
       "13    1292   1258\n",
       "14    1201   1255\n",
       "15    1264   1192\n",
       "16    1268   1332\n",
       "17    1282   1336\n",
       "18    1221   1258\n",
       "19    1235   1332\n",
       "20    1244   1349\n",
       "21    1293   1269\n",
       "22    1325   1240\n",
       "23    1274   1238\n",
       "24    1305   1363\n",
       "25    1303   1284\n",
       "26    1257   1283\n",
       "27    1231   1290\n",
       "28    1268   1268\n",
       "29    1269   1253\n",
       "30    1311   1286\n",
       "31    1214   1264\n",
       "32    1210   1280\n",
       "33    1298   1358\n",
       "34    1231   1311\n",
       "35    1245   1360\n",
       "36    1252   1328\n",
       "37    1284   1345\n",
       "38    1293   1295\n",
       "39    1251   1247\n",
       "40    1233   1260\n",
       "41    1302   1258\n",
       "42    1254   1289\n",
       "43    1282   1314\n",
       "44    1241   1222\n",
       "45    1242   1329\n",
       "46    1197   1291\n",
       "47    1276   1252\n",
       "48    1246   1212"
      ]
     },
     "execution_count": 343,
     "metadata": {},
     "output_type": "execute_result"
    }
   ],
   "source": [
    "# load dataset\n",
    "df = pd.read_csv(r\"raw\\nuclear-maintenance.csv\",\n",
    "                 delimiter=\",\")\n",
    "df"
   ]
  },
  {
   "cell_type": "code",
   "execution_count": 344,
   "id": "68923fca",
   "metadata": {},
   "outputs": [
    {
     "name": "stdout",
     "output_type": "stream",
     "text": [
      "<class 'pandas.core.frame.DataFrame'>\n",
      "RangeIndex: 49 entries, 0 to 48\n",
      "Data columns (total 2 columns):\n",
      " #   Column  Non-Null Count  Dtype\n",
      "---  ------  --------------  -----\n",
      " 0   Before  49 non-null     int64\n",
      " 1   After   49 non-null     int64\n",
      "dtypes: int64(2)\n",
      "memory usage: 916.0 bytes\n"
     ]
    }
   ],
   "source": [
    "# summary of dataframe\n",
    "df.info()"
   ]
  },
  {
   "cell_type": "code",
   "execution_count": 345,
   "id": "6356a8ab",
   "metadata": {},
   "outputs": [
    {
     "data": {
      "application/vnd.microsoft.datawrangler.viewer.v0+json": {
       "columns": [
        {
         "name": "index",
         "rawType": "object",
         "type": "string"
        },
        {
         "name": "Before",
         "rawType": "float64",
         "type": "float"
        },
        {
         "name": "After",
         "rawType": "float64",
         "type": "float"
        }
       ],
       "conversionMethod": "pd.DataFrame",
       "ref": "7d3b8646-9102-4444-9bdc-f9d3227a5483",
       "rows": [
        [
         "count",
         "49.0",
         "49.0"
        ],
        [
         "mean",
         "1267.408163265306",
         "1284.7142857142858"
        ],
        [
         "std",
         "34.76223907210412",
         "47.05050477943887"
        ],
        [
         "min",
         "1197.0",
         "1183.0"
        ],
        [
         "25%",
         "1242.0",
         "1258.0"
        ],
        [
         "50%",
         "1268.0",
         "1283.0"
        ],
        [
         "75%",
         "1293.0",
         "1328.0"
        ],
        [
         "max",
         "1337.0",
         "1363.0"
        ]
       ],
       "shape": {
        "columns": 2,
        "rows": 8
       }
      },
      "text/html": [
       "<div>\n",
       "<style scoped>\n",
       "    .dataframe tbody tr th:only-of-type {\n",
       "        vertical-align: middle;\n",
       "    }\n",
       "\n",
       "    .dataframe tbody tr th {\n",
       "        vertical-align: top;\n",
       "    }\n",
       "\n",
       "    .dataframe thead th {\n",
       "        text-align: right;\n",
       "    }\n",
       "</style>\n",
       "<table border=\"1\" class=\"dataframe\">\n",
       "  <thead>\n",
       "    <tr style=\"text-align: right;\">\n",
       "      <th></th>\n",
       "      <th>Before</th>\n",
       "      <th>After</th>\n",
       "    </tr>\n",
       "  </thead>\n",
       "  <tbody>\n",
       "    <tr>\n",
       "      <th>count</th>\n",
       "      <td>49.000000</td>\n",
       "      <td>49.000000</td>\n",
       "    </tr>\n",
       "    <tr>\n",
       "      <th>mean</th>\n",
       "      <td>1267.408163</td>\n",
       "      <td>1284.714286</td>\n",
       "    </tr>\n",
       "    <tr>\n",
       "      <th>std</th>\n",
       "      <td>34.762239</td>\n",
       "      <td>47.050505</td>\n",
       "    </tr>\n",
       "    <tr>\n",
       "      <th>min</th>\n",
       "      <td>1197.000000</td>\n",
       "      <td>1183.000000</td>\n",
       "    </tr>\n",
       "    <tr>\n",
       "      <th>25%</th>\n",
       "      <td>1242.000000</td>\n",
       "      <td>1258.000000</td>\n",
       "    </tr>\n",
       "    <tr>\n",
       "      <th>50%</th>\n",
       "      <td>1268.000000</td>\n",
       "      <td>1283.000000</td>\n",
       "    </tr>\n",
       "    <tr>\n",
       "      <th>75%</th>\n",
       "      <td>1293.000000</td>\n",
       "      <td>1328.000000</td>\n",
       "    </tr>\n",
       "    <tr>\n",
       "      <th>max</th>\n",
       "      <td>1337.000000</td>\n",
       "      <td>1363.000000</td>\n",
       "    </tr>\n",
       "  </tbody>\n",
       "</table>\n",
       "</div>"
      ],
      "text/plain": [
       "            Before        After\n",
       "count    49.000000    49.000000\n",
       "mean   1267.408163  1284.714286\n",
       "std      34.762239    47.050505\n",
       "min    1197.000000  1183.000000\n",
       "25%    1242.000000  1258.000000\n",
       "50%    1268.000000  1283.000000\n",
       "75%    1293.000000  1328.000000\n",
       "max    1337.000000  1363.000000"
      ]
     },
     "execution_count": 345,
     "metadata": {},
     "output_type": "execute_result"
    }
   ],
   "source": [
    "# summary of statistics\n",
    "df.describe()"
   ]
  },
  {
   "cell_type": "markdown",
   "id": "ab59fb59",
   "metadata": {},
   "source": [
    "## Data Cleaning"
   ]
  },
  {
   "cell_type": "code",
   "execution_count": 346,
   "id": "fb44ce16",
   "metadata": {},
   "outputs": [
    {
     "data": {
      "image/png": "[encoded data removed]",
      "text/plain": [
       "<Figure size 640x480 with 1 Axes>"
      ]
     },
     "metadata": {},
     "output_type": "display_data"
    }
   ],
   "source": [
    "# check for outliers\n",
    "plt.boxplot(df[['Before','After']],tick_labels=df.columns)\n",
    "plt.title(\"Nuclear Maintenance\")\n",
    "plt.show()"
   ]
  },
  {
   "cell_type": "markdown",
   "id": "3f2e6c57",
   "metadata": {},
   "source": [
    "## F-Test"
   ]
  },
  {
   "cell_type": "code",
   "execution_count": 347,
   "id": "212f4c56",
   "metadata": {},
   "outputs": [
    {
     "data": {
      "text/plain": [
       "np.float64(0.5458670876594568)"
      ]
     },
     "execution_count": 347,
     "metadata": {},
     "output_type": "execute_result"
    }
   ],
   "source": [
    "# before and after\n",
    "# Ho: var_before = var_after\n",
    "# Ha: var_before != var_after\n",
    "var_before = df['Before'].var(ddof=1)\n",
    "var_after = df['After'].var(ddof=1)\n",
    "\n",
    "# F-statistic\n",
    "if var_before > var_after:\n",
    "    f_stat = var_after/var_before\n",
    "else:\n",
    "    f_stat = var_before/var_after\n",
    "\n",
    "f_stat"
   ]
  },
  {
   "cell_type": "code",
   "execution_count": 348,
   "id": "c2ad5a07",
   "metadata": {},
   "outputs": [],
   "source": [
    "# Degrees of Freedom\n",
    "dof_before = df['Before'].count()-1\n",
    "dof_after = df['After'].count()-1"
   ]
  },
  {
   "cell_type": "code",
   "execution_count": 349,
   "id": "f6401ae1",
   "metadata": {},
   "outputs": [
    {
     "data": {
      "text/plain": [
       "np.float64(0.9808055344178614)"
      ]
     },
     "execution_count": 349,
     "metadata": {},
     "output_type": "execute_result"
    }
   ],
   "source": [
    "# probability value\n",
    "p_value = 1 - stats.f.cdf(f_stat, dof_before, dof_after)\n",
    "p_value"
   ]
  },
  {
   "cell_type": "code",
   "execution_count": 350,
   "id": "cb24e473",
   "metadata": {},
   "outputs": [
    {
     "name": "stdout",
     "output_type": "stream",
     "text": [
      "equal variances\n"
     ]
    }
   ],
   "source": [
    "# verdict\n",
    "alpha = 0.05\n",
    "if p_value < alpha:\n",
    "    # reject null hypothesis\n",
    "    print(\"unequal variances\")\n",
    "else:\n",
    "    # fail to reject null hypothesis\n",
    "    print(\"equal variances\")"
   ]
  },
  {
   "cell_type": "markdown",
   "id": "cadf96bc",
   "metadata": {},
   "source": [
    "## Before and After Maintenance"
   ]
  },
  {
   "cell_type": "code",
   "execution_count": 351,
   "id": "f20554e1",
   "metadata": {},
   "outputs": [],
   "source": [
    "# paired t-test\n",
    "t_stat, p_value = stats.ttest_rel(df['Before'],df['After'])"
   ]
  },
  {
   "cell_type": "code",
   "execution_count": 352,
   "id": "3a862bb2",
   "metadata": {},
   "outputs": [
    {
     "data": {
      "text/plain": [
       "np.float64(-2.0989748039152016)"
      ]
     },
     "execution_count": 352,
     "metadata": {},
     "output_type": "execute_result"
    }
   ],
   "source": [
    "# test statistic\n",
    "t_stat"
   ]
  },
  {
   "cell_type": "code",
   "execution_count": 353,
   "id": "2a3422ab",
   "metadata": {},
   "outputs": [
    {
     "data": {
      "text/plain": [
       "np.float64(0.04110381715647232)"
      ]
     },
     "execution_count": 353,
     "metadata": {},
     "output_type": "execute_result"
    }
   ],
   "source": [
    "# probability value\n",
    "p_value"
   ]
  },
  {
   "cell_type": "code",
   "execution_count": 354,
   "id": "d966cf1e",
   "metadata": {},
   "outputs": [
    {
     "name": "stdout",
     "output_type": "stream",
     "text": [
      "There is a significant improvement after the maintenance.\n"
     ]
    }
   ],
   "source": [
    "# verdict\n",
    "alpha = 0.05\n",
    "if p_value < alpha:\n",
    "    # reject null hypothesis\n",
    "    print(\"There is a significant improvement after the maintenance.\")\n",
    "    # fail to reject null hypothesis\n",
    "else:\n",
    "    print(\"There is no significant difference before and after the maintenance.\")"
   ]
  }
 ],
 "metadata": {
  "kernelspec": {
   "display_name": "Python 3",
   "language": "python",
   "name": "python3"
  },
  "language_info": {
   "codemirror_mode": {
    "name": "ipython",
    "version": 3
   },
   "file_extension": ".py",
   "mimetype": "text/x-python",
   "name": "python",
   "nbconvert_exporter": "python",
   "pygments_lexer": "ipython3",
   "version": "3.13.0"
  }
 },
 "nbformat": 4,
 "nbformat_minor": 5
}
