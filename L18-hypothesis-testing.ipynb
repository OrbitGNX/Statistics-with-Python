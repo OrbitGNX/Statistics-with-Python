{
 "cells": [
  {
   "cell_type": "markdown",
   "id": "0129ca4c",
   "metadata": {},
   "source": [
    "#  Hypothesis Testing <hr style=\"border:2.5px solid #126782\"></hr>"
   ]
  },
  {
   "cell_type": "markdown",
   "id": "5882a01f",
   "metadata": {},
   "source": [
    "Data Analyst: Gyro A. Madrona<br>\n",
    "Department: Electrical Engineering"
   ]
  },
  {
   "cell_type": "code",
   "execution_count": 27,
   "id": "58c892e8",
   "metadata": {},
   "outputs": [],
   "source": [
    "#%pip install statsmodels --upgrade"
   ]
  },
  {
   "cell_type": "code",
   "execution_count": 28,
   "id": "a932e4d7",
   "metadata": {},
   "outputs": [],
   "source": [
    "# imports and packages\n",
    "import pandas as pd\n",
    "import numpy as np\n",
    "from scipy import stats\n",
    "from statsmodels.stats.power import TTestPower"
   ]
  },
  {
   "cell_type": "code",
   "execution_count": 29,
   "id": "caa513e6",
   "metadata": {},
   "outputs": [
    {
     "data": {
      "application/vnd.microsoft.datawrangler.viewer.v0+json": {
       "columns": [
        {
         "name": "index",
         "rawType": "int64",
         "type": "integer"
        },
        {
         "name": "Sample",
         "rawType": "int64",
         "type": "integer"
        },
        {
         "name": "Defects",
         "rawType": "int64",
         "type": "integer"
        }
       ],
       "conversionMethod": "pd.DataFrame",
       "ref": "dd379345-63cd-49e3-9213-e8d3a4f11078",
       "rows": [
        [
         "0",
         "1",
         "13"
        ],
        [
         "1",
         "2",
         "12"
        ],
        [
         "2",
         "3",
         "10"
        ],
        [
         "3",
         "4",
         "11"
        ],
        [
         "4",
         "5",
         "10"
        ],
        [
         "5",
         "6",
         "6"
        ],
        [
         "6",
         "7",
         "12"
        ],
        [
         "7",
         "8",
         "12"
        ],
        [
         "8",
         "9",
         "9"
        ],
        [
         "9",
         "10",
         "15"
        ],
        [
         "10",
         "11",
         "9"
        ],
        [
         "11",
         "12",
         "10"
        ],
        [
         "12",
         "13",
         "13"
        ],
        [
         "13",
         "14",
         "13"
        ],
        [
         "14",
         "15",
         "11"
        ],
        [
         "15",
         "16",
         "11"
        ],
        [
         "16",
         "17",
         "9"
        ],
        [
         "17",
         "18",
         "8"
        ],
        [
         "18",
         "19",
         "13"
        ],
        [
         "19",
         "20",
         "14"
        ],
        [
         "20",
         "21",
         "14"
        ],
        [
         "21",
         "22",
         "5"
        ],
        [
         "22",
         "23",
         "12"
        ],
        [
         "23",
         "24",
         "8"
        ],
        [
         "24",
         "25",
         "7"
        ],
        [
         "25",
         "26",
         "12"
        ],
        [
         "26",
         "27",
         "14"
        ],
        [
         "27",
         "28",
         "12"
        ],
        [
         "28",
         "29",
         "11"
        ],
        [
         "29",
         "30",
         "15"
        ]
       ],
       "shape": {
        "columns": 2,
        "rows": 30
       }
      },
      "text/html": [
       "<div>\n",
       "<style scoped>\n",
       "    .dataframe tbody tr th:only-of-type {\n",
       "        vertical-align: middle;\n",
       "    }\n",
       "\n",
       "    .dataframe tbody tr th {\n",
       "        vertical-align: top;\n",
       "    }\n",
       "\n",
       "    .dataframe thead th {\n",
       "        text-align: right;\n",
       "    }\n",
       "</style>\n",
       "<table border=\"1\" class=\"dataframe\">\n",
       "  <thead>\n",
       "    <tr style=\"text-align: right;\">\n",
       "      <th></th>\n",
       "      <th>Sample</th>\n",
       "      <th>Defects</th>\n",
       "    </tr>\n",
       "  </thead>\n",
       "  <tbody>\n",
       "    <tr>\n",
       "      <th>0</th>\n",
       "      <td>1</td>\n",
       "      <td>13</td>\n",
       "    </tr>\n",
       "    <tr>\n",
       "      <th>1</th>\n",
       "      <td>2</td>\n",
       "      <td>12</td>\n",
       "    </tr>\n",
       "    <tr>\n",
       "      <th>2</th>\n",
       "      <td>3</td>\n",
       "      <td>10</td>\n",
       "    </tr>\n",
       "    <tr>\n",
       "      <th>3</th>\n",
       "      <td>4</td>\n",
       "      <td>11</td>\n",
       "    </tr>\n",
       "    <tr>\n",
       "      <th>4</th>\n",
       "      <td>5</td>\n",
       "      <td>10</td>\n",
       "    </tr>\n",
       "    <tr>\n",
       "      <th>5</th>\n",
       "      <td>6</td>\n",
       "      <td>6</td>\n",
       "    </tr>\n",
       "    <tr>\n",
       "      <th>6</th>\n",
       "      <td>7</td>\n",
       "      <td>12</td>\n",
       "    </tr>\n",
       "    <tr>\n",
       "      <th>7</th>\n",
       "      <td>8</td>\n",
       "      <td>12</td>\n",
       "    </tr>\n",
       "    <tr>\n",
       "      <th>8</th>\n",
       "      <td>9</td>\n",
       "      <td>9</td>\n",
       "    </tr>\n",
       "    <tr>\n",
       "      <th>9</th>\n",
       "      <td>10</td>\n",
       "      <td>15</td>\n",
       "    </tr>\n",
       "    <tr>\n",
       "      <th>10</th>\n",
       "      <td>11</td>\n",
       "      <td>9</td>\n",
       "    </tr>\n",
       "    <tr>\n",
       "      <th>11</th>\n",
       "      <td>12</td>\n",
       "      <td>10</td>\n",
       "    </tr>\n",
       "    <tr>\n",
       "      <th>12</th>\n",
       "      <td>13</td>\n",
       "      <td>13</td>\n",
       "    </tr>\n",
       "    <tr>\n",
       "      <th>13</th>\n",
       "      <td>14</td>\n",
       "      <td>13</td>\n",
       "    </tr>\n",
       "    <tr>\n",
       "      <th>14</th>\n",
       "      <td>15</td>\n",
       "      <td>11</td>\n",
       "    </tr>\n",
       "    <tr>\n",
       "      <th>15</th>\n",
       "      <td>16</td>\n",
       "      <td>11</td>\n",
       "    </tr>\n",
       "    <tr>\n",
       "      <th>16</th>\n",
       "      <td>17</td>\n",
       "      <td>9</td>\n",
       "    </tr>\n",
       "    <tr>\n",
       "      <th>17</th>\n",
       "      <td>18</td>\n",
       "      <td>8</td>\n",
       "    </tr>\n",
       "    <tr>\n",
       "      <th>18</th>\n",
       "      <td>19</td>\n",
       "      <td>13</td>\n",
       "    </tr>\n",
       "    <tr>\n",
       "      <th>19</th>\n",
       "      <td>20</td>\n",
       "      <td>14</td>\n",
       "    </tr>\n",
       "    <tr>\n",
       "      <th>20</th>\n",
       "      <td>21</td>\n",
       "      <td>14</td>\n",
       "    </tr>\n",
       "    <tr>\n",
       "      <th>21</th>\n",
       "      <td>22</td>\n",
       "      <td>5</td>\n",
       "    </tr>\n",
       "    <tr>\n",
       "      <th>22</th>\n",
       "      <td>23</td>\n",
       "      <td>12</td>\n",
       "    </tr>\n",
       "    <tr>\n",
       "      <th>23</th>\n",
       "      <td>24</td>\n",
       "      <td>8</td>\n",
       "    </tr>\n",
       "    <tr>\n",
       "      <th>24</th>\n",
       "      <td>25</td>\n",
       "      <td>7</td>\n",
       "    </tr>\n",
       "    <tr>\n",
       "      <th>25</th>\n",
       "      <td>26</td>\n",
       "      <td>12</td>\n",
       "    </tr>\n",
       "    <tr>\n",
       "      <th>26</th>\n",
       "      <td>27</td>\n",
       "      <td>14</td>\n",
       "    </tr>\n",
       "    <tr>\n",
       "      <th>27</th>\n",
       "      <td>28</td>\n",
       "      <td>12</td>\n",
       "    </tr>\n",
       "    <tr>\n",
       "      <th>28</th>\n",
       "      <td>29</td>\n",
       "      <td>11</td>\n",
       "    </tr>\n",
       "    <tr>\n",
       "      <th>29</th>\n",
       "      <td>30</td>\n",
       "      <td>15</td>\n",
       "    </tr>\n",
       "  </tbody>\n",
       "</table>\n",
       "</div>"
      ],
      "text/plain": [
       "    Sample  Defects\n",
       "0        1       13\n",
       "1        2       12\n",
       "2        3       10\n",
       "3        4       11\n",
       "4        5       10\n",
       "5        6        6\n",
       "6        7       12\n",
       "7        8       12\n",
       "8        9        9\n",
       "9       10       15\n",
       "10      11        9\n",
       "11      12       10\n",
       "12      13       13\n",
       "13      14       13\n",
       "14      15       11\n",
       "15      16       11\n",
       "16      17        9\n",
       "17      18        8\n",
       "18      19       13\n",
       "19      20       14\n",
       "20      21       14\n",
       "21      22        5\n",
       "22      23       12\n",
       "23      24        8\n",
       "24      25        7\n",
       "25      26       12\n",
       "26      27       14\n",
       "27      28       12\n",
       "28      29       11\n",
       "29      30       15"
      ]
     },
     "execution_count": 29,
     "metadata": {},
     "output_type": "execute_result"
    }
   ],
   "source": [
    "# load dataset\n",
    "df = pd.read_csv(r\"raw\\defects-30-sample.csv\",\n",
    "                 delimiter=\",\")\n",
    "df"
   ]
  },
  {
   "cell_type": "code",
   "execution_count": 30,
   "id": "cb315a16",
   "metadata": {},
   "outputs": [
    {
     "name": "stdout",
     "output_type": "stream",
     "text": [
      "<class 'pandas.core.frame.DataFrame'>\n",
      "RangeIndex: 30 entries, 0 to 29\n",
      "Data columns (total 2 columns):\n",
      " #   Column   Non-Null Count  Dtype\n",
      "---  ------   --------------  -----\n",
      " 0   Sample   30 non-null     int64\n",
      " 1   Defects  30 non-null     int64\n",
      "dtypes: int64(2)\n",
      "memory usage: 612.0 bytes\n"
     ]
    }
   ],
   "source": [
    "# summary of dataframe\n",
    "df.info()"
   ]
  },
  {
   "cell_type": "code",
   "execution_count": 31,
   "id": "54d3982b",
   "metadata": {},
   "outputs": [
    {
     "data": {
      "application/vnd.microsoft.datawrangler.viewer.v0+json": {
       "columns": [
        {
         "name": "index",
         "rawType": "object",
         "type": "string"
        },
        {
         "name": "Sample",
         "rawType": "float64",
         "type": "float"
        },
        {
         "name": "Defects",
         "rawType": "float64",
         "type": "float"
        }
       ],
       "conversionMethod": "pd.DataFrame",
       "ref": "ea273216-a229-494a-ae50-180d2ce213d9",
       "rows": [
        [
         "count",
         "30.0",
         "30.0"
        ],
        [
         "mean",
         "15.5",
         "11.033333333333333"
        ],
        [
         "std",
         "8.803408430829505",
         "2.5661366821088016"
        ],
        [
         "min",
         "1.0",
         "5.0"
        ],
        [
         "25%",
         "8.25",
         "9.25"
        ],
        [
         "50%",
         "15.5",
         "11.5"
        ],
        [
         "75%",
         "22.75",
         "13.0"
        ],
        [
         "max",
         "30.0",
         "15.0"
        ]
       ],
       "shape": {
        "columns": 2,
        "rows": 8
       }
      },
      "text/html": [
       "<div>\n",
       "<style scoped>\n",
       "    .dataframe tbody tr th:only-of-type {\n",
       "        vertical-align: middle;\n",
       "    }\n",
       "\n",
       "    .dataframe tbody tr th {\n",
       "        vertical-align: top;\n",
       "    }\n",
       "\n",
       "    .dataframe thead th {\n",
       "        text-align: right;\n",
       "    }\n",
       "</style>\n",
       "<table border=\"1\" class=\"dataframe\">\n",
       "  <thead>\n",
       "    <tr style=\"text-align: right;\">\n",
       "      <th></th>\n",
       "      <th>Sample</th>\n",
       "      <th>Defects</th>\n",
       "    </tr>\n",
       "  </thead>\n",
       "  <tbody>\n",
       "    <tr>\n",
       "      <th>count</th>\n",
       "      <td>30.000000</td>\n",
       "      <td>30.000000</td>\n",
       "    </tr>\n",
       "    <tr>\n",
       "      <th>mean</th>\n",
       "      <td>15.500000</td>\n",
       "      <td>11.033333</td>\n",
       "    </tr>\n",
       "    <tr>\n",
       "      <th>std</th>\n",
       "      <td>8.803408</td>\n",
       "      <td>2.566137</td>\n",
       "    </tr>\n",
       "    <tr>\n",
       "      <th>min</th>\n",
       "      <td>1.000000</td>\n",
       "      <td>5.000000</td>\n",
       "    </tr>\n",
       "    <tr>\n",
       "      <th>25%</th>\n",
       "      <td>8.250000</td>\n",
       "      <td>9.250000</td>\n",
       "    </tr>\n",
       "    <tr>\n",
       "      <th>50%</th>\n",
       "      <td>15.500000</td>\n",
       "      <td>11.500000</td>\n",
       "    </tr>\n",
       "    <tr>\n",
       "      <th>75%</th>\n",
       "      <td>22.750000</td>\n",
       "      <td>13.000000</td>\n",
       "    </tr>\n",
       "    <tr>\n",
       "      <th>max</th>\n",
       "      <td>30.000000</td>\n",
       "      <td>15.000000</td>\n",
       "    </tr>\n",
       "  </tbody>\n",
       "</table>\n",
       "</div>"
      ],
      "text/plain": [
       "          Sample    Defects\n",
       "count  30.000000  30.000000\n",
       "mean   15.500000  11.033333\n",
       "std     8.803408   2.566137\n",
       "min     1.000000   5.000000\n",
       "25%     8.250000   9.250000\n",
       "50%    15.500000  11.500000\n",
       "75%    22.750000  13.000000\n",
       "max    30.000000  15.000000"
      ]
     },
     "execution_count": 31,
     "metadata": {},
     "output_type": "execute_result"
    }
   ],
   "source": [
    "# summary of statistics\n",
    "df.describe()"
   ]
  },
  {
   "cell_type": "code",
   "execution_count": 32,
   "id": "db710fe6",
   "metadata": {},
   "outputs": [],
   "source": [
    "# parameters\n",
    "pop_mean = 10.32\n",
    "pop_std = 3.17\n",
    "sample_mean = df['Defects'].mean()\n",
    "n = df['Defects'].count()"
   ]
  },
  {
   "cell_type": "code",
   "execution_count": 33,
   "id": "ede70c73",
   "metadata": {},
   "outputs": [
    {
     "data": {
      "text/plain": [
       "np.float64(1.2325197403375971)"
      ]
     },
     "execution_count": 33,
     "metadata": {},
     "output_type": "execute_result"
    }
   ],
   "source": [
    "# z-score\n",
    "Z_score = (sample_mean-pop_mean)/(pop_std/np.sqrt(n))\n",
    "Z_score"
   ]
  },
  {
   "cell_type": "code",
   "execution_count": 34,
   "id": "c7351420",
   "metadata": {},
   "outputs": [
    {
     "data": {
      "text/plain": [
       "np.float64(0.21775499725951342)"
      ]
     },
     "execution_count": 34,
     "metadata": {},
     "output_type": "execute_result"
    }
   ],
   "source": [
    "# two-tailed test\n",
    "p_value = 2*(1-stats.norm.cdf(Z_score))\n",
    "p_value"
   ]
  },
  {
   "cell_type": "code",
   "execution_count": 35,
   "id": "17fbe595",
   "metadata": {},
   "outputs": [
    {
     "name": "stdout",
     "output_type": "stream",
     "text": [
      "The average defect rate is the same.\n"
     ]
    }
   ],
   "source": [
    "# verdict\n",
    "alpha = 0.05\n",
    "\n",
    "if p_value < alpha:\n",
    "    # reject null hypothesis\n",
    "    print(\"The average defect rate increases to 11.03 units.\")\n",
    "else:\n",
    "    # fail to reject null hypothesis\n",
    "    print(\"The average defect rate is the same.\")"
   ]
  },
  {
   "cell_type": "code",
   "execution_count": 36,
   "id": "336f1c06",
   "metadata": {},
   "outputs": [
    {
     "data": {
      "text/plain": [
       "np.float64(0.10887749862975671)"
      ]
     },
     "execution_count": 36,
     "metadata": {},
     "output_type": "execute_result"
    }
   ],
   "source": [
    "# one-tailed test\n",
    "p_value = 1-stats.norm.cdf(Z_score)\n",
    "p_value"
   ]
  },
  {
   "cell_type": "markdown",
   "id": "734a2293",
   "metadata": {},
   "source": [
    "# Power"
   ]
  },
  {
   "cell_type": "code",
   "execution_count": 37,
   "id": "56c0f94a",
   "metadata": {},
   "outputs": [
    {
     "data": {
      "text/plain": [
       "0.22397476340693978"
      ]
     },
     "execution_count": 37,
     "metadata": {},
     "output_type": "execute_result"
    }
   ],
   "source": [
    "# cohen's d\n",
    "sample_mean = 11.03\n",
    "pop_mean = 10.32\n",
    "pop_std = 3.17\n",
    "\n",
    "cohen_d = abs((sample_mean - pop_mean)/pop_std)\n",
    "cohen_d"
   ]
  },
  {
   "cell_type": "code",
   "execution_count": 38,
   "id": "4532d579",
   "metadata": {},
   "outputs": [
    {
     "data": {
      "text/plain": [
       "np.float64(0.22041216027828034)"
      ]
     },
     "execution_count": 38,
     "metadata": {},
     "output_type": "execute_result"
    }
   ],
   "source": [
    "# power of a test\n",
    "power = TTestPower().power(\n",
    "    effect_size = d,\n",
    "    nobs = 30,\n",
    "    alpha = 0.05,\n",
    ")\n",
    "power"
   ]
  },
  {
   "cell_type": "code",
   "execution_count": 39,
   "id": "5a7410cc",
   "metadata": {},
   "outputs": [
    {
     "data": {
      "text/plain": [
       "158.3933039889269"
      ]
     },
     "execution_count": 39,
     "metadata": {},
     "output_type": "execute_result"
    }
   ],
   "source": [
    "# 80% power sample size\n",
    "sample_80p = TTestPower().solve_power(\n",
    "    effect_size = d,\n",
    "    power= 0.8, # target power\n",
    "    alpha = 0.05,\n",
    ")\n",
    "sample_80p"
   ]
  }
 ],
 "metadata": {
  "kernelspec": {
   "display_name": "Python 3",
   "language": "python",
   "name": "python3"
  },
  "language_info": {
   "codemirror_mode": {
    "name": "ipython",
    "version": 3
   },
   "file_extension": ".py",
   "mimetype": "text/x-python",
   "name": "python",
   "nbconvert_exporter": "python",
   "pygments_lexer": "ipython3",
   "version": "3.13.0"
  }
 },
 "nbformat": 4,
 "nbformat_minor": 5
}
