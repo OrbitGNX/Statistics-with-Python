{
 "cells": [
  {
   "cell_type": "code",
   "execution_count": 1,
   "id": "925b56a2",
   "metadata": {},
   "outputs": [
    {
     "name": "stdout",
     "output_type": "stream",
     "text": [
      "   Nuclear  Wind  Hydroelectric  Oil and Gas  Coal  Solar  Biomass\n",
      "0     1338   895           1815         1168  1129    142       53\n",
      "1     1260   800           1777         1056  1105    216       55\n",
      "2     1191   876           1854         1191  1276    164       58\n",
      "3     1183   571           1627         1186  1192    172       53\n",
      "4     1345   461           1872         1325  1332    140       54\n"
     ]
    }
   ],
   "source": [
    "import pandas as pd\n",
    "import numpy as np\n",
    "\n",
    "# Load the dataset\n",
    "df = pd.read_csv(r'raw\\electricity-sample-dataset.csv')\n",
    "\n",
    "# Initialize a dictionary to store the results\n",
    "means_data = {col: [] for col in df.columns}\n",
    "\n",
    "# Set random seed for reproducibility\n",
    "np.random.seed(42)\n",
    "\n",
    "# Perform the sampling and mean calculation 30 times\n",
    "for _ in range(50):\n",
    "    for col in df.columns:\n",
    "        # Sample 30 random values with replacement\n",
    "        sample = np.random.choice(df[col], size=30, replace=True)\n",
    "        # Calculate mean and store it\n",
    "        means_data[col].append(np.mean(sample).round(0).astype(int))\n",
    "\n",
    "# Create a new DataFrame with the means\n",
    "means_df = pd.DataFrame(means_data)\n",
    "\n",
    "# Display the first few rows of the new dataset\n",
    "print(means_df.head())\n",
    "\n",
    "# Save to a new CSV file if needed\n",
    "means_df.to_csv(r'raw\\electricity-clt-dataset-4.csv', index=False)"
   ]
  },
  {
   "cell_type": "code",
   "execution_count": 2,
   "id": "c8472818",
   "metadata": {},
   "outputs": [
    {
     "name": "stdout",
     "output_type": "stream",
     "text": [
      "<class 'pandas.core.frame.DataFrame'>\n",
      "RangeIndex: 50 entries, 0 to 49\n",
      "Data columns (total 7 columns):\n",
      " #   Column         Non-Null Count  Dtype\n",
      "---  ------         --------------  -----\n",
      " 0   Nuclear        50 non-null     int64\n",
      " 1   Wind           50 non-null     int64\n",
      " 2   Hydroelectric  50 non-null     int64\n",
      " 3   Oil and Gas    50 non-null     int64\n",
      " 4   Coal           50 non-null     int64\n",
      " 5   Solar          50 non-null     int64\n",
      " 6   Biomass        50 non-null     int64\n",
      "dtypes: int64(7)\n",
      "memory usage: 2.9 KB\n"
     ]
    }
   ],
   "source": [
    "means_df.info()"
   ]
  },
  {
   "cell_type": "code",
   "execution_count": 3,
   "id": "d59ebcf1",
   "metadata": {},
   "outputs": [
    {
     "data": {
      "application/vnd.microsoft.datawrangler.viewer.v0+json": {
       "columns": [
        {
         "name": "index",
         "rawType": "object",
         "type": "string"
        },
        {
         "name": "Nuclear",
         "rawType": "float64",
         "type": "float"
        },
        {
         "name": "Wind",
         "rawType": "float64",
         "type": "float"
        },
        {
         "name": "Hydroelectric",
         "rawType": "float64",
         "type": "float"
        },
        {
         "name": "Oil and Gas",
         "rawType": "float64",
         "type": "float"
        },
        {
         "name": "Coal",
         "rawType": "float64",
         "type": "float"
        },
        {
         "name": "Solar",
         "rawType": "float64",
         "type": "float"
        },
        {
         "name": "Biomass",
         "rawType": "float64",
         "type": "float"
        }
       ],
       "conversionMethod": "pd.DataFrame",
       "ref": "92eb1c6d-2ebe-4424-a823-9c8b2fb6aeb0",
       "rows": [
        [
         "count",
         "50.0",
         "50.0",
         "50.0",
         "50.0",
         "50.0",
         "50.0",
         "50.0"
        ],
        [
         "mean",
         "1283.4",
         "763.5",
         "1786.18",
         "1166.64",
         "1155.8",
         "172.34",
         "54.5"
        ],
        [
         "std",
         "47.48619563104844",
         "142.89174580922497",
         "141.4306911818056",
         "84.60973070877986",
         "70.97887009526144",
         "42.741563196609874",
         "2.4264696787804327"
        ],
        [
         "min",
         "1183.0",
         "461.0",
         "1499.0",
         "1002.0",
         "977.0",
         "77.0",
         "48.0"
        ],
        [
         "25%",
         "1255.75",
         "671.25",
         "1698.5",
         "1115.25",
         "1112.25",
         "143.25",
         "53.0"
        ],
        [
         "50%",
         "1281.5",
         "738.5",
         "1792.5",
         "1170.5",
         "1166.0",
         "172.0",
         "55.0"
        ],
        [
         "75%",
         "1327.0",
         "844.0",
         "1884.75",
         "1220.0",
         "1196.5",
         "200.25",
         "56.0"
        ],
        [
         "max",
         "1363.0",
         "1214.0",
         "2093.0",
         "1325.0",
         "1332.0",
         "266.0",
         "60.0"
        ]
       ],
       "shape": {
        "columns": 7,
        "rows": 8
       }
      },
      "text/html": [
       "<div>\n",
       "<style scoped>\n",
       "    .dataframe tbody tr th:only-of-type {\n",
       "        vertical-align: middle;\n",
       "    }\n",
       "\n",
       "    .dataframe tbody tr th {\n",
       "        vertical-align: top;\n",
       "    }\n",
       "\n",
       "    .dataframe thead th {\n",
       "        text-align: right;\n",
       "    }\n",
       "</style>\n",
       "<table border=\"1\" class=\"dataframe\">\n",
       "  <thead>\n",
       "    <tr style=\"text-align: right;\">\n",
       "      <th></th>\n",
       "      <th>Nuclear</th>\n",
       "      <th>Wind</th>\n",
       "      <th>Hydroelectric</th>\n",
       "      <th>Oil and Gas</th>\n",
       "      <th>Coal</th>\n",
       "      <th>Solar</th>\n",
       "      <th>Biomass</th>\n",
       "    </tr>\n",
       "  </thead>\n",
       "  <tbody>\n",
       "    <tr>\n",
       "      <th>count</th>\n",
       "      <td>50.000000</td>\n",
       "      <td>50.000000</td>\n",
       "      <td>50.000000</td>\n",
       "      <td>50.000000</td>\n",
       "      <td>50.00000</td>\n",
       "      <td>50.000000</td>\n",
       "      <td>50.00000</td>\n",
       "    </tr>\n",
       "    <tr>\n",
       "      <th>mean</th>\n",
       "      <td>1283.400000</td>\n",
       "      <td>763.500000</td>\n",
       "      <td>1786.180000</td>\n",
       "      <td>1166.640000</td>\n",
       "      <td>1155.80000</td>\n",
       "      <td>172.340000</td>\n",
       "      <td>54.50000</td>\n",
       "    </tr>\n",
       "    <tr>\n",
       "      <th>std</th>\n",
       "      <td>47.486196</td>\n",
       "      <td>142.891746</td>\n",
       "      <td>141.430691</td>\n",
       "      <td>84.609731</td>\n",
       "      <td>70.97887</td>\n",
       "      <td>42.741563</td>\n",
       "      <td>2.42647</td>\n",
       "    </tr>\n",
       "    <tr>\n",
       "      <th>min</th>\n",
       "      <td>1183.000000</td>\n",
       "      <td>461.000000</td>\n",
       "      <td>1499.000000</td>\n",
       "      <td>1002.000000</td>\n",
       "      <td>977.00000</td>\n",
       "      <td>77.000000</td>\n",
       "      <td>48.00000</td>\n",
       "    </tr>\n",
       "    <tr>\n",
       "      <th>25%</th>\n",
       "      <td>1255.750000</td>\n",
       "      <td>671.250000</td>\n",
       "      <td>1698.500000</td>\n",
       "      <td>1115.250000</td>\n",
       "      <td>1112.25000</td>\n",
       "      <td>143.250000</td>\n",
       "      <td>53.00000</td>\n",
       "    </tr>\n",
       "    <tr>\n",
       "      <th>50%</th>\n",
       "      <td>1281.500000</td>\n",
       "      <td>738.500000</td>\n",
       "      <td>1792.500000</td>\n",
       "      <td>1170.500000</td>\n",
       "      <td>1166.00000</td>\n",
       "      <td>172.000000</td>\n",
       "      <td>55.00000</td>\n",
       "    </tr>\n",
       "    <tr>\n",
       "      <th>75%</th>\n",
       "      <td>1327.000000</td>\n",
       "      <td>844.000000</td>\n",
       "      <td>1884.750000</td>\n",
       "      <td>1220.000000</td>\n",
       "      <td>1196.50000</td>\n",
       "      <td>200.250000</td>\n",
       "      <td>56.00000</td>\n",
       "    </tr>\n",
       "    <tr>\n",
       "      <th>max</th>\n",
       "      <td>1363.000000</td>\n",
       "      <td>1214.000000</td>\n",
       "      <td>2093.000000</td>\n",
       "      <td>1325.000000</td>\n",
       "      <td>1332.00000</td>\n",
       "      <td>266.000000</td>\n",
       "      <td>60.00000</td>\n",
       "    </tr>\n",
       "  </tbody>\n",
       "</table>\n",
       "</div>"
      ],
      "text/plain": [
       "           Nuclear         Wind  Hydroelectric  Oil and Gas        Coal  \\\n",
       "count    50.000000    50.000000      50.000000    50.000000    50.00000   \n",
       "mean   1283.400000   763.500000    1786.180000  1166.640000  1155.80000   \n",
       "std      47.486196   142.891746     141.430691    84.609731    70.97887   \n",
       "min    1183.000000   461.000000    1499.000000  1002.000000   977.00000   \n",
       "25%    1255.750000   671.250000    1698.500000  1115.250000  1112.25000   \n",
       "50%    1281.500000   738.500000    1792.500000  1170.500000  1166.00000   \n",
       "75%    1327.000000   844.000000    1884.750000  1220.000000  1196.50000   \n",
       "max    1363.000000  1214.000000    2093.000000  1325.000000  1332.00000   \n",
       "\n",
       "            Solar   Biomass  \n",
       "count   50.000000  50.00000  \n",
       "mean   172.340000  54.50000  \n",
       "std     42.741563   2.42647  \n",
       "min     77.000000  48.00000  \n",
       "25%    143.250000  53.00000  \n",
       "50%    172.000000  55.00000  \n",
       "75%    200.250000  56.00000  \n",
       "max    266.000000  60.00000  "
      ]
     },
     "execution_count": 3,
     "metadata": {},
     "output_type": "execute_result"
    }
   ],
   "source": [
    "means_df.describe()"
   ]
  }
 ],
 "metadata": {
  "kernelspec": {
   "display_name": "Python 3",
   "language": "python",
   "name": "python3"
  },
  "language_info": {
   "codemirror_mode": {
    "name": "ipython",
    "version": 3
   },
   "file_extension": ".py",
   "mimetype": "text/x-python",
   "name": "python",
   "nbconvert_exporter": "python",
   "pygments_lexer": "ipython3",
   "version": "3.13.0"
  }
 },
 "nbformat": 4,
 "nbformat_minor": 5
}
